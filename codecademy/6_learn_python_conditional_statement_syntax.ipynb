{
 "cells": [
  {
   "cell_type": "markdown",
   "metadata": {},
   "source": [
    "<a style=\"color:red\"> if </a>\n",
    "<p style=\"color:#8c9184\"> If is a conditional statement that executes some specified code after checking if its expression is True.<p/>"
   ]
  },
  {
   "cell_type": "code",
   "execution_count": 1,
   "metadata": {
    "collapsed": true
   },
   "outputs": [],
   "source": [
    "if 9 < 9:\n",
    "    print(\"Eight is less than nine!\")"
   ]
  },
  {
   "cell_type": "code",
   "execution_count": 2,
   "metadata": {},
   "outputs": [
    {
     "name": "stdout",
     "output_type": "stream",
     "text": [
      "Eight is less than nine!\n"
     ]
    }
   ],
   "source": [
    "if 8 < 9:\n",
    "    print(\"Eight is less than nine!\")"
   ]
  },
  {
   "cell_type": "code",
   "execution_count": 4,
   "metadata": {},
   "outputs": [
    {
     "name": "stdout",
     "output_type": "stream",
     "text": [
      "This is the Verbal Abuse Room, you heap of parrot droppings!\n"
     ]
    }
   ],
   "source": [
    "answer = \"Left\"\n",
    "if answer == \"Left\":\n",
    "    print(\"This is the Verbal Abuse Room, you heap of parrot droppings!\")"
   ]
  },
  {
   "cell_type": "code",
   "execution_count": 7,
   "metadata": {},
   "outputs": [
    {
     "name": "stdout",
     "output_type": "stream",
     "text": [
      "if you think not\n"
     ]
    }
   ],
   "source": [
    "response = 'N'\n",
    "if response == 'Y':\n",
    "    print(\"if you think so\")\n",
    "else:\n",
    "    print(\"if you think not\")"
   ]
  },
  {
   "cell_type": "markdown",
   "metadata": {},
   "source": [
    "Looking at the example above, in the event that some_function() returns True, then the indented block of code after it will be executed. In the event that it returns False, then the indented block will be skipped."
   ]
  },
  {
   "cell_type": "code",
   "execution_count": 8,
   "metadata": {
    "collapsed": true
   },
   "outputs": [],
   "source": [
    "def using_control_once():\n",
    "    if True:\n",
    "        return \"Success #1\"\n",
    "\n",
    "def using_control_again():\n",
    "    if True:\n",
    "        return \"Success #2\""
   ]
  },
  {
   "cell_type": "code",
   "execution_count": 9,
   "metadata": {},
   "outputs": [
    {
     "data": {
      "text/plain": [
       "'Success #1'"
      ]
     },
     "execution_count": 9,
     "metadata": {},
     "output_type": "execute_result"
    }
   ],
   "source": [
    "using_control_once()"
   ]
  },
  {
   "cell_type": "code",
   "execution_count": 10,
   "metadata": {},
   "outputs": [
    {
     "name": "stdout",
     "output_type": "stream",
     "text": [
      "Success #2\n"
     ]
    }
   ],
   "source": [
    "print(using_control_again())"
   ]
  },
  {
   "cell_type": "code",
   "execution_count": 11,
   "metadata": {},
   "outputs": [
    {
     "name": "stdout",
     "output_type": "stream",
     "text": [
      "I get printed!\n"
     ]
    }
   ],
   "source": [
    "if 8 > 9:\n",
    "    print(\"I don't printed!\")\n",
    "else:\n",
    "    print(\"I get printed!\")"
   ]
  },
  {
   "cell_type": "code",
   "execution_count": 12,
   "metadata": {
    "collapsed": true
   },
   "outputs": [],
   "source": [
    "answer = \"'Tis but a scratch!\"\n",
    "\n",
    "def black_knight():\n",
    "    if answer == \"'Tis but a scratch!\":\n",
    "        return True\n",
    "    else:             \n",
    "        return False      # Make sure this returns False\n",
    "\n",
    "def french_soldier():\n",
    "    if answer == \"Go away, or I shall taunt you a second time!\":\n",
    "        return True\n",
    "    else:             \n",
    "        return False       # Make sure this returns False"
   ]
  },
  {
   "cell_type": "code",
   "execution_count": 13,
   "metadata": {},
   "outputs": [
    {
     "data": {
      "text/plain": [
       "True"
      ]
     },
     "execution_count": 13,
     "metadata": {},
     "output_type": "execute_result"
    }
   ],
   "source": [
    "black_knight()"
   ]
  },
  {
   "cell_type": "code",
   "execution_count": 14,
   "metadata": {},
   "outputs": [
    {
     "data": {
      "text/plain": [
       "False"
      ]
     },
     "execution_count": 14,
     "metadata": {},
     "output_type": "execute_result"
    }
   ],
   "source": [
    "french_soldier()"
   ]
  },
  {
   "cell_type": "markdown",
   "metadata": {},
   "source": [
    "<a style=\"color:red\"> elif (= else if)</a>\n",
    "<p style=\"color:#8c9184\"> elif is short for \"else if.\" It means exactly what it sounds like: \"otherwise, if the following expression is true, do this!\" <p/>"
   ]
  },
  {
   "cell_type": "code",
   "execution_count": 16,
   "metadata": {},
   "outputs": [
    {
     "name": "stdout",
     "output_type": "stream",
     "text": [
      "I get printed!\n"
     ]
    }
   ],
   "source": [
    "if 8 > 9: #false\n",
    "    print(\"I don't get printed!\")\n",
    "elif 8 < 9:#true\n",
    "    print(\"I get printed!\")\n",
    "else:\n",
    "    print(\"I also don't get printed!\")"
   ]
  },
  {
   "cell_type": "markdown",
   "metadata": {},
   "source": [
    "In the example above, the elif statement is **only checked** <a style=\"color:red\">if the original if statement if False</a>"
   ]
  },
  {
   "cell_type": "code",
   "execution_count": 42,
   "metadata": {},
   "outputs": [
    {
     "name": "stdout",
     "output_type": "stream",
     "text": [
      "'Tis but a scratch!\n"
     ]
    }
   ],
   "source": [
    "print(answer)"
   ]
  },
  {
   "cell_type": "code",
   "execution_count": 18,
   "metadata": {},
   "outputs": [
    {
     "name": "stdout",
     "output_type": "stream",
     "text": [
      "-1\n",
      "0\n",
      "1\n"
     ]
    }
   ],
   "source": [
    "def greater_less_equal_5(answer):\n",
    "    if answer > 5:\n",
    "        return 1\n",
    "    elif answer < 5:          \n",
    "        return -1\n",
    "    else:\n",
    "        return 0\n",
    "        \n",
    "print(greater_less_equal_5(4))\n",
    "print(greater_less_equal_5(5))\n",
    "print(greater_less_equal_5(6))"
   ]
  },
  {
   "cell_type": "markdown",
   "metadata": {},
   "source": [
    "Comparators <br>\n",
    "\n",
    "```\n",
    "3 < 4\n",
    "5 >= 5\n",
    "10 == 10\n",
    "12 != 13\n",
    "```\n",
    "\n",
    "Boolean operators\n",
    "\n",
    "```\n",
    "True or False \n",
    "(3 < 4) and (5 >= 5)\n",
    "this() and not that()\n",
    "```\n",
    "\n",
    "Conditional statements\n",
    "\n",
    "```\n",
    "if this_might_be_true():\n",
    "  print \"This really is true.\"\n",
    "elif that_might_be_true():\n",
    "  print \"That is true.\"\n",
    "else:\n",
    "  print \"None of the above.\"\n",
    "```"
   ]
  },
  {
   "cell_type": "code",
   "execution_count": 53,
   "metadata": {},
   "outputs": [
    {
     "data": {
      "text/plain": [
       "'later..'"
      ]
     },
     "execution_count": 53,
     "metadata": {},
     "output_type": "execute_result"
    }
   ],
   "source": [
    "# input_number = input(\"please write the number!: \")\n",
    "# Make sure that the_flying_circus() returns True\n",
    "def the_flying_circus(input_number):\n",
    "    if input_number < 6:    # Start coding here!\n",
    "        # Don't forget to indent\n",
    "        # the code inside this block!\n",
    "        return \"circus\"\n",
    "    elif input_number > 6:\n",
    "        # Keep going here.\n",
    "        # You'll want to add the else statement, too!\n",
    "        return \"next circus\"\n",
    "    else:\n",
    "        return \"later..\"\n",
    "the_flying_circus(6)\n",
    "# the_flying_circus()\n",
    "# the_flying_circus()"
   ]
  },
  {
   "cell_type": "code",
   "execution_count": 20,
   "metadata": {
    "scrolled": true
   },
   "outputs": [
    {
     "name": "stdout",
     "output_type": "stream",
     "text": [
      "please write the number1\n"
     ]
    },
    {
     "data": {
      "text/plain": [
       "'1'"
      ]
     },
     "execution_count": 20,
     "metadata": {},
     "output_type": "execute_result"
    }
   ],
   "source": [
    "input(\"please write the number\")"
   ]
  },
  {
   "cell_type": "code",
   "execution_count": 43,
   "metadata": {
    "collapsed": true
   },
   "outputs": [],
   "source": [
    "def the_flying_circus():\n",
    "    if 5>4 and 4>3:\n",
    "        return True\n",
    "    elif 3 ==3:\n",
    "        return False\n",
    "    else:\n",
    "        return False"
   ]
  },
  {
   "cell_type": "code",
   "execution_count": 44,
   "metadata": {},
   "outputs": [
    {
     "data": {
      "text/plain": [
       "True"
      ]
     },
     "execution_count": 44,
     "metadata": {},
     "output_type": "execute_result"
    }
   ],
   "source": [
    "the_flying_circus()"
   ]
  },
  {
   "cell_type": "code",
   "execution_count": null,
   "metadata": {
    "collapsed": true
   },
   "outputs": [],
   "source": []
  }
 ],
 "metadata": {
  "kernelspec": {
   "display_name": "Python 3",
   "language": "python",
   "name": "python3"
  },
  "language_info": {
   "codemirror_mode": {
    "name": "ipython",
    "version": 3
   },
   "file_extension": ".py",
   "mimetype": "text/x-python",
   "name": "python",
   "nbconvert_exporter": "python",
   "pygments_lexer": "ipython3",
   "version": "3.6.1"
  }
 },
 "nbformat": 4,
 "nbformat_minor": 2
}
