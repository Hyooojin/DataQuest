{
 "cells": [
  {
   "cell_type": "code",
   "execution_count": 1,
   "metadata": {},
   "outputs": [
    {
     "name": "stdout",
     "output_type": "stream",
     "text": [
      "What's your name?hyojin\n",
      "hyojin\n"
     ]
    }
   ],
   "source": [
    "name = input(\"What's your name?\")\n",
    "print(name)"
   ]
  },
  {
   "cell_type": "code",
   "execution_count": 5,
   "metadata": {},
   "outputs": [
    {
     "name": "stdout",
     "output_type": "stream",
     "text": [
      "empty\n"
     ]
    }
   ],
   "source": [
    "empty_string = \"\"\n",
    "if len(empty_string) > 0:\n",
    "    print(len(empty_string))\n",
    "else:\n",
    "    print(\"empty\")"
   ]
  },
  {
   "cell_type": "code",
   "execution_count": 12,
   "metadata": {},
   "outputs": [
    {
     "name": "stdout",
     "output_type": "stream",
     "text": [
      "Enter a word: 1234\n",
      "1234\n",
      "4\n"
     ]
    }
   ],
   "source": [
    "original = input(\"Enter a word: \")\n",
    "print(original)\n",
    "\n",
    "if len(original) > 0:\n",
    "    print(len(original))\n",
    "else:\n",
    "    print(\"empty\")"
   ]
  },
  {
   "cell_type": "markdown",
   "metadata": {},
   "source": [
    ".isalpha() which returns False since the string contains non-letter characters"
   ]
  },
  {
   "cell_type": "code",
   "execution_count": 10,
   "metadata": {},
   "outputs": [
    {
     "data": {
      "text/plain": [
       "False"
      ]
     },
     "execution_count": 10,
     "metadata": {},
     "output_type": "execute_result"
    }
   ],
   "source": [
    "x = \"J123\"\n",
    "x.isalpha()"
   ]
  },
  {
   "cell_type": "markdown",
   "metadata": {},
   "source": [
    "Use and to add a second condition to your if statement. In addition to your <a style=\"color:red\">existing check that the string contains characters</a>, you should also use <a style=\"color:red\">.isalpha() to make sure that it only contains letters</a>."
   ]
  },
  {
   "cell_type": "code",
   "execution_count": 13,
   "metadata": {},
   "outputs": [
    {
     "name": "stdout",
     "output_type": "stream",
     "text": [
      "Enter a word: 1234\n",
      "1234\n",
      "empty\n"
     ]
    }
   ],
   "source": [
    "original = input(\"Enter a word: \") #1234\n",
    "print(original)\n",
    "\n",
    "if len(original) > 0 and original.isalpha():\n",
    "    print(len(original))\n",
    "else:\n",
    "    print(\"empty\")"
   ]
  },
  {
   "cell_type": "markdown",
   "metadata": {},
   "source": [
    "Now we can get ready to start translating to Pig Latin! Let's review the rules for translation: <br>\n",
    "You move the first letter of the word to the end and then append the suffix 'ay'. Example: python -> ythonpay"
   ]
  },
  {
   "cell_type": "code",
   "execution_count": 14,
   "metadata": {
    "collapsed": true
   },
   "outputs": [],
   "source": [
    "pyg = 'ay'"
   ]
  },
  {
   "cell_type": "code",
   "execution_count": 15,
   "metadata": {},
   "outputs": [
    {
     "name": "stdout",
     "output_type": "stream",
     "text": [
      "hello\n"
     ]
    }
   ],
   "source": [
    "the_string = \"Hello\"\n",
    "the_string = the_string.lower()\n",
    "print(the_string)"
   ]
  },
  {
   "cell_type": "code",
   "execution_count": 16,
   "metadata": {
    "collapsed": true
   },
   "outputs": [],
   "source": [
    "first_letter = the_string[0]\n",
    "second_letter = the_string[1]\n",
    "third_letter = the_string[2]"
   ]
  },
  {
   "cell_type": "code",
   "execution_count": 19,
   "metadata": {},
   "outputs": [
    {
     "name": "stdout",
     "output_type": "stream",
     "text": [
      "Hello D. Y.\n"
     ]
    }
   ],
   "source": [
    "greeting = \"Hello \"\n",
    "name = \"D. Y.\"\n",
    "welcome = greeting + name\n",
    "print(welcome)"
   ]
  },
  {
   "cell_type": "code",
   "execution_count": 21,
   "metadata": {},
   "outputs": [
    {
     "name": "stdout",
     "output_type": "stream",
     "text": [
      "C\n",
      "har\n"
     ]
    }
   ],
   "source": [
    "s = \"Charlie\"\n",
    "print(s[0])\n",
    "print(s[1:4])"
   ]
  },
  {
   "cell_type": "code",
   "execution_count": 20,
   "metadata": {},
   "outputs": [
    {
     "name": "stdout",
     "output_type": "stream",
     "text": [
      "Enter a word: Original\n",
      "Original\n",
      "8\n",
      "originaloay\n"
     ]
    }
   ],
   "source": [
    "original = input(\"Enter a word: \") #1234\n",
    "print(original)\n",
    "\n",
    "if len(original) > 0 and original.isalpha():\n",
    "    print(len(original))\n",
    "    word = original.lower()\n",
    "    first = word[0]\n",
    "\n",
    "else:\n",
    "    print(\"empty\")\n",
    "    \n",
    "new_word = word + first + pyg\n",
    "print(new_word)"
   ]
  },
  {
   "cell_type": "code",
   "execution_count": 23,
   "metadata": {},
   "outputs": [
    {
     "name": "stdout",
     "output_type": "stream",
     "text": [
      "originaloay\n",
      "riginaloay\n"
     ]
    }
   ],
   "source": [
    "print(new_word)\n",
    "print(new_word[1:len(new_word)])"
   ]
  },
  {
   "cell_type": "code",
   "execution_count": null,
   "metadata": {
    "collapsed": true
   },
   "outputs": [],
   "source": []
  }
 ],
 "metadata": {
  "kernelspec": {
   "display_name": "Python 3",
   "language": "python",
   "name": "python3"
  },
  "language_info": {
   "codemirror_mode": {
    "name": "ipython",
    "version": 3
   },
   "file_extension": ".py",
   "mimetype": "text/x-python",
   "name": "python",
   "nbconvert_exporter": "python",
   "pygments_lexer": "ipython3",
   "version": "3.6.1"
  }
 },
 "nbformat": 4,
 "nbformat_minor": 2
}
