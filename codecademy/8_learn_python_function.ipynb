{
 "cells": [
  {
   "cell_type": "markdown",
   "metadata": {},
   "source": [
    "# <a style=\"color:red\"> funtion </a>\n",
    "You might have considered the situation where you would like to <a style=\"color:red\">reuse a piece of code, just with a few different values.</a>\n",
    "<p style=\"color:#8c9184\"> Instead of rewriting the whole code, it's much cleaner to define a function, which can then be used repeatedly. <p/>"
   ]
  },
  {
   "cell_type": "code",
   "execution_count": 1,
   "metadata": {},
   "outputs": [],
   "source": [
    "# There are no parameters\n",
    "def hello_world(): \n",
    "    \"\"\"Prints 'Hello World!' to the console.\"\"\"\n",
    "    print(\"Hello World!\")"
   ]
  },
  {
   "cell_type": "code",
   "execution_count": 2,
   "metadata": {},
   "outputs": [
    {
     "name": "stdout",
     "output_type": "stream",
     "text": [
      "Hello World!\n"
     ]
    }
   ],
   "source": [
    "hello_world()"
   ]
  },
  {
   "cell_type": "code",
   "execution_count": 3,
   "metadata": {},
   "outputs": [],
   "source": [
    "def spam():\n",
    "    print(\"Eggs!\")"
   ]
  },
  {
   "cell_type": "code",
   "execution_count": 4,
   "metadata": {},
   "outputs": [
    {
     "name": "stdout",
     "output_type": "stream",
     "text": [
      "Eggs!\n"
     ]
    }
   ],
   "source": [
    "spam()"
   ]
  },
  {
   "cell_type": "markdown",
   "metadata": {},
   "source": [
    "### <a style=\"color:orange\"> Call and Response </a>\n",
    "After defining a function, it must be called to be implemented. "
   ]
  },
  {
   "cell_type": "code",
   "execution_count": 5,
   "metadata": {
    "collapsed": true
   },
   "outputs": [],
   "source": [
    "def square(n):\n",
    "    \"\"\"Returns the square of number.\"\"\"\n",
    "    squared = n ** 2\n",
    "    print(\"%d squared is %d.\" % (n, squared))\n",
    "    return squared"
   ]
  },
  {
   "cell_type": "code",
   "execution_count": 6,
   "metadata": {},
   "outputs": [
    {
     "name": "stdout",
     "output_type": "stream",
     "text": [
      "4 squared is 16.\n"
     ]
    },
    {
     "data": {
      "text/plain": [
       "16"
      ]
     },
     "execution_count": 6,
     "metadata": {},
     "output_type": "execute_result"
    }
   ],
   "source": [
    "square(4)"
   ]
  },
  {
   "cell_type": "markdown",
   "metadata": {},
   "source": [
    "### <a style=\"color:orange\"> Parameters and Arguments </a>\n",
    "n is a parameter of square. A parameter acts as a variable name for a passed in argument. With the previous example, we called square with the argument 10. In this instance the function was called, n holds the value 10.\n",
    "> n은 정사각형의 매개 변수입니다. 매개 변수는 전달 된 인수에 대한 변수 이름의 역할을합니다. 이전 예에서 인수 10을 사용하여 square를 호출했습니다.이 인스턴스에서 함수가 호출되었으며 n은 값 10을 보유합니다.\n",
    "\n",
    "A function can require as many parameters as you'd like, but when you call the function, you should generally pass in a matching number of arguments.\n",
    "> 함수는 원하는만큼의 매개 변수를 요구할 수 있지만 함수를 호출 할 때 일반적으로 일치하는 인수 수를 전달해야합니다."
   ]
  },
  {
   "cell_type": "code",
   "execution_count": 7,
   "metadata": {},
   "outputs": [
    {
     "name": "stdout",
     "output_type": "stream",
     "text": [
      "37 to the power of 4 is 1874161.\n"
     ]
    }
   ],
   "source": [
    "def power(base, exponent):  # Add your parameters here!\n",
    "  result = base ** exponent\n",
    "  print(\"%d to the power of %d is %d.\" % (base, exponent, result)\n",
    ")\n",
    "power(37, 4)  # Add your arguments here!"
   ]
  },
  {
   "cell_type": "markdown",
   "metadata": {},
   "source": [
    "We've seen functions that can print text or do simple arithmetic, but functions can be much more powerful than that. For example, a function can call another function:\n",
    "> 함수는 다른 함수를 호출 할 수 있습니다"
   ]
  },
  {
   "cell_type": "code",
   "execution_count": 8,
   "metadata": {
    "collapsed": true
   },
   "outputs": [],
   "source": [
    "def fun_one(n):\n",
    "    return n * 5"
   ]
  },
  {
   "cell_type": "code",
   "execution_count": 9,
   "metadata": {},
   "outputs": [
    {
     "data": {
      "text/plain": [
       "25"
      ]
     },
     "execution_count": 9,
     "metadata": {},
     "output_type": "execute_result"
    }
   ],
   "source": [
    "fun_one(5)"
   ]
  },
  {
   "cell_type": "code",
   "execution_count": 10,
   "metadata": {
    "collapsed": true
   },
   "outputs": [],
   "source": [
    "def fun_two(m):\n",
    "    return fun_one(m) + 7"
   ]
  },
  {
   "cell_type": "code",
   "execution_count": 11,
   "metadata": {},
   "outputs": [
    {
     "data": {
      "text/plain": [
       "42"
      ]
     },
     "execution_count": 11,
     "metadata": {},
     "output_type": "execute_result"
    }
   ],
   "source": [
    "fun_two(7)"
   ]
  },
  {
   "cell_type": "code",
   "execution_count": 12,
   "metadata": {
    "collapsed": true
   },
   "outputs": [],
   "source": [
    "def one_good_turn(n):\n",
    "    return n + 1"
   ]
  },
  {
   "cell_type": "code",
   "execution_count": 13,
   "metadata": {
    "collapsed": true
   },
   "outputs": [],
   "source": [
    "def deservers_another(n):\n",
    "    return one_good_turn(n) + 2"
   ]
  },
  {
   "cell_type": "code",
   "execution_count": 14,
   "metadata": {},
   "outputs": [
    {
     "data": {
      "text/plain": [
       "5"
      ]
     },
     "execution_count": 14,
     "metadata": {},
     "output_type": "execute_result"
    }
   ],
   "source": [
    "deservers_another(2)"
   ]
  },
  {
   "cell_type": "code",
   "execution_count": 15,
   "metadata": {
    "collapsed": true
   },
   "outputs": [],
   "source": [
    "def shout(phrase):\n",
    "    if phrase == phrase.upper():\n",
    "        return \"YOU'RE SHOUTING!\"\n",
    "    else:\n",
    "        return \"Can you speak up?\""
   ]
  },
  {
   "cell_type": "code",
   "execution_count": 16,
   "metadata": {},
   "outputs": [
    {
     "data": {
      "text/plain": [
       "\"YOU'RE SHOUTING!\""
      ]
     },
     "execution_count": 16,
     "metadata": {},
     "output_type": "execute_result"
    }
   ],
   "source": [
    "shout(\"I'M INTERESTED IN SHOUTING\")"
   ]
  },
  {
   "cell_type": "code",
   "execution_count": 17,
   "metadata": {},
   "outputs": [
    {
     "data": {
      "text/plain": [
       "'Can you speak up?'"
      ]
     },
     "execution_count": 17,
     "metadata": {},
     "output_type": "execute_result"
    }
   ],
   "source": [
    "shout(\"I'm interested in shouting\")"
   ]
  },
  {
   "cell_type": "code",
   "execution_count": 18,
   "metadata": {},
   "outputs": [
    {
     "name": "stdout",
     "output_type": "stream",
     "text": [
      "I'M NOT GOOD\n"
     ]
    }
   ],
   "source": [
    "phrase = \"I'm not good\"\n",
    "print(phrase.upper())"
   ]
  },
  {
   "cell_type": "markdown",
   "metadata": {},
   "source": [
    "Make that function return the cube of that number (i.e. that number multiplied by itself and multiplied by itself once again).\n",
    "<br>\n",
    "\n",
    "Define a second function called by_three that takes an argument called number.\n",
    "\n",
    "if that number is divisible by 3, by_three should call cube(number) and return its result. Otherwise, by_three should return False.\n"
   ]
  },
  {
   "cell_type": "code",
   "execution_count": 19,
   "metadata": {
    "collapsed": true
   },
   "outputs": [],
   "source": [
    "def cube(number):\n",
    "    return number * number * number"
   ]
  },
  {
   "cell_type": "code",
   "execution_count": 20,
   "metadata": {
    "collapsed": true
   },
   "outputs": [],
   "source": [
    "def by_three(number):\n",
    "    if number% 3 == 0:\n",
    "        return cube(number)\n",
    "    else:\n",
    "        return False"
   ]
  },
  {
   "cell_type": "code",
   "execution_count": 21,
   "metadata": {},
   "outputs": [
    {
     "data": {
      "text/plain": [
       "27"
      ]
     },
     "execution_count": 21,
     "metadata": {},
     "output_type": "execute_result"
    }
   ],
   "source": [
    "by_three(3)"
   ]
  },
  {
   "cell_type": "code",
   "execution_count": 22,
   "metadata": {
    "scrolled": true
   },
   "outputs": [
    {
     "data": {
      "text/plain": [
       "216"
      ]
     },
     "execution_count": 22,
     "metadata": {},
     "output_type": "execute_result"
    }
   ],
   "source": [
    "by_three(6)"
   ]
  },
  {
   "cell_type": "markdown",
   "metadata": {},
   "source": [
    "### <a style=\"color:orange\"> Generic Import </a>\n",
    "you simply import a module this way, it's called a generic import."
   ]
  },
  {
   "cell_type": "code",
   "execution_count": 23,
   "metadata": {
    "collapsed": true
   },
   "outputs": [],
   "source": [
    "import math"
   ]
  },
  {
   "cell_type": "code",
   "execution_count": 24,
   "metadata": {},
   "outputs": [
    {
     "data": {
      "text/plain": [
       "1.7320508075688772"
      ]
     },
     "execution_count": 24,
     "metadata": {},
     "output_type": "execute_result"
    }
   ],
   "source": [
    "math.sqrt(3)"
   ]
  },
  {
   "cell_type": "markdown",
   "metadata": {},
   "source": [
    "### <a style=\"color:orange\"> Function Import </a>\n",
    "It's possible **to import only certain variables or functions from a given module**. Pulling in just a single function from a module is called a function import, and it's done with the from keyword:\n",
    "\n",
    "<a style=\"color:red\">from module import function</a> <br>\n",
    "no more math.sqrt() just sqrt()"
   ]
  },
  {
   "cell_type": "code",
   "execution_count": 25,
   "metadata": {},
   "outputs": [
    {
     "name": "stdout",
     "output_type": "stream",
     "text": [
      "2.23606797749979\n"
     ]
    }
   ],
   "source": [
    "from math import sqrt\n",
    "print(sqrt(5))"
   ]
  },
  {
   "cell_type": "markdown",
   "metadata": {},
   "source": [
    "### <a style=\"color:orange\"> Universal Import </a>\n",
    "What if we still want all of the variables and functions in a module but don't want to have to constantly type math.?\n",
    "\n",
    "Universal import can handle this for you. The syntax for this is. <br>\n",
    "<br>\n",
    "<a style=\"color:red\">from math import * </a>\n",
    "<br>\n",
    "Universal imports may look great on the surface, but they're not a good idea for one very important reason: \n",
    "<br>\n",
    "they fill your program with a ton of variable and function names without the safety of those names still being associated with the module(s) they came from.<br>\n",
    "\n",
    "If you have a function of your very own named sqrt and you import math, your function is safe: there is your <a style=\"color:red\">sqrt and there is math.sqrt</a>. If you do from math import \\*, however, you have a problem: namely, <a style=\"color:red\">two different functions with the exact same name</a>. <br>\n",
    "\n",
    "Even if your own definitions don't directly conflict with names from imported modules, if you import * from several modules at once, <a style=\"color:red\">you won't be able to figure out which variable or function came from where</a>.\n",
    "> 자신의 정의가 가져온 모듈의 이름과 직접 충돌하지 않더라도 여러 모듈에서 *를 한 번에 가져 오면 어떤 변수 또는 함수가 어디에서 왔는지 파악할 수 없습니다.\n",
    "\n",
    "<br>\n",
    "For these reasons, it's best to stick with either `import module` and type `module.name` or just `import` specific variables and functions from various modules as needed.\n",
    "> import 모듈과 module.name을 사용하거나 필요에 따라 다양한 모듈에서 특정 변수와 함수를 가져 오는 것이 가장 좋습니다.\n"
   ]
  },
  {
   "cell_type": "code",
   "execution_count": 28,
   "metadata": {},
   "outputs": [],
   "source": [
    "# Import *everything* from the math module on line 3!\n",
    "\n",
    "from math import *"
   ]
  },
  {
   "cell_type": "code",
   "execution_count": 30,
   "metadata": {},
   "outputs": [
    {
     "name": "stdout",
     "output_type": "stream",
     "text": [
      "['__doc__', '__loader__', '__name__', '__package__', '__spec__', 'acos', 'acosh', 'asin', 'asinh', 'atan', 'atan2', 'atanh', 'ceil', 'copysign', 'cos', 'cosh', 'degrees', 'e', 'erf', 'erfc', 'exp', 'expm1', 'fabs', 'factorial', 'floor', 'fmod', 'frexp', 'fsum', 'gamma', 'gcd', 'hypot', 'inf', 'isclose', 'isfinite', 'isinf', 'isnan', 'ldexp', 'lgamma', 'log', 'log10', 'log1p', 'log2', 'modf', 'nan', 'pi', 'pow', 'radians', 'sin', 'sinh', 'sqrt', 'tan', 'tanh', 'tau', 'trunc']\n"
     ]
    }
   ],
   "source": [
    "import math # Imports the math module\n",
    "everything = dir(math) # Sets everything to a list of things from math\n",
    "print(everything) # Prints 'em all!"
   ]
  },
  {
   "cell_type": "markdown",
   "metadata": {},
   "source": [
    "### <a style=\"color:orange\"> The functions that are built in to Python </a>\n",
    "\n",
    "no modules required!! <br>\n",
    "내장함수 <br>\n",
    "\n",
    "* the built-in functions \n",
    "```python\n",
    ".upper()\n",
    ".lower()\n",
    "str()\n",
    "len()\n",
    "```"
   ]
  },
  {
   "cell_type": "code",
   "execution_count": 32,
   "metadata": {},
   "outputs": [],
   "source": [
    "def biggest_number(*args):\n",
    "    print(max(args))\n",
    "    return max(args)"
   ]
  },
  {
   "cell_type": "code",
   "execution_count": 33,
   "metadata": {
    "collapsed": true
   },
   "outputs": [],
   "source": [
    "def smallest_number(*args):\n",
    "    print(min(args))\n",
    "    return min(args)"
   ]
  },
  {
   "cell_type": "code",
   "execution_count": 34,
   "metadata": {
    "collapsed": true
   },
   "outputs": [],
   "source": [
    "def distance_from_zero(arg):\n",
    "    print(abs(arg))\n",
    "    return abs(arg)"
   ]
  },
  {
   "cell_type": "code",
   "execution_count": 36,
   "metadata": {},
   "outputs": [
    {
     "name": "stdout",
     "output_type": "stream",
     "text": [
      "10\n",
      "-10\n",
      "10\n"
     ]
    },
    {
     "data": {
      "text/plain": [
       "10"
      ]
     },
     "execution_count": 36,
     "metadata": {},
     "output_type": "execute_result"
    }
   ],
   "source": [
    "biggest_number(-10, -5, 5, 10)\n",
    "smallest_number(-10, -5, 5, 10)\n",
    "distance_from_zero(-10)"
   ]
  },
  {
   "cell_type": "markdown",
   "metadata": {},
   "source": [
    "### <a style=\"color:orange\"> max() </a>\n",
    "The max() function takes any number of arguments and returns the largest one. <br>\n",
    "\n",
    "### <a style=\"color:orange\"> min() </a>\n",
    "`min()` then returns the smallest of a given series of arguments.\n",
    "\n",
    "###  <a style=\"color:orange\"> abs() </a>\n",
    "The abs() function returns the absolute value of the number it takes as an argument—that is, that number's <a style=\"color:red\">distance</a> from 0 on an imagined number line.\n",
    "> abs () 함수는 인수로 취한 숫자의 절대 값, 즉 상상 된 숫자 행에서 0부터 해당 숫자까지의 거리를 반환합니다.\n",
    "\n",
    "###  <a style=\"color:orange\"> type() </a>\n",
    "the type() function returns <a style=\"color:red\">the type of the data</a> it receives as an argument."
   ]
  },
  {
   "cell_type": "code",
   "execution_count": 37,
   "metadata": {},
   "outputs": [
    {
     "name": "stdout",
     "output_type": "stream",
     "text": [
      "3\n"
     ]
    }
   ],
   "source": [
    "print(max(1, 2, 3))"
   ]
  },
  {
   "cell_type": "code",
   "execution_count": 38,
   "metadata": {},
   "outputs": [
    {
     "name": "stdout",
     "output_type": "stream",
     "text": [
      "6\n"
     ]
    }
   ],
   "source": [
    "maximum = max(1, 3, 6)\n",
    "print(maximum)"
   ]
  },
  {
   "cell_type": "code",
   "execution_count": 39,
   "metadata": {},
   "outputs": [
    {
     "name": "stdout",
     "output_type": "stream",
     "text": [
      "1\n"
     ]
    }
   ],
   "source": [
    "minimum = min(1, 2, 3)\n",
    "print(minimum)"
   ]
  },
  {
   "cell_type": "code",
   "execution_count": 40,
   "metadata": {},
   "outputs": [
    {
     "name": "stdout",
     "output_type": "stream",
     "text": [
      "42\n"
     ]
    }
   ],
   "source": [
    "absolute = abs(-42)\n",
    "print(absolute)"
   ]
  },
  {
   "cell_type": "code",
   "execution_count": 41,
   "metadata": {},
   "outputs": [
    {
     "name": "stdout",
     "output_type": "stream",
     "text": [
      "<class 'int'>\n",
      "<class 'float'>\n",
      "<class 'str'>\n"
     ]
    }
   ],
   "source": [
    "print(type(42))\n",
    "print(type(4.2))\n",
    "print(type('spam'))"
   ]
  },
  {
   "cell_type": "code",
   "execution_count": 45,
   "metadata": {},
   "outputs": [],
   "source": [
    "def speak(message):\n",
    "    return message"
   ]
  },
  {
   "cell_type": "code",
   "execution_count": 46,
   "metadata": {},
   "outputs": [
    {
     "data": {
      "text/plain": [
       "\"I'm happy!\""
      ]
     },
     "execution_count": 46,
     "metadata": {},
     "output_type": "execute_result"
    }
   ],
   "source": [
    "speak(\"I'm happy!\")"
   ]
  },
  {
   "cell_type": "raw",
   "metadata": {},
   "source": [
    "if happy():\n",
    "    speak(\"I'm happy!\")\n",
    "elif sad():\n",
    "    speak(\"I'm sad.\")\n",
    "else:\n",
    "    speak(\"I don't know what I'm felling.\")"
   ]
  },
  {
   "cell_type": "code",
   "execution_count": 47,
   "metadata": {
    "collapsed": true
   },
   "outputs": [],
   "source": [
    "def shut_down(s):\n",
    "    if s == \"yes\":\n",
    "        message = \"Shutting down\"\n",
    "    elif s == \"no\":\n",
    "        message = \"Shutdown aborted\"\n",
    "    else:\n",
    "        message = \"Sorry\"\n",
    "    return message"
   ]
  },
  {
   "cell_type": "code",
   "execution_count": 49,
   "metadata": {},
   "outputs": [
    {
     "data": {
      "text/plain": [
       "'Shutting down'"
      ]
     },
     "execution_count": 49,
     "metadata": {},
     "output_type": "execute_result"
    }
   ],
   "source": [
    "shut_down('yes')"
   ]
  },
  {
   "cell_type": "code",
   "execution_count": 50,
   "metadata": {},
   "outputs": [
    {
     "data": {
      "text/plain": [
       "'Shutdown aborted'"
      ]
     },
     "execution_count": 50,
     "metadata": {},
     "output_type": "execute_result"
    }
   ],
   "source": [
    "shut_down('no')"
   ]
  },
  {
   "cell_type": "code",
   "execution_count": 51,
   "metadata": {},
   "outputs": [
    {
     "data": {
      "text/plain": [
       "'Sorry'"
      ]
     },
     "execution_count": 51,
     "metadata": {},
     "output_type": "execute_result"
    }
   ],
   "source": [
    "shut_down('nothing')"
   ]
  },
  {
   "cell_type": "code",
   "execution_count": 54,
   "metadata": {
    "collapsed": true
   },
   "outputs": [],
   "source": [
    "def shut_down2(s):\n",
    "    if s == \"yes\":\n",
    "        return \"Shutting down\"\n",
    "    elif s == \"no\":\n",
    "        return \"Shutdown aborted\"\n",
    "    else:\n",
    "        return \"Sorry\""
   ]
  },
  {
   "cell_type": "code",
   "execution_count": 55,
   "metadata": {},
   "outputs": [
    {
     "data": {
      "text/plain": [
       "'Shutting down'"
      ]
     },
     "execution_count": 55,
     "metadata": {},
     "output_type": "execute_result"
    }
   ],
   "source": [
    "shut_down2('yes')"
   ]
  },
  {
   "cell_type": "code",
   "execution_count": 56,
   "metadata": {},
   "outputs": [
    {
     "data": {
      "text/plain": [
       "'Shutdown aborted'"
      ]
     },
     "execution_count": 56,
     "metadata": {},
     "output_type": "execute_result"
    }
   ],
   "source": [
    "shut_down2('no')"
   ]
  },
  {
   "cell_type": "code",
   "execution_count": 57,
   "metadata": {},
   "outputs": [
    {
     "data": {
      "text/plain": [
       "'Sorry'"
      ]
     },
     "execution_count": 57,
     "metadata": {},
     "output_type": "execute_result"
    }
   ],
   "source": [
    "shut_down2('nnn')"
   ]
  },
  {
   "cell_type": "code",
   "execution_count": 59,
   "metadata": {},
   "outputs": [
    {
     "name": "stdout",
     "output_type": "stream",
     "text": [
      "['__doc__', '__loader__', '__name__', '__package__', '__spec__', 'acos', 'acosh', 'asin', 'asinh', 'atan', 'atan2', 'atanh', 'ceil', 'copysign', 'cos', 'cosh', 'degrees', 'e', 'erf', 'erfc', 'exp', 'expm1', 'fabs', 'factorial', 'floor', 'fmod', 'frexp', 'fsum', 'gamma', 'gcd', 'hypot', 'inf', 'isclose', 'isfinite', 'isinf', 'isnan', 'ldexp', 'lgamma', 'log', 'log10', 'log1p', 'log2', 'modf', 'nan', 'pi', 'pow', 'radians', 'sin', 'sinh', 'sqrt', 'tan', 'tanh', 'tau', 'trunc']\n"
     ]
    }
   ],
   "source": [
    "import math\n",
    "every = dir(math)\n",
    "print(everything)"
   ]
  },
  {
   "cell_type": "code",
   "execution_count": 60,
   "metadata": {},
   "outputs": [
    {
     "name": "stdout",
     "output_type": "stream",
     "text": [
      "35.12833614050059\n"
     ]
    }
   ],
   "source": [
    "from math import sqrt\n",
    "print(sqrt(1234))"
   ]
  },
  {
   "cell_type": "raw",
   "metadata": {},
   "source": [
    "print(math.sqrt(1234))"
   ]
  },
  {
   "cell_type": "raw",
   "metadata": {},
   "source": [
    "def is_numeric(num):\n",
    "    return type(num) == int or type(num) == float:"
   ]
  },
  {
   "cell_type": "code",
   "execution_count": 63,
   "metadata": {},
   "outputs": [
    {
     "data": {
      "text/plain": [
       "2"
      ]
     },
     "execution_count": 63,
     "metadata": {},
     "output_type": "execute_result"
    }
   ],
   "source": [
    "max(2, 3, 4)\n",
    "min(2, 3, 4)\n",
    "abs(2)\n",
    "abs(-2)"
   ]
  },
  {
   "cell_type": "code",
   "execution_count": 65,
   "metadata": {
    "collapsed": true
   },
   "outputs": [],
   "source": [
    "def distance_from_zero(d):\n",
    "    if type(d) == int or type(d) == float:\n",
    "        return abs(d)\n",
    "    else:\n",
    "        return \"Nope\""
   ]
  },
  {
   "cell_type": "code",
   "execution_count": 66,
   "metadata": {},
   "outputs": [
    {
     "data": {
      "text/plain": [
       "4"
      ]
     },
     "execution_count": 66,
     "metadata": {},
     "output_type": "execute_result"
    }
   ],
   "source": [
    "distance_from_zero(4)"
   ]
  },
  {
   "cell_type": "code",
   "execution_count": 67,
   "metadata": {},
   "outputs": [
    {
     "data": {
      "text/plain": [
       "5"
      ]
     },
     "execution_count": 67,
     "metadata": {},
     "output_type": "execute_result"
    }
   ],
   "source": [
    "distance_from_zero(-5)"
   ]
  },
  {
   "cell_type": "code",
   "execution_count": 68,
   "metadata": {},
   "outputs": [
    {
     "data": {
      "text/plain": [
       "'Nope'"
      ]
     },
     "execution_count": 68,
     "metadata": {},
     "output_type": "execute_result"
    }
   ],
   "source": [
    "distance_from_zero('spam')"
   ]
  },
  {
   "cell_type": "code",
   "execution_count": 70,
   "metadata": {},
   "outputs": [],
   "source": [
    "def bigger(first, second):\n",
    "    print(max(first, second))\n",
    "    return True"
   ]
  },
  {
   "cell_type": "code",
   "execution_count": 71,
   "metadata": {},
   "outputs": [
    {
     "name": "stdout",
     "output_type": "stream",
     "text": [
      "3\n"
     ]
    },
    {
     "data": {
      "text/plain": [
       "True"
      ]
     },
     "execution_count": 71,
     "metadata": {},
     "output_type": "execute_result"
    }
   ],
   "source": [
    "bigger(2, 3)"
   ]
  },
  {
   "cell_type": "code",
   "execution_count": 72,
   "metadata": {
    "collapsed": true
   },
   "outputs": [],
   "source": [
    "def answer(): # it takes no arguments\n",
    "    return 42"
   ]
  },
  {
   "cell_type": "code",
   "execution_count": 73,
   "metadata": {},
   "outputs": [
    {
     "data": {
      "text/plain": [
       "42"
      ]
     },
     "execution_count": 73,
     "metadata": {},
     "output_type": "execute_result"
    }
   ],
   "source": [
    "answer()"
   ]
  },
  {
   "cell_type": "code",
   "execution_count": null,
   "metadata": {
    "collapsed": true
   },
   "outputs": [],
   "source": []
  }
 ],
 "metadata": {
  "kernelspec": {
   "display_name": "Python 3",
   "language": "python",
   "name": "python3"
  },
  "language_info": {
   "codemirror_mode": {
    "name": "ipython",
    "version": 3
   },
   "file_extension": ".py",
   "mimetype": "text/x-python",
   "name": "python",
   "nbconvert_exporter": "python",
   "pygments_lexer": "ipython3",
   "version": "3.6.1"
  }
 },
 "nbformat": 4,
 "nbformat_minor": 2
}
