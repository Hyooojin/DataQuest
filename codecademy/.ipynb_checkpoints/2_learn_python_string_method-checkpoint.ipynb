{
 "cells": [
  {
   "cell_type": "markdown",
   "metadata": {},
   "source": [
    "<a style=\"color:red\">len()</a>\n",
    "<p style=\"color:#8c9184\">Gets the length of a string!\n",
    "<p/>"
   ]
  },
  {
   "cell_type": "code",
   "execution_count": 2,
   "metadata": {},
   "outputs": [
    {
     "name": "stdout",
     "output_type": "stream",
     "text": [
      "14\n"
     ]
    }
   ],
   "source": [
    "parrot = \"Norwegian Blue\"\n",
    "print(len(parrot))"
   ]
  },
  {
   "cell_type": "markdown",
   "metadata": {},
   "source": [
    "<a style=\"color:red\">lower()</a>\n",
    "<p style=\"color:#8c9184\">Get rid of all the capitalization in you strings.<p/>"
   ]
  },
  {
   "cell_type": "code",
   "execution_count": 3,
   "metadata": {},
   "outputs": [
    {
     "data": {
      "text/plain": [
       "'ryan'"
      ]
     },
     "execution_count": 3,
     "metadata": {},
     "output_type": "execute_result"
    }
   ],
   "source": [
    "\"Ryan\".lower()"
   ]
  },
  {
   "cell_type": "code",
   "execution_count": 5,
   "metadata": {},
   "outputs": [
    {
     "name": "stdout",
     "output_type": "stream",
     "text": [
      "norwegian blue\n"
     ]
    }
   ],
   "source": [
    "print(parrot.lower())"
   ]
  },
  {
   "cell_type": "markdown",
   "metadata": {},
   "source": [
    "<a style=\"color:red\">upper()</a>\n",
    "<p style=\"color:#8c9184\">To make a string completely upper case.<p/>"
   ]
  },
  {
   "cell_type": "code",
   "execution_count": 6,
   "metadata": {},
   "outputs": [
    {
     "data": {
      "text/plain": [
       "'NORWEGIAN BLUE'"
      ]
     },
     "execution_count": 6,
     "metadata": {},
     "output_type": "execute_result"
    }
   ],
   "source": [
    "parrot.upper()"
   ]
  },
  {
   "cell_type": "markdown",
   "metadata": {},
   "source": [
    "<a style=\"color:red\">str()</a>\n",
    "<p style=\"color:#8c9184\">turns non-strings into strings!<p/>"
   ]
  },
  {
   "cell_type": "code",
   "execution_count": 8,
   "metadata": {},
   "outputs": [
    {
     "data": {
      "text/plain": [
       "'2'"
      ]
     },
     "execution_count": 8,
     "metadata": {},
     "output_type": "execute_result"
    }
   ],
   "source": [
    "str(2)"
   ]
  },
  {
   "cell_type": "code",
   "execution_count": 9,
   "metadata": {},
   "outputs": [
    {
     "name": "stdout",
     "output_type": "stream",
     "text": [
      "3.14\n"
     ]
    }
   ],
   "source": [
    "\"\"\"Declare and assign your variable on line 4,\n",
    "then call your method on line 5!\"\"\"\n",
    "\n",
    "pi = 3.14\n",
    "print(str(pi)) "
   ]
  },
  {
   "cell_type": "markdown",
   "metadata": {},
   "source": [
    "### <a style=\"color:red\">Dot Notation</a>\n",
    "#### <p style=\"color:#8c9184\">Method that use dot notation only work with strings. On the other hand, len() and str() can work on other data types.<p/>"
   ]
  },
  {
   "cell_type": "code",
   "execution_count": 10,
   "metadata": {},
   "outputs": [
    {
     "name": "stdout",
     "output_type": "stream",
     "text": [
      "27\n",
      "THE MINISTRY OF SILLY WALKS\n"
     ]
    }
   ],
   "source": [
    "ministry = \"The Ministry of Silly Walks\"\n",
    "\n",
    "print(len(ministry)) \n",
    "print(ministry.upper()) "
   ]
  },
  {
   "cell_type": "code",
   "execution_count": 11,
   "metadata": {},
   "outputs": [
    {
     "name": "stdout",
     "output_type": "stream",
     "text": [
      "Monty Python\n"
     ]
    }
   ],
   "source": [
    "\"\"\"Tell Python to print \"Monty Python\"\n",
    "to the console on line 4!\"\"\"\n",
    "\n",
    "print(\"Monty Python\")"
   ]
  },
  {
   "cell_type": "code",
   "execution_count": 12,
   "metadata": {},
   "outputs": [
    {
     "name": "stdout",
     "output_type": "stream",
     "text": [
      "Ping!\n"
     ]
    }
   ],
   "source": [
    "\"\"\"Assign the string \"Ping!\" to\n",
    "the variable the_machine_goes on\n",
    "line 5, then print it out on line 6!\"\"\"\n",
    "\n",
    "the_machine_goes = \"Ping!\"\n",
    "print(the_machine_goes)"
   ]
  },
  {
   "cell_type": "code",
   "execution_count": 13,
   "metadata": {},
   "outputs": [
    {
     "name": "stdout",
     "output_type": "stream",
     "text": [
      "Spam and eggs\n"
     ]
    }
   ],
   "source": [
    "# Print the concatenation of \"Spam and eggs\" on line 3!\n",
    "\n",
    "print(\"Spam \"+\"and \"+\"eggs\")"
   ]
  },
  {
   "cell_type": "code",
   "execution_count": 17,
   "metadata": {},
   "outputs": [
    {
     "name": "stdout",
     "output_type": "stream",
     "text": [
      "The value of pi is around 3.14\n"
     ]
    }
   ],
   "source": [
    "# print(\"The value of pi is around \" + 3.14)\n",
    "print(\"The value of pi is around \" + str(3.14))"
   ]
  },
  {
   "cell_type": "code",
   "execution_count": null,
   "metadata": {
    "collapsed": true
   },
   "outputs": [],
   "source": []
  }
 ],
 "metadata": {
  "kernelspec": {
   "display_name": "Python 3",
   "language": "python",
   "name": "python3"
  },
  "language_info": {
   "codemirror_mode": {
    "name": "ipython",
    "version": 3
   },
   "file_extension": ".py",
   "mimetype": "text/x-python",
   "name": "python",
   "nbconvert_exporter": "python",
   "pygments_lexer": "ipython3",
   "version": "3.6.1"
  }
 },
 "nbformat": 4,
 "nbformat_minor": 2
}
