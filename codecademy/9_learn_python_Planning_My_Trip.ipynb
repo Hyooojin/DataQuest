{
 "cells": [
  {
   "cell_type": "markdown",
   "metadata": {},
   "source": [
    "<p style=\"color:tomato\">Planning your trip</p>\n",
    "When planning a vacation, it's very important to know exactly how much you're ging to spend."
   ]
  },
  {
   "cell_type": "code",
   "execution_count": 82,
   "metadata": {
    "collapsed": true
   },
   "outputs": [],
   "source": [
    "def hotel_cost(nights):\n",
    "    return 140 * nights"
   ]
  },
  {
   "cell_type": "code",
   "execution_count": 83,
   "metadata": {},
   "outputs": [
    {
     "data": {
      "text/plain": [
       "280"
      ]
     },
     "execution_count": 83,
     "metadata": {},
     "output_type": "execute_result"
    }
   ],
   "source": [
    "hotel_cost(2)"
   ]
  },
  {
   "cell_type": "code",
   "execution_count": 84,
   "metadata": {
    "collapsed": true
   },
   "outputs": [],
   "source": [
    "def hotel_cost2(nights, cost):\n",
    "    return cost * nights"
   ]
  },
  {
   "cell_type": "code",
   "execution_count": 5,
   "metadata": {},
   "outputs": [
    {
     "data": {
      "text/plain": [
       "640"
      ]
     },
     "execution_count": 5,
     "metadata": {},
     "output_type": "execute_result"
    }
   ],
   "source": [
    "hotel_cost2(4, 160)"
   ]
  },
  {
   "cell_type": "code",
   "execution_count": 7,
   "metadata": {
    "collapsed": true
   },
   "outputs": [],
   "source": [
    "def fruit_color(fruit):\n",
    "    if fruit == \"apple\":\n",
    "        return \"Red\"\n",
    "    elif fruit == \"banana\":\n",
    "        return \"Yellow\"\n",
    "    elif fruit == \"pear\":\n",
    "        return \"Green\"\n",
    "    else:\n",
    "        return \"Please let me know what fruit you have? please contact us\""
   ]
  },
  {
   "cell_type": "markdown",
   "metadata": {},
   "source": [
    "<p style=\"color:orange\">Plane ride cost</p>\n",
    "The function shoule return a different price depending on the location, similar to the code example above."
   ]
  },
  {
   "cell_type": "code",
   "execution_count": 18,
   "metadata": {},
   "outputs": [
    {
     "data": {
      "text/plain": [
       "'charlotte'"
      ]
     },
     "execution_count": 18,
     "metadata": {},
     "output_type": "execute_result"
    }
   ],
   "source": [
    "city = \"Charlotte\"\n",
    "city.lower()"
   ]
  },
  {
   "cell_type": "code",
   "execution_count": 43,
   "metadata": {
    "collapsed": true
   },
   "outputs": [],
   "source": [
    "def plane_ride_cost(city):\n",
    "    if city == \"Charlotte\":\n",
    "        distance = 183\n",
    "    elif city == \"Tampa\":\n",
    "        distance = 220\n",
    "    elif city == \"Pittsburgh\":\n",
    "        distance = 222\n",
    "    elif city == \"Los Angeles\":\n",
    "        distance = 475\n",
    "    else:\n",
    "        distance = \"Our database don't have your city information. please let us know, then we 적용 then\"\n",
    "    return distance"
   ]
  },
  {
   "cell_type": "code",
   "execution_count": 44,
   "metadata": {},
   "outputs": [
    {
     "data": {
      "text/plain": [
       "183"
      ]
     },
     "execution_count": 44,
     "metadata": {},
     "output_type": "execute_result"
    }
   ],
   "source": [
    "plane_ride_cost(\"Charlotte\")"
   ]
  },
  {
   "cell_type": "code",
   "execution_count": 45,
   "metadata": {},
   "outputs": [
    {
     "data": {
      "text/plain": [
       "\"Our database don't have your city information. please let us know, then we 적용 then\""
      ]
     },
     "execution_count": 45,
     "metadata": {},
     "output_type": "execute_result"
    }
   ],
   "source": [
    "plane_ride_cost(\"charlotte\")"
   ]
  },
  {
   "cell_type": "markdown",
   "metadata": {},
   "source": [
    "<p style=\"color:pink\"> Charlotte 랑 charlotte를 같은 문자로 인식하려면 ? </p>"
   ]
  },
  {
   "cell_type": "code",
   "execution_count": 46,
   "metadata": {
    "collapsed": true
   },
   "outputs": [],
   "source": [
    "def plane_ride_cost_lower(city):\n",
    "    city_re = city.lower()\n",
    "    print(city_re)\n",
    "    if city_re == \"charlotte\":\n",
    "        distance = 183\n",
    "    elif city_re == \"tampa\":\n",
    "        distance = 220\n",
    "    elif city_re == \"pittsburgh\":\n",
    "        distance = 222\n",
    "    elif city_re == \"los angeles\":\n",
    "        distance = 475\n",
    "    else:\n",
    "        distance = \"Our database don't have your city information. please let us know, then we 적용 then\"\n",
    "    return distance, city"
   ]
  },
  {
   "cell_type": "code",
   "execution_count": 47,
   "metadata": {},
   "outputs": [
    {
     "name": "stdout",
     "output_type": "stream",
     "text": [
      "charlotte\n"
     ]
    },
    {
     "data": {
      "text/plain": [
       "(183, 'Charlotte')"
      ]
     },
     "execution_count": 47,
     "metadata": {},
     "output_type": "execute_result"
    }
   ],
   "source": [
    "plane_ride_cost_lower(\"Charlotte\")"
   ]
  },
  {
   "cell_type": "code",
   "execution_count": 48,
   "metadata": {
    "scrolled": true
   },
   "outputs": [
    {
     "name": "stdout",
     "output_type": "stream",
     "text": [
      "charlotte\n"
     ]
    },
    {
     "data": {
      "text/plain": [
       "(183, 'charlotte')"
      ]
     },
     "execution_count": 48,
     "metadata": {},
     "output_type": "execute_result"
    }
   ],
   "source": [
    "plane_ride_cost_lower(\"charlotte\")"
   ]
  },
  {
   "cell_type": "markdown",
   "metadata": {},
   "source": []
  },
  {
   "cell_type": "markdown",
   "metadata": {},
   "source": [
    "<p style=\"color:orange\">Transportation</p>\n",
    "You're also going to need a rental car in dorder for you to get around."
   ]
  },
  {
   "cell_type": "code",
   "execution_count": 50,
   "metadata": {
    "collapsed": true
   },
   "outputs": [],
   "source": [
    "def finish_game(score):\n",
    "    tickets = 10 * score\n",
    "    if score >= 10:\n",
    "        tickets += 50\n",
    "    elif score >= 7:\n",
    "        tickets += 20\n",
    "    return tickets"
   ]
  },
  {
   "cell_type": "markdown",
   "metadata": {},
   "source": [
    "1. The player can get 10 tickets for every point that the player scored.\n",
    "2. check the value of score\n",
    "3. if score is greater than or equal 10.<br>\n",
    "> if it is, we give the player 50 bonus tickets.\n",
    "4. if score is greater than or equal to 7. \n",
    "> give the player 20 bounus tickets"
   ]
  },
  {
   "cell_type": "code",
   "execution_count": 55,
   "metadata": {},
   "outputs": [
    {
     "data": {
      "text/plain": [
       "50"
      ]
     },
     "execution_count": 55,
     "metadata": {},
     "output_type": "execute_result"
    }
   ],
   "source": [
    "finish_game(5)"
   ]
  },
  {
   "cell_type": "code",
   "execution_count": 57,
   "metadata": {},
   "outputs": [
    {
     "data": {
      "text/plain": [
       "90"
      ]
     },
     "execution_count": 57,
     "metadata": {},
     "output_type": "execute_result"
    }
   ],
   "source": [
    "finish_game(7) # 7이상 일때는 보너스 20 추가"
   ]
  },
  {
   "cell_type": "code",
   "execution_count": 58,
   "metadata": {},
   "outputs": [
    {
     "data": {
      "text/plain": [
       "150"
      ]
     },
     "execution_count": 58,
     "metadata": {},
     "output_type": "execute_result"
    }
   ],
   "source": [
    "finish_game(10) # 10이상일때는 보너스 50추가"
   ]
  },
  {
   "cell_type": "markdown",
   "metadata": {},
   "source": [
    "3일 이상은 20달러 할인\n",
    "7일 이상은 50달러 할인"
   ]
  },
  {
   "cell_type": "code",
   "execution_count": 66,
   "metadata": {
    "collapsed": true
   },
   "outputs": [],
   "source": [
    "def rental_car_cost(days):\n",
    "    daily_cost = 40\n",
    "    costs = days * daily_cost\n",
    "    if days >= 7:\n",
    "        costs -= 50\n",
    "    elif days >= 3:\n",
    "        costs -= 20\n",
    "    return costs"
   ]
  },
  {
   "cell_type": "code",
   "execution_count": 67,
   "metadata": {},
   "outputs": [
    {
     "data": {
      "text/plain": [
       "40"
      ]
     },
     "execution_count": 67,
     "metadata": {},
     "output_type": "execute_result"
    }
   ],
   "source": [
    "rental_car_cost(1)"
   ]
  },
  {
   "cell_type": "code",
   "execution_count": 68,
   "metadata": {},
   "outputs": [
    {
     "data": {
      "text/plain": [
       "80"
      ]
     },
     "execution_count": 68,
     "metadata": {},
     "output_type": "execute_result"
    }
   ],
   "source": [
    "rental_car_cost(2)"
   ]
  },
  {
   "cell_type": "code",
   "execution_count": 69,
   "metadata": {},
   "outputs": [
    {
     "data": {
      "text/plain": [
       "100"
      ]
     },
     "execution_count": 69,
     "metadata": {},
     "output_type": "execute_result"
    }
   ],
   "source": [
    "rental_car_cost(3)"
   ]
  },
  {
   "cell_type": "code",
   "execution_count": 70,
   "metadata": {},
   "outputs": [
    {
     "data": {
      "text/plain": [
       "230"
      ]
     },
     "execution_count": 70,
     "metadata": {},
     "output_type": "execute_result"
    }
   ],
   "source": [
    "rental_car_cost(7)"
   ]
  },
  {
   "cell_type": "markdown",
   "metadata": {},
   "source": [
    "<p style=\"color:orange\">3 main costs figured out</p>\n",
    "It is completely valid to call the hotel_cost(nights) function with the variable days. Just like the example above where we call double(n) with the variable a, we pass the value of days to the new function in the argument nights.\n",
    "> \n",
    "변수 days를 사용하여 hotel_cost (nights) 함수를 호출하는 것은 완전히 유효합니다. 위의 예제에서와 같이 변수 a로 double (n)을 호출하면 인수 nights에서 새 함수에 일 값을 전달합니다.\n"
   ]
  },
  {
   "cell_type": "code",
   "execution_count": 71,
   "metadata": {
    "collapsed": true
   },
   "outputs": [],
   "source": [
    "def double(n):\n",
    "    return 2 * n\n",
    "\n",
    "def triple(p):\n",
    "    return 3 * p\n",
    "\n",
    "def add(a, b):\n",
    "    return double(a) + triple(b)"
   ]
  },
  {
   "cell_type": "code",
   "execution_count": 73,
   "metadata": {
    "collapsed": true
   },
   "outputs": [],
   "source": [
    "from IPython.core.interactiveshell import InteractiveShell\n",
    "InteractiveShell.ast_node_interactivity = \"all\""
   ]
  },
  {
   "cell_type": "code",
   "execution_count": 74,
   "metadata": {},
   "outputs": [
    {
     "data": {
      "text/plain": [
       "4"
      ]
     },
     "execution_count": 74,
     "metadata": {},
     "output_type": "execute_result"
    },
    {
     "data": {
      "text/plain": [
       "9"
      ]
     },
     "execution_count": 74,
     "metadata": {},
     "output_type": "execute_result"
    }
   ],
   "source": [
    "double(2)\n",
    "triple(3)"
   ]
  },
  {
   "cell_type": "code",
   "execution_count": 77,
   "metadata": {
    "collapsed": true
   },
   "outputs": [],
   "source": [
    "def add(a, b):\n",
    "    return double(a) + triple(b)"
   ]
  },
  {
   "cell_type": "code",
   "execution_count": 79,
   "metadata": {
    "scrolled": true
   },
   "outputs": [
    {
     "data": {
      "text/plain": [
       "23"
      ]
     },
     "execution_count": 79,
     "metadata": {},
     "output_type": "execute_result"
    }
   ],
   "source": [
    "add(4,5)"
   ]
  },
  {
   "cell_type": "markdown",
   "metadata": {},
   "source": [
    "<p style=\"color:green\">함수를 정의 내리고, arguments를 대입하면 함수 공식에 해당 argument가 대입되어서 output이 나온다. </p>\n",
    "<p style=\"color:green\"> 함수를 함수에 적용하고 싶다면, 함수1에서 사용된 argumetnts, 함수2에서 사용된 arguments를 함수3에서도 Input 시켜야 한다.  </p>\n",
    "<p style=\"color:green\">함수3에 불리어진 함수1과 함수2는 함수1과 함수2가 적용된 함수를 찾아 입력받은 arguments의 새로운 output을 만든다.</p>"
   ]
  },
  {
   "cell_type": "code",
   "execution_count": 97,
   "metadata": {
    "collapsed": true
   },
   "outputs": [],
   "source": [
    "def hotel_cost(days):\n",
    "    return 140 * days\n",
    "\n",
    "def rental_car_cost(days):\n",
    "    daily_cost = 40\n",
    "    costs = days * daily_cost\n",
    "    if days >= 7:\n",
    "        costs -= 50\n",
    "    elif days >= 3:\n",
    "        costs -= 20\n",
    "    return costs\n",
    "\n",
    "def plane_ride_cost(city):\n",
    "    if city == \"Charlotte\":\n",
    "        distance = 183\n",
    "    elif city == \"Tampa\":\n",
    "        distance = 220\n",
    "    elif city == \"Pittsburgh\":\n",
    "        distance = 222\n",
    "    elif city == \"Los Angeles\":\n",
    "        distance = 475\n",
    "    else:\n",
    "        distance = \"Our database don't have your city information. please let us know, then we 적용 then\"\n",
    "    return distance"
   ]
  },
  {
   "cell_type": "markdown",
   "metadata": {},
   "source": [
    "days는 int로 <br>\n",
    "city는 string [\"Charlotte\", \"Tampa\", \"Pittsburgh\", \"Los Angeles\"]"
   ]
  },
  {
   "cell_type": "code",
   "execution_count": 98,
   "metadata": {
    "collapsed": true
   },
   "outputs": [],
   "source": [
    "def trip_cost(days, city): #hotel_cost(nigts), plane_ride_cost(city), rental_car_cost(days)\n",
    "    print(\"cost of hotel: \" + str(hotel_cost(days)))\n",
    "    print(\"cost of transportation: \" + str(rental_car_cost(days)))\n",
    "    print(\"your city is: \" + city)\n",
    "    print(\"plane cost is \" + str(plane_ride_cost(city)))\n",
    "    return rental_car_cost(days) + hotel_cost(days) + plane_ride_cost(city)"
   ]
  },
  {
   "cell_type": "code",
   "execution_count": 99,
   "metadata": {},
   "outputs": [
    {
     "name": "stdout",
     "output_type": "stream",
     "text": [
      "cost of hotel: 560\n",
      "cost of transportation: 140\n",
      "your city is: Charlotte\n",
      "plane cost is 183\n"
     ]
    },
    {
     "data": {
      "text/plain": [
       "883"
      ]
     },
     "execution_count": 99,
     "metadata": {},
     "output_type": "execute_result"
    }
   ],
   "source": [
    "trip_cost(4, \"Charlotte\")"
   ]
  },
  {
   "cell_type": "markdown",
   "metadata": {
    "collapsed": true
   },
   "source": [
    "<p style=\"color:orange\">Modify Trip cost</p>"
   ]
  },
  {
   "cell_type": "code",
   "execution_count": 118,
   "metadata": {},
   "outputs": [],
   "source": [
    "def trip_cost(city, days, spending_money): #hotel_cost(nigts), plane_ride_cost(city), rental_car_cost(days)\n",
    "    print(\"my trip days: \" + str(days)+\" days\")\n",
    "    print(\"I'll go: \" + city)\n",
    "    print(\"I got money about: \" + str(spending_money)+\" dollors\")\n",
    "    print(\"===============\")\n",
    "    print(\"cost of hotle: \" + str(hotel_cost(days)))\n",
    "    print(\"cost of transportation: \" + str(rental_car_cost(days)))\n",
    "    print(\"plane cost is \" + str(plane_ride_cost(city)))\n",
    "    return rental_car_cost(days) + hotel_cost(days) + plane_ride_cost(city) + spending_money"
   ]
  },
  {
   "cell_type": "code",
   "execution_count": 119,
   "metadata": {
    "scrolled": true
   },
   "outputs": [
    {
     "name": "stdout",
     "output_type": "stream",
     "text": [
      "my trip days: 5 days\n",
      "I'll go: Los Angeles\n",
      "I got money about: 600 dollors\n",
      "===============\n",
      "cost of hotle: 700\n",
      "cost of transportation: 180\n",
      "plane cost is 475\n"
     ]
    },
    {
     "data": {
      "text/plain": [
       "1955"
      ]
     },
     "execution_count": 119,
     "metadata": {},
     "output_type": "execute_result"
    }
   ],
   "source": [
    "trip_cost(\"Los Angeles\", 5, 600)"
   ]
  },
  {
   "cell_type": "code",
   "execution_count": null,
   "metadata": {
    "collapsed": true
   },
   "outputs": [],
   "source": []
  }
 ],
 "metadata": {
  "kernelspec": {
   "display_name": "Python 3",
   "language": "python",
   "name": "python3"
  },
  "language_info": {
   "codemirror_mode": {
    "name": "ipython",
    "version": 3
   },
   "file_extension": ".py",
   "mimetype": "text/x-python",
   "name": "python",
   "nbconvert_exporter": "python",
   "pygments_lexer": "ipython3",
   "version": "3.6.1"
  }
 },
 "nbformat": 4,
 "nbformat_minor": 2
}
