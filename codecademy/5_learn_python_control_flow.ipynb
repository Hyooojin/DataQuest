{
 "cells": [
  {
   "cell_type": "markdown",
   "metadata": {},
   "source": [
    "<a style=\"color:red\"> control flow </a>\n",
    "<p style=\"color:#8c9184\"> Don't have the ability to pick one of these outcomes ovet the other.Control flow gives us this ability to choose among outcomes based off what else is happenign in the program.<p/>"
   ]
  },
  {
   "cell_type": "code",
   "execution_count": null,
   "metadata": {},
   "outputs": [],
   "source": [
    "def clinic():\n",
    "    print(\"You've just entered the clinic!\")\n",
    "    print(\"Do you take the door on the left or the right?\")\n",
    "    answer = input(\"Type left or right and hit 'Enter'.\").lower()\n",
    "    if answer == \"left\" or answer == \"1\":\n",
    "        print(\"This is the Verbal Abuse Room, you heap of parrot droppings!\")\n",
    "    elif answer == \"right\" or anwer == \"r\":\n",
    "        print(\"Of course this is the Argument Room, I've told you that already!\")\n",
    "    else:\n",
    "        print(\"You didn't pick left or right! Try again.\")\n",
    "    return clinic()\n",
    "clinic()"
   ]
  },
  {
   "cell_type": "markdown",
   "metadata": {},
   "source": [
    "<a style=\"color:red\"> comparators </a> <br>\n",
    "Equal to (==) <br>\n",
    "Not equal to (!=) <br>\n",
    "Less than (<) <br>\n",
    "Less than or equal to (<=) <br>\n",
    "Greater than (>) <br>\n",
    "Greater than or equal to (>=) <br>\n",
    "\n",
    "<p style=\"color:#8c9184\"> Comparators check if a value is (or is not) equal to, greater than (or equal to), or less than (or equal to) another value. <p/>"
   ]
  },
  {
   "cell_type": "markdown",
   "metadata": {},
   "source": [
    "<a style=\"color:red\"> Boolean operators </a>\n",
    "\n",
    "and, which checks if both the statements are True; <br>\n",
    "\n",
    "\n",
    "or, which checks if at least one of the statements is True; <br>\n",
    "\n",
    "not, which gives the opposite of the statement. <br>\n",
    "\n",
    "\n",
    "<p style=\"color:#8c9184\"> <p/>"
   ]
  },
  {
   "cell_type": "markdown",
   "metadata": {},
   "source": [
    "<a style=\"color:red\"> Nor</a>\n",
    "\n",
    "\n",
    "<p style=\"color:#8c9184\"> The boolean operator not returns True for false statements and False for true statements.<p/>"
   ]
  },
  {
   "cell_type": "code",
   "execution_count": 2,
   "metadata": {},
   "outputs": [
    {
     "name": "stdout",
     "output_type": "stream",
     "text": [
      "False\n"
     ]
    }
   ],
   "source": [
    "bool_one = not True\n",
    "print(bool_one)"
   ]
  },
  {
   "cell_type": "code",
   "execution_count": 4,
   "metadata": {},
   "outputs": [
    {
     "name": "stdout",
     "output_type": "stream",
     "text": [
      "True\n"
     ]
    }
   ],
   "source": [
    "bool_two = not 3**4 < 4**3\n",
    "print(bool_two)"
   ]
  },
  {
   "cell_type": "code",
   "execution_count": 5,
   "metadata": {},
   "outputs": [
    {
     "name": "stdout",
     "output_type": "stream",
     "text": [
      "True\n"
     ]
    }
   ],
   "source": [
    "bool_three = not 10 % 3 <= 10 % 2\n",
    "print(bool_three)"
   ]
  },
  {
   "cell_type": "code",
   "execution_count": 6,
   "metadata": {},
   "outputs": [
    {
     "name": "stdout",
     "output_type": "stream",
     "text": [
      "True\n"
     ]
    }
   ],
   "source": [
    "bool_four = not 3 ** 2 + 4 ** 2 != 5 ** 2\n",
    "print(bool_four)"
   ]
  },
  {
   "cell_type": "code",
   "execution_count": 7,
   "metadata": {},
   "outputs": [
    {
     "name": "stdout",
     "output_type": "stream",
     "text": [
      "False\n"
     ]
    }
   ],
   "source": [
    "bool_five = not not False\n",
    "print(bool_five)"
   ]
  },
  {
   "cell_type": "markdown",
   "metadata": {},
   "source": [
    "<a style=\"color:red\"> 삼항연산자 </a>\n",
    "\n",
    "<p style=\"color:#8c9184\"> Boolean operators aren't just evaluated from left to right. Just like with arithmetic operators, there's an order of operations for boolean operators: <p/>\n",
    "\n",
    "not is evaluated first; <br>\n",
    "and is evaluated next; <br>\n",
    "or is evaluated last. <br>"
   ]
  },
  {
   "cell_type": "code",
   "execution_count": 9,
   "metadata": {},
   "outputs": [
    {
     "name": "stdout",
     "output_type": "stream",
     "text": [
      "False\n"
     ]
    }
   ],
   "source": [
    "bool_one = False or not True and True\n",
    "print(bool_one)"
   ]
  },
  {
   "cell_type": "code",
   "execution_count": 10,
   "metadata": {},
   "outputs": [
    {
     "name": "stdout",
     "output_type": "stream",
     "text": [
      "True\n"
     ]
    }
   ],
   "source": [
    "bool_two = False and not True or True\n",
    "print(bool_two)"
   ]
  },
  {
   "cell_type": "code",
   "execution_count": 12,
   "metadata": {},
   "outputs": [
    {
     "name": "stdout",
     "output_type": "stream",
     "text": [
      "True\n"
     ]
    }
   ],
   "source": [
    "bool_three = True and not (False or False)\n",
    "print(bool_three)"
   ]
  },
  {
   "cell_type": "code",
   "execution_count": 13,
   "metadata": {},
   "outputs": [
    {
     "name": "stdout",
     "output_type": "stream",
     "text": [
      "True\n"
     ]
    }
   ],
   "source": [
    "bool_four = not not True or False and not True\n",
    "print(bool_four)"
   ]
  },
  {
   "cell_type": "code",
   "execution_count": 14,
   "metadata": {},
   "outputs": [
    {
     "name": "stdout",
     "output_type": "stream",
     "text": [
      "False\n"
     ]
    }
   ],
   "source": [
    "bool_five = False or not (True and True)\n",
    "print(bool_five)"
   ]
  },
  {
   "cell_type": "code",
   "execution_count": 15,
   "metadata": {},
   "outputs": [
    {
     "name": "stdout",
     "output_type": "stream",
     "text": [
      "False\n"
     ]
    }
   ],
   "source": [
    "bool_one = (2 <= 2) and \"Alpha\" == \"Bravo\"\n",
    "print(bool_one)"
   ]
  },
  {
   "cell_type": "code",
   "execution_count": 17,
   "metadata": {},
   "outputs": [
    {
     "name": "stdout",
     "output_type": "stream",
     "text": [
      "True\n"
     ]
    }
   ],
   "source": [
    "bool_two = (2 <= 3) or \"Alpha\" == \"Bravo\"\n",
    "print(bool_two)"
   ]
  },
  {
   "cell_type": "code",
   "execution_count": 18,
   "metadata": {},
   "outputs": [
    {
     "name": "stdout",
     "output_type": "stream",
     "text": [
      "True\n"
     ]
    }
   ],
   "source": [
    "bool_three = False or not False and True\n",
    "print(bool_three)"
   ]
  },
  {
   "cell_type": "code",
   "execution_count": 19,
   "metadata": {},
   "outputs": [
    {
     "name": "stdout",
     "output_type": "stream",
     "text": [
      "False\n"
     ]
    }
   ],
   "source": [
    "bool_four = False or not False and False\n",
    "print(bool_four)"
   ]
  },
  {
   "cell_type": "code",
   "execution_count": 20,
   "metadata": {},
   "outputs": [
    {
     "name": "stdout",
     "output_type": "stream",
     "text": [
      "True\n"
     ]
    }
   ],
   "source": [
    "bool_five = True or not False and False\n",
    "print(bool_five)"
   ]
  },
  {
   "cell_type": "code",
   "execution_count": 23,
   "metadata": {},
   "outputs": [
    {
     "name": "stdout",
     "output_type": "stream",
     "text": [
      "True\n"
     ]
    }
   ],
   "source": [
    "bool_six = True or False and True\n",
    "print(bool_six)\n",
    "# 뒤에 것을 어떻게 바꿔도 True"
   ]
  },
  {
   "cell_type": "code",
   "execution_count": null,
   "metadata": {
    "collapsed": true
   },
   "outputs": [],
   "source": []
  }
 ],
 "metadata": {
  "kernelspec": {
   "display_name": "Python 3",
   "language": "python",
   "name": "python3"
  },
  "language_info": {
   "codemirror_mode": {
    "name": "ipython",
    "version": 3
   },
   "file_extension": ".py",
   "mimetype": "text/x-python",
   "name": "python",
   "nbconvert_exporter": "python",
   "pygments_lexer": "ipython3",
   "version": "3.6.1"
  }
 },
 "nbformat": 4,
 "nbformat_minor": 2
}
