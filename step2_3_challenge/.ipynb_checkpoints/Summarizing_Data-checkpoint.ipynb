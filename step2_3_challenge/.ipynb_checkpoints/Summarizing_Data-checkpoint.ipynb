{
 "cells": [
  {
   "cell_type": "markdown",
   "metadata": {},
   "source": [
    "# <p style=\"color:tomato\">Summarizing Data</p>"
   ]
  },
  {
   "cell_type": "markdown",
   "metadata": {},
   "source": [
    "data_sorce: U.S. Cencus Bureau survey <br>\n",
    "data: everything from housing affordability to industry employment rates <br>\n",
    "cleaned_data_from : FiveThirtyEight <br>\n",
    "[https://github.com/fivethirtyeight/data/tree/master/college-majors](https://github.com/fivethirtyeight/data/tree/master/college-majors) <br>\n",
    "cleaned_data : 2010-2012/ all-ages.csv/ recent-grads.csv"
   ]
  },
  {
   "cell_type": "markdown",
   "metadata": {},
   "source": [
    "<p> <b>Read</b> Data file</p>\n",
    "<p> <b>Assign</b> the value</p>"
   ]
  },
  {
   "cell_type": "code",
   "execution_count": 1,
   "metadata": {
    "collapsed": true
   },
   "outputs": [],
   "source": [
    "from IPython.core.interactiveshell import InteractiveShell\n",
    "InteractiveShell.ast_node_interactivity = \"all\""
   ]
  },
  {
   "cell_type": "code",
   "execution_count": 2,
   "metadata": {
    "collapsed": true
   },
   "outputs": [],
   "source": [
    "import pandas as pd\n",
    "import numpy as np"
   ]
  },
  {
   "cell_type": "code",
   "execution_count": 3,
   "metadata": {},
   "outputs": [],
   "source": [
    "all_ages = pd.read_csv('all-ages.csv')\n",
    "# all_ages"
   ]
  },
  {
   "cell_type": "code",
   "execution_count": 4,
   "metadata": {},
   "outputs": [],
   "source": [
    "recent_grads = pd.read_csv('recent-grads.csv')\n",
    "# recent_grads"
   ]
  },
  {
   "cell_type": "markdown",
   "metadata": {},
   "source": [
    "<p> <b>Count</b> the number of people in each Major_category for both data sets.</p>\n",
    "<p style=\"color:red\">series.unique()</p>\n",
    ": return the unique values in a colomn (major_category)"
   ]
  },
  {
   "cell_type": "code",
   "execution_count": 27,
   "metadata": {},
   "outputs": [
    {
     "name": "stdout",
     "output_type": "stream",
     "text": [
      "0                              Engineering\n",
      "1                              Engineering\n",
      "2                              Engineering\n",
      "3                              Engineering\n",
      "4                              Engineering\n",
      "5                              Engineering\n",
      "6                                 Business\n",
      "7                        Physical Sciences\n",
      "8                              Engineering\n",
      "9                              Engineering\n",
      "10                             Engineering\n",
      "11                             Engineering\n",
      "12                             Engineering\n",
      "13                             Engineering\n",
      "14                             Engineering\n",
      "15                             Engineering\n",
      "16                             Engineering\n",
      "17                             Engineering\n",
      "18                             Engineering\n",
      "19                     Law & Public Policy\n",
      "20                 Computers & Mathematics\n",
      "21         Agriculture & Natural Resources\n",
      "22                             Engineering\n",
      "23                             Engineering\n",
      "24                                Business\n",
      "25                             Engineering\n",
      "26     Industrial Arts & Consumer Services\n",
      "27                                Business\n",
      "28                             Engineering\n",
      "29                     Law & Public Policy\n",
      "                      ...                 \n",
      "143        Agriculture & Natural Resources\n",
      "144                              Education\n",
      "145               Psychology & Social Work\n",
      "146                                   Arts\n",
      "147                              Education\n",
      "148              Humanities & Liberal Arts\n",
      "149                                   Arts\n",
      "150    Industrial Arts & Consumer Services\n",
      "151               Psychology & Social Work\n",
      "152        Agriculture & Natural Resources\n",
      "153                                   Arts\n",
      "154                              Education\n",
      "155               Psychology & Social Work\n",
      "156               Psychology & Social Work\n",
      "157              Humanities & Liberal Arts\n",
      "158              Humanities & Liberal Arts\n",
      "159                                   Arts\n",
      "160    Industrial Arts & Consumer Services\n",
      "161        Agriculture & Natural Resources\n",
      "162              Humanities & Liberal Arts\n",
      "163                                 Health\n",
      "164                              Education\n",
      "165              Humanities & Liberal Arts\n",
      "166                                   Arts\n",
      "167              Humanities & Liberal Arts\n",
      "168                 Biology & Life Science\n",
      "169               Psychology & Social Work\n",
      "170               Psychology & Social Work\n",
      "171               Psychology & Social Work\n",
      "172                              Education\n",
      "Name: Major_category, Length: 173, dtype: object\n",
      "['Engineering' 'Business' 'Physical Sciences' 'Law & Public Policy'\n",
      " 'Computers & Mathematics' 'Agriculture & Natural Resources'\n",
      " 'Industrial Arts & Consumer Services' 'Arts' 'Health' 'Social Science'\n",
      " 'Biology & Life Science' 'Education' 'Humanities & Liberal Arts'\n",
      " 'Psychology & Social Work' 'Communications & Journalism'\n",
      " 'Interdisciplinary']\n"
     ]
    }
   ],
   "source": [
    "print(recent_grads['Major_category']) # 정렬이 되지 않은채 모든 row가 나온다. \n",
    "print(recent_grads['Major_category'].unique()) # 컬럼 Major_category에 있는 unique한 값만 나온다. "
   ]
  },
  {
   "cell_type": "markdown",
   "metadata": {},
   "source": [
    "<p> <b>Make</b> a function for each unique value</p>\n",
    "<p> return all of the rows where the column equals tht unique value. </p>\n"
   ]
  },
  {
   "cell_type": "markdown",
   "metadata": {},
   "source": [
    "<p style=\"color:red\">Dictionary</p>\n",
    "\n",
    ": dictionary에 대해서 알아보기 <br>\n",
    "\n",
    "### <p style=\"color:red\">How to convert Data Frame data to dictionary data</p>"
   ]
  },
  {
   "cell_type": "code",
   "execution_count": 6,
   "metadata": {
    "scrolled": true
   },
   "outputs": [
    {
     "name": "stdout",
     "output_type": "stream",
     "text": [
      "['Agriculture & Natural Resources' 'Biology & Life Science' 'Engineering'\n",
      " 'Humanities & Liberal Arts' 'Communications & Journalism'\n",
      " 'Computers & Mathematics' 'Industrial Arts & Consumer Services'\n",
      " 'Education' 'Law & Public Policy' 'Interdisciplinary' 'Health'\n",
      " 'Social Science' 'Physical Sciences' 'Psychology & Social Work' 'Arts'\n",
      " 'Business']\n"
     ]
    }
   ],
   "source": [
    "print(all_ages['Major_category'].unique())"
   ]
  },
  {
   "cell_type": "code",
   "execution_count": 20,
   "metadata": {},
   "outputs": [],
   "source": [
    "dictionary = {}"
   ]
  },
  {
   "cell_type": "code",
   "execution_count": 25,
   "metadata": {},
   "outputs": [],
   "source": [
    "# aa_cat_counts = dict()\n",
    "# 왜 안될까?\n",
    "aa_cat_counts = {}\n",
    "# rg_cat_counts = dict()\n",
    "rg_cat_counts = {}"
   ]
  },
  {
   "cell_type": "code",
   "execution_count": 24,
   "metadata": {},
   "outputs": [
    {
     "name": "stdout",
     "output_type": "stream",
     "text": [
      "['Agriculture & Natural Resources' 'Biology & Life Science' 'Engineering'\n",
      " 'Humanities & Liberal Arts' 'Communications & Journalism'\n",
      " 'Computers & Mathematics' 'Industrial Arts & Consumer Services'\n",
      " 'Education' 'Law & Public Policy' 'Interdisciplinary' 'Health'\n",
      " 'Social Science' 'Physical Sciences' 'Psychology & Social Work' 'Arts'\n",
      " 'Business']\n",
      "{'Agriculture & Natural Resources': 632437, 'Biology & Life Science': 1338186, 'Engineering': 3576013, 'Humanities & Liberal Arts': 3738335, 'Communications & Journalism': 1803822, 'Computers & Mathematics': 1781378, 'Industrial Arts & Consumer Services': 1033798, 'Education': 4700118, 'Law & Public Policy': 902926, 'Interdisciplinary': 45199, 'Health': 2950859, 'Social Science': 2654125, 'Physical Sciences': 1025318, 'Psychology & Social Work': 1987278, 'Arts': 1805865, 'Business': 9858741}\n"
     ]
    }
   ],
   "source": [
    "# print(all_ages['Major_category'].unique())\n",
    "cats = all_ages['Major_category'].unique()\n",
    "print(cats)\n",
    "counts_dictionary = {}\n",
    "for c in cats:\n",
    "    major_df = all_ages[all_ages['Major_category'] == c]\n",
    "    total = major_df[\"Total\"].sum()\n",
    "    counts_dictionary[c] = total\n",
    "    \n",
    "print(counts_dictionary)"
   ]
  },
  {
   "cell_type": "code",
   "execution_count": 26,
   "metadata": {},
   "outputs": [],
   "source": [
    "def calculate_major_cat_totals(df):\n",
    "    cats = df['Major_category'].unique()\n",
    "    counts = dict()\n",
    "    for c in cats:\n",
    "        major_df = df[df[\"Major_category\"] == c]\n",
    "        total = major_df[\"Total\"].sum()\n",
    "        return counts\n",
    "    "
   ]
  },
  {
   "cell_type": "raw",
   "metadata": {},
   "source": [
    "aa_cat_counts = dict()\n",
    "print(aa_cat_counts)\n",
    "\n",
    "dict = {'Name': 'Zara', 'Age': 7, 'Class': 'First'}\n",
    "dict.items()\n",
    "dict.keys()"
   ]
  },
  {
   "cell_type": "code",
   "execution_count": 8,
   "metadata": {},
   "outputs": [
    {
     "data": {
      "text/plain": [
       "['Engineering',\n",
       " 'Business',\n",
       " 'Physical Sciences',\n",
       " 'Law & Public Policy',\n",
       " 'Computers & Mathematics',\n",
       " 'Agriculture & Natural Resources',\n",
       " 'Industrial Arts & Consumer Services',\n",
       " 'Arts',\n",
       " 'Health',\n",
       " 'Social Science',\n",
       " 'Biology & Life Science',\n",
       " 'Education',\n",
       " 'Humanities & Liberal Arts',\n",
       " 'Psychology & Social Work',\n",
       " 'Communications & Journalism',\n",
       " 'Interdisciplinary']"
      ]
     },
     "execution_count": 8,
     "metadata": {},
     "output_type": "execute_result"
    }
   ],
   "source": [
    "list(recent_grads['Major_category'].unique())"
   ]
  },
  {
   "cell_type": "code",
   "execution_count": 9,
   "metadata": {
    "scrolled": false
   },
   "outputs": [
    {
     "name": "stdout",
     "output_type": "stream",
     "text": [
      "['Engineering', 'Business', 'Physical Sciences', 'Law & Public Policy', 'Computers & Mathematics', 'Agriculture & Natural Resources', 'Industrial Arts & Consumer Services', 'Arts', 'Health', 'Social Science', 'Biology & Life Science', 'Education', 'Humanities & Liberal Arts', 'Psychology & Social Work', 'Communications & Journalism', 'Interdisciplinary']\n"
     ]
    }
   ],
   "source": [
    "print(recent_grads['Major_category'].unique().tolist())"
   ]
  },
  {
   "cell_type": "raw",
   "metadata": {
    "collapsed": true
   },
   "source": [
    "major_category_dict = dict()\n",
    "for i in recent_grads['Major_category'].unique().tolist():\n",
    "    major_category_slice = recent_grads[['Major_category'] == i]\n",
    "    major_category_dict[i] = major_category_slice[]"
   ]
  },
  {
   "cell_type": "code",
   "execution_count": 10,
   "metadata": {},
   "outputs": [
    {
     "name": "stdout",
     "output_type": "stream",
     "text": [
      "{}\n"
     ]
    }
   ],
   "source": [
    "aa_cat_counts = dict()\n",
    "print(aa_cat_counts)"
   ]
  },
  {
   "cell_type": "code",
   "execution_count": 11,
   "metadata": {
    "collapsed": true
   },
   "outputs": [],
   "source": [
    "dict = {'Name': 'Zara', 'Age': 7, 'Class': 'First'}"
   ]
  },
  {
   "cell_type": "code",
   "execution_count": 12,
   "metadata": {},
   "outputs": [
    {
     "name": "stdout",
     "output_type": "stream",
     "text": [
      "{'Name': 'Zara', 'Age': 7, 'Class': 'First'}\n"
     ]
    }
   ],
   "source": [
    "print(dict)"
   ]
  },
  {
   "cell_type": "code",
   "execution_count": 13,
   "metadata": {},
   "outputs": [
    {
     "data": {
      "text/plain": [
       "dict_items([('Name', 'Zara'), ('Age', 7), ('Class', 'First')])"
      ]
     },
     "execution_count": 13,
     "metadata": {},
     "output_type": "execute_result"
    },
    {
     "data": {
      "text/plain": [
       "dict_keys(['Name', 'Age', 'Class'])"
      ]
     },
     "execution_count": 13,
     "metadata": {},
     "output_type": "execute_result"
    }
   ],
   "source": [
    "dict.items()\n",
    "dict.keys()"
   ]
  },
  {
   "cell_type": "code",
   "execution_count": 14,
   "metadata": {
    "scrolled": true
   },
   "outputs": [
    {
     "ename": "TypeError",
     "evalue": "'dict' object is not callable",
     "output_type": "error",
     "traceback": [
      "\u001b[1;31m---------------------------------------------------------------------------\u001b[0m",
      "\u001b[1;31mTypeError\u001b[0m                                 Traceback (most recent call last)",
      "\u001b[1;32m<ipython-input-14-0b71dcca01e7>\u001b[0m in \u001b[0;36m<module>\u001b[1;34m()\u001b[0m\n\u001b[1;32m----> 1\u001b[1;33m \u001b[0mmajor_category_dict\u001b[0m \u001b[1;33m=\u001b[0m \u001b[0mdict\u001b[0m\u001b[1;33m(\u001b[0m\u001b[1;33m)\u001b[0m\u001b[1;33m\u001b[0m\u001b[0m\n\u001b[0m\u001b[0;32m      2\u001b[0m \u001b[0mprint\u001b[0m\u001b[1;33m(\u001b[0m\u001b[0mmajor_category_dict\u001b[0m\u001b[1;33m)\u001b[0m\u001b[1;33m\u001b[0m\u001b[0m\n",
      "\u001b[1;31mTypeError\u001b[0m: 'dict' object is not callable"
     ]
    }
   ],
   "source": [
    "major_category_dict = dict()\n",
    "print(major_category_dict)"
   ]
  },
  {
   "cell_type": "code",
   "execution_count": null,
   "metadata": {
    "collapsed": true
   },
   "outputs": [],
   "source": [
    "recent_grads['Major_category'].unique()"
   ]
  },
  {
   "cell_type": "code",
   "execution_count": null,
   "metadata": {
    "collapsed": true
   },
   "outputs": [],
   "source": [
    "def unique_value(column):\n",
    "    "
   ]
  }
 ],
 "metadata": {
  "kernelspec": {
   "display_name": "Python 3",
   "language": "python",
   "name": "python3"
  },
  "language_info": {
   "codemirror_mode": {
    "name": "ipython",
    "version": 3
   },
   "file_extension": ".py",
   "mimetype": "text/x-python",
   "name": "python",
   "nbconvert_exporter": "python",
   "pygments_lexer": "ipython3",
   "version": "3.6.1"
  }
 },
 "nbformat": 4,
 "nbformat_minor": 2
}
