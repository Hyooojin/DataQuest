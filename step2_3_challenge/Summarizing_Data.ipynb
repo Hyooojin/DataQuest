{
 "cells": [
  {
   "cell_type": "markdown",
   "metadata": {},
   "source": [
    "# <p style=\"color:tomato\">Summarizing Data</p>"
   ]
  },
  {
   "cell_type": "markdown",
   "metadata": {},
   "source": [
    "data_sorce: U.S. Cencus Bureau survey <br>\n",
    "data: everything from housing affordability to industry employment rates <br>\n",
    "cleaned_data_from : FiveThirtyEight <br>\n",
    "[https://github.com/fivethirtyeight/data/tree/master/college-majors](https://github.com/fivethirtyeight/data/tree/master/college-majors) <br>\n",
    "cleaned_data : 2010-2012/ all-ages.csv/ recent-grads.csv"
   ]
  },
  {
   "cell_type": "markdown",
   "metadata": {},
   "source": [
    "<p> <b>Read</b> Data file</p>\n",
    "<p> <b>Assign</b> the value</p>"
   ]
  },
  {
   "cell_type": "code",
   "execution_count": 1,
   "metadata": {
    "collapsed": true
   },
   "outputs": [],
   "source": [
    "from IPython.core.interactiveshell import InteractiveShell\n",
    "InteractiveShell.ast_node_interactivity = \"all\""
   ]
  },
  {
   "cell_type": "code",
   "execution_count": 2,
   "metadata": {
    "collapsed": true
   },
   "outputs": [],
   "source": [
    "import pandas as pd\n",
    "import numpy as np"
   ]
  },
  {
   "cell_type": "code",
   "execution_count": 3,
   "metadata": {},
   "outputs": [],
   "source": [
    "all_ages = pd.read_csv('all-ages.csv')\n",
    "# all_ages"
   ]
  },
  {
   "cell_type": "code",
   "execution_count": 4,
   "metadata": {},
   "outputs": [],
   "source": [
    "recent_grads = pd.read_csv('recent-grads.csv')\n",
    "# recent_grads"
   ]
  },
  {
   "cell_type": "markdown",
   "metadata": {},
   "source": [
    "<p> <b>Count</b> the number of people in each Major_category for both data sets.</p>\n",
    "<p style=\"color:red\">series.unique()</p>\n",
    ": return the unique values in a colomn (major_category)"
   ]
  },
  {
   "cell_type": "code",
   "execution_count": 5,
   "metadata": {},
   "outputs": [
    {
     "name": "stdout",
     "output_type": "stream",
     "text": [
      "['Engineering' 'Business' 'Physical Sciences' 'Law & Public Policy'\n",
      " 'Computers & Mathematics' 'Agriculture & Natural Resources'\n",
      " 'Industrial Arts & Consumer Services' 'Arts' 'Health' 'Social Science'\n",
      " 'Biology & Life Science' 'Education' 'Humanities & Liberal Arts'\n",
      " 'Psychology & Social Work' 'Communications & Journalism'\n",
      " 'Interdisciplinary']\n"
     ]
    }
   ],
   "source": [
    "# print(recent_grads['Major_category']) # 정렬이 되지 않은채 모든 row가 나온다. \n",
    "print(recent_grads['Major_category'].unique()) # 컬럼 Major_category에 있는 unique한 값만 나온다. "
   ]
  },
  {
   "cell_type": "markdown",
   "metadata": {},
   "source": [
    "<p> <b>Make</b> a function for each unique value</p>\n",
    "<p> return all of the rows where the column equals tht unique value. </p>\n"
   ]
  },
  {
   "cell_type": "markdown",
   "metadata": {},
   "source": [
    "<p style=\"color:red\">Dictionary</p>\n",
    "\n",
    ": dictionary에 대해서 알아보기 <br>\n",
    "\n",
    "### <p style=\"color:red\">How to convert Data Frame data to dictionary data</p>"
   ]
  },
  {
   "cell_type": "code",
   "execution_count": 6,
   "metadata": {
    "scrolled": true
   },
   "outputs": [
    {
     "name": "stdout",
     "output_type": "stream",
     "text": [
      "['Agriculture & Natural Resources' 'Biology & Life Science' 'Engineering'\n",
      " 'Humanities & Liberal Arts' 'Communications & Journalism'\n",
      " 'Computers & Mathematics' 'Industrial Arts & Consumer Services'\n",
      " 'Education' 'Law & Public Policy' 'Interdisciplinary' 'Health'\n",
      " 'Social Science' 'Physical Sciences' 'Psychology & Social Work' 'Arts'\n",
      " 'Business']\n"
     ]
    }
   ],
   "source": [
    "print(all_ages['Major_category'].unique())"
   ]
  },
  {
   "cell_type": "code",
   "execution_count": 7,
   "metadata": {},
   "outputs": [],
   "source": [
    "aa_cat_counts = dict()\n",
    "rg_cat_counts = dict()"
   ]
  },
  {
   "cell_type": "raw",
   "metadata": {},
   "source": [
    "aa_cat_counts = dict()\n",
    "print(aa_cat_counts)\n",
    "\n",
    "dict = {'Name': 'Zara', 'Age': 7, 'Class': 'First'}\n",
    "dict.items()\n",
    "dict.keys()"
   ]
  },
  {
   "cell_type": "code",
   "execution_count": 8,
   "metadata": {},
   "outputs": [
    {
     "data": {
      "text/plain": [
       "['Engineering',\n",
       " 'Business',\n",
       " 'Physical Sciences',\n",
       " 'Law & Public Policy',\n",
       " 'Computers & Mathematics',\n",
       " 'Agriculture & Natural Resources',\n",
       " 'Industrial Arts & Consumer Services',\n",
       " 'Arts',\n",
       " 'Health',\n",
       " 'Social Science',\n",
       " 'Biology & Life Science',\n",
       " 'Education',\n",
       " 'Humanities & Liberal Arts',\n",
       " 'Psychology & Social Work',\n",
       " 'Communications & Journalism',\n",
       " 'Interdisciplinary']"
      ]
     },
     "execution_count": 8,
     "metadata": {},
     "output_type": "execute_result"
    }
   ],
   "source": [
    "list(recent_grads['Major_category'].unique())"
   ]
  },
  {
   "cell_type": "code",
   "execution_count": 9,
   "metadata": {
    "scrolled": false
   },
   "outputs": [
    {
     "name": "stdout",
     "output_type": "stream",
     "text": [
      "['Engineering', 'Business', 'Physical Sciences', 'Law & Public Policy', 'Computers & Mathematics', 'Agriculture & Natural Resources', 'Industrial Arts & Consumer Services', 'Arts', 'Health', 'Social Science', 'Biology & Life Science', 'Education', 'Humanities & Liberal Arts', 'Psychology & Social Work', 'Communications & Journalism', 'Interdisciplinary']\n"
     ]
    }
   ],
   "source": [
    "print(recent_grads['Major_category'].unique().tolist())"
   ]
  },
  {
   "cell_type": "code",
   "execution_count": 10,
   "metadata": {},
   "outputs": [
    {
     "ename": "SyntaxError",
     "evalue": "invalid syntax (<ipython-input-10-7aeef729384c>, line 4)",
     "output_type": "error",
     "traceback": [
      "\u001b[1;36m  File \u001b[1;32m\"<ipython-input-10-7aeef729384c>\"\u001b[1;36m, line \u001b[1;32m4\u001b[0m\n\u001b[1;33m    major_category_dict[i] = major_category_slice[]\u001b[0m\n\u001b[1;37m                                                  ^\u001b[0m\n\u001b[1;31mSyntaxError\u001b[0m\u001b[1;31m:\u001b[0m invalid syntax\n"
     ]
    }
   ],
   "source": [
    "major_category_dict = dict()\n",
    "for i in recent_grads['Major_category'].unique().tolist():\n",
    "    major_category_slice = recent_grads[['Major_category'] == i]\n",
    "    major_category_dict[i] = major_category_slice[]"
   ]
  },
  {
   "cell_type": "code",
   "execution_count": null,
   "metadata": {},
   "outputs": [],
   "source": [
    "aa_cat_counts = dict()\n",
    "print(aa_cat_counts)"
   ]
  },
  {
   "cell_type": "code",
   "execution_count": null,
   "metadata": {
    "collapsed": true
   },
   "outputs": [],
   "source": [
    "dict = {'Name': 'Zara', 'Age': 7, 'Class': 'First'}"
   ]
  },
  {
   "cell_type": "code",
   "execution_count": null,
   "metadata": {},
   "outputs": [],
   "source": [
    "print(dict)"
   ]
  },
  {
   "cell_type": "code",
   "execution_count": null,
   "metadata": {},
   "outputs": [],
   "source": [
    "dict.items()\n",
    "dict.keys()"
   ]
  },
  {
   "cell_type": "code",
   "execution_count": null,
   "metadata": {},
   "outputs": [],
   "source": [
    "major_category_dict = dict()\n",
    "print(major_category_dict)"
   ]
  },
  {
   "cell_type": "code",
   "execution_count": null,
   "metadata": {
    "collapsed": true
   },
   "outputs": [],
   "source": [
    "recent_grads['Major_category'].unique()"
   ]
  },
  {
   "cell_type": "code",
   "execution_count": null,
   "metadata": {
    "collapsed": true
   },
   "outputs": [],
   "source": [
    "def unique_value(column):\n",
    "    "
   ]
  }
 ],
 "metadata": {
  "kernelspec": {
   "display_name": "Python 3",
   "language": "python",
   "name": "python3"
  },
  "language_info": {
   "codemirror_mode": {
    "name": "ipython",
    "version": 3
   },
   "file_extension": ".py",
   "mimetype": "text/x-python",
   "name": "python",
   "nbconvert_exporter": "python",
   "pygments_lexer": "ipython3",
   "version": "3.6.1"
  }
 },
 "nbformat": 4,
 "nbformat_minor": 2
}
