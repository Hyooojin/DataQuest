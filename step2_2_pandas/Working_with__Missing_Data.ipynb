{
 "cells": [
  {
   "cell_type": "markdown",
   "metadata": {},
   "source": [
    "# # Working With Missing Data\n",
    "[From the dataquest.io site](https://www.dataquest.io/m/83/data-manipulation-with-pandas/5/normalizing-columns-in-a-data-set)\n",
    "### <p style=\"color:Tomato\">Learn to handle missing data using pandas, and a data set on Titanic survival.\n",
    "<p/>\n",
    "#### <p style=\"color:Gray\">Clean and analyze data on passenger survival from the Titanic. Many of the columns, such as age and sex, have missing data.<p/>\n",
    "* cause errors\n",
    "* finding the mean of a column with a missing value is not successful.\n",
    "because it's impossible to average  missing value.\n",
    "\n",
    "\n",
    "<p style=\"color:Blue\">**1. titanic_survival.csv**<p/>"
   ]
  },
  {
   "cell_type": "code",
   "execution_count": 1,
   "metadata": {
    "collapsed": true
   },
   "outputs": [],
   "source": [
    "import pandas as pd\n",
    "import numpy as np"
   ]
  },
  {
   "cell_type": "code",
   "execution_count": 2,
   "metadata": {
    "collapsed": true
   },
   "outputs": [],
   "source": [
    "from IPython.core.interactiveshell import InteractiveShell\n",
    "InteractiveShell.ast_node_interactivity = \"all\""
   ]
  },
  {
   "cell_type": "code",
   "execution_count": 3,
   "metadata": {
    "collapsed": true
   },
   "outputs": [],
   "source": [
    "titanic_survival = pd.read_csv(\"titanic_survival.csv\")"
   ]
  },
  {
   "cell_type": "code",
   "execution_count": 4,
   "metadata": {
    "scrolled": true
   },
   "outputs": [
    {
     "name": "stdout",
     "output_type": "stream",
     "text": [
      "10    47.0\n",
      "11    18.0\n",
      "12    24.0\n",
      "13    26.0\n",
      "14    80.0\n",
      "15     NaN\n",
      "16    24.0\n",
      "17    50.0\n",
      "18    32.0\n",
      "19    36.0\n",
      "20    37.0\n",
      "Name: age, dtype: float64\n"
     ]
    }
   ],
   "source": [
    "age = titanic_survival[\"age\"]\n",
    "print(age.loc[10:20])"
   ]
  },
  {
   "cell_type": "code",
   "execution_count": 5,
   "metadata": {},
   "outputs": [
    {
     "name": "stdout",
     "output_type": "stream",
     "text": [
      "264\n"
     ]
    }
   ],
   "source": [
    "age_is_null = pd.isnull(age)\n",
    "age_null_true = age[age_is_null]\n",
    "age_null_count = len(age_null_true)\n",
    "print(age_null_count)"
   ]
  },
  {
   "cell_type": "markdown",
   "metadata": {},
   "source": [
    "#### <p style=\"color:Gray\">NaN<p/>\n",
    "not a number, to indicate a missing value\n",
    "#### <p style=\"color:Gray\">pandas.isnull()<p/>\n",
    "returns a series of True and False values."
   ]
  },
  {
   "cell_type": "code",
   "execution_count": 6,
   "metadata": {},
   "outputs": [
    {
     "name": "stdout",
     "output_type": "stream",
     "text": [
      "0       False\n",
      "1       False\n",
      "2       False\n",
      "3       False\n",
      "4       False\n",
      "5       False\n",
      "6       False\n",
      "7       False\n",
      "8       False\n",
      "9       False\n",
      "10      False\n",
      "11      False\n",
      "12      False\n",
      "13      False\n",
      "14      False\n",
      "15      False\n",
      "16      False\n",
      "17      False\n",
      "18      False\n",
      "19      False\n",
      "20      False\n",
      "21      False\n",
      "22      False\n",
      "23      False\n",
      "24      False\n",
      "25      False\n",
      "26      False\n",
      "27      False\n",
      "28      False\n",
      "29      False\n",
      "        ...  \n",
      "1280    False\n",
      "1281    False\n",
      "1282    False\n",
      "1283    False\n",
      "1284    False\n",
      "1285    False\n",
      "1286    False\n",
      "1287    False\n",
      "1288    False\n",
      "1289    False\n",
      "1290    False\n",
      "1291    False\n",
      "1292    False\n",
      "1293    False\n",
      "1294    False\n",
      "1295    False\n",
      "1296    False\n",
      "1297    False\n",
      "1298    False\n",
      "1299    False\n",
      "1300    False\n",
      "1301    False\n",
      "1302    False\n",
      "1303    False\n",
      "1304    False\n",
      "1305    False\n",
      "1306    False\n",
      "1307    False\n",
      "1308    False\n",
      "1309     True\n",
      "Name: sex, Length: 1310, dtype: bool\n"
     ]
    }
   ],
   "source": [
    "sex = titanic_survival[\"sex\"]\n",
    "sex_is_null = pd.isnull(sex)\n",
    "print(sex_is_null)"
   ]
  },
  {
   "cell_type": "code",
   "execution_count": 7,
   "metadata": {
    "scrolled": true
   },
   "outputs": [
    {
     "name": "stdout",
     "output_type": "stream",
     "text": [
      "1309    NaN\n",
      "Name: sex, dtype: object\n"
     ]
    }
   ],
   "source": [
    "sex_null_true = sex[sex_is_null]\n",
    "print(sex_null_true)"
   ]
  },
  {
   "cell_type": "markdown",
   "metadata": {},
   "source": [
    "This is because any calculations we do with a null value also result in a null value. "
   ]
  },
  {
   "cell_type": "code",
   "execution_count": 8,
   "metadata": {},
   "outputs": [
    {
     "name": "stdout",
     "output_type": "stream",
     "text": [
      "29.8811345124\n"
     ]
    }
   ],
   "source": [
    "age_is_null = pd.isnull(titanic_survival[\"age\"])\n",
    "good_ages = titanic_survival[\"age\"][age_is_null == False]\n",
    "correct_mean_age = sum(good_ages) / len(good_ages)\n",
    "print(correct_mean_age)"
   ]
  },
  {
   "cell_type": "markdown",
   "metadata": {},
   "source": [
    "#### <p style=\"color:Gray\">Series.mean()<p/>\n",
    "To calculate the mean of a column,<br/>\n",
    "missing values will not be includd in the calculation."
   ]
  },
  {
   "cell_type": "code",
   "execution_count": 9,
   "metadata": {},
   "outputs": [
    {
     "name": "stdout",
     "output_type": "stream",
     "text": [
      "29.8811345124283\n"
     ]
    }
   ],
   "source": [
    "correct_mean_age = titanic_survival[\"age\"].mean()\n",
    "print(correct_mean_age)"
   ]
  },
  {
   "cell_type": "markdown",
   "metadata": {},
   "source": [
    "Assign the mean of the \"fare\" column to correct_mean_fare."
   ]
  },
  {
   "cell_type": "code",
   "execution_count": 10,
   "metadata": {},
   "outputs": [
    {
     "name": "stdout",
     "output_type": "stream",
     "text": [
      "33.29547928134572\n"
     ]
    }
   ],
   "source": [
    "correct_mean_fare = titanic_survival[\"fare\"].mean()\n",
    "print(correct_mean_fare)"
   ]
  },
  {
   "cell_type": "code",
   "execution_count": 11,
   "metadata": {
    "collapsed": true
   },
   "outputs": [],
   "source": [
    "passenger_classes = [1,2,3]\n",
    "fares_by_class = {}"
   ]
  },
  {
   "cell_type": "code",
   "execution_count": 12,
   "metadata": {},
   "outputs": [
    {
     "name": "stdout",
     "output_type": "stream",
     "text": [
      "87.50899164086687\n",
      "21.1791963898917\n",
      "13.302888700564957\n"
     ]
    }
   ],
   "source": [
    "for this_class in passenger_classes:\n",
    "#     print(this_class)\n",
    "    pclass_rows = titanic_survival[titanic_survival[\"pclass\"] == this_class] \n",
    "#     print(pclass_rows)\n",
    "    pclass_fares = pclass_rows[\"fare\"]\n",
    "#     print(pclass_fares)\n",
    "    fare_for_class = pclass_fares.mean()\n",
    "    print(pclass_fares.mean())\n",
    "#     print(fare_for_class)\n",
    "    fares_by_class[this_class] = fare_for_class"
   ]
  },
  {
   "cell_type": "code",
   "execution_count": 13,
   "metadata": {},
   "outputs": [
    {
     "name": "stdout",
     "output_type": "stream",
     "text": [
      "87.50899164086687\n",
      "21.1791963898917\n",
      "13.302888700564957\n"
     ]
    }
   ],
   "source": [
    "print(fares_by_class[1])\n",
    "print(fares_by_class[2])\n",
    "print(fares_by_class[3])"
   ]
  },
  {
   "cell_type": "markdown",
   "metadata": {
    "collapsed": true
   },
   "source": [
    "#### <p style=\"color:Tomato\"> Pivot tables<p/>\n",
    "하나의 열로 하위 집합을 만든 다음 합계 또는 평균과 같은 계산을 적용할 수 있다. \n",
    "<br>\n",
    "> 피벗 테이블을 먼저 그룹화 한 다음 계산을 적용한다. 위에서는 pclass열을 기준으로 그룹화 한 다음 각 클래스의 fare열의 평균을 계산하여 수동으로 피벗 테이블을 만들었다. "
   ]
  },
  {
   "cell_type": "code",
   "execution_count": 14,
   "metadata": {
    "scrolled": true
   },
   "outputs": [
    {
     "name": "stdout",
     "output_type": "stream",
     "text": [
      "             fare\n",
      "pclass           \n",
      "1.0     87.508992\n",
      "2.0     21.179196\n",
      "3.0     13.302889\n"
     ]
    }
   ],
   "source": [
    "passenger_class_fares = titanic_survival.pivot_table(\n",
    "    index=\"pclass\", values=\"fare\", aggfunc=np.mean)\n",
    "print(passenger_class_fares)"
   ]
  },
  {
   "cell_type": "markdown",
   "metadata": {},
   "source": [
    "#### <p style=\"color:Gray\">First parameter<p/>\n",
    "> index tells the method which column to group by.\n",
    "> Index는 메서드를 통해 그룹화 할 열을 알려준다.\n",
    "\n",
    "#### <p style=\"color:Gray\">Second parameter<p/>\n",
    "> values is the column that we want to apply the calculation to,and aggfunc specifies the calculation we want to perform.\n",
    "> 두 번째 매개 변수 값은 계산을 적용하려는 열이다. \n",
    "\n",
    "#### <p style=\"color:Gray\">Third parameter<p/>\n",
    "> aggfunc specifies the calculation we want to perform. The defalt for the aggfunc parameter is actually the mean.\n",
    "> aggfunc는 수행하고자 하는 계산방법을 지정한다. \n"
   ]
  },
  {
   "cell_type": "code",
   "execution_count": 15,
   "metadata": {},
   "outputs": [
    {
     "name": "stdout",
     "output_type": "stream",
     "text": [
      "        survived\n",
      "pclass          \n",
      "1.0     0.619195\n",
      "2.0     0.429603\n",
      "3.0     0.255289\n"
     ]
    }
   ],
   "source": [
    "passenger_survival = titanic_survival.pivot_table(\n",
    "    index=\"pclass\", values=\"survived\")\n",
    "print(passenger_survival)"
   ]
  },
  {
   "cell_type": "markdown",
   "metadata": {},
   "source": [
    "[http://pbpython.com/pandas-pivot-table-explained.html](http://pbpython.com/pandas-pivot-table-explained.html)"
   ]
  },
  {
   "cell_type": "code",
   "execution_count": 16,
   "metadata": {
    "scrolled": true
   },
   "outputs": [
    {
     "name": "stdout",
     "output_type": "stream",
     "text": [
      "              age\n",
      "pclass           \n",
      "1.0     39.159918\n",
      "2.0     29.506705\n",
      "3.0     24.816367\n"
     ]
    }
   ],
   "source": [
    "passenger_age = titanic_survival.pivot_table(index=\"pclass\", values=\"age\")\n",
    "print(passenger_age)"
   ]
  },
  {
   "cell_type": "markdown",
   "metadata": {},
   "source": [
    "A pivot table that calculates the total fares collected (\"fare\") and total number of survivors (\"survived\") for each embarkation port (\"embarked\") <br>\n",
    "<br>\n",
    "각 승선 포트에 대한 수집된 운임과 총 생존자 수"
   ]
  },
  {
   "cell_type": "code",
   "execution_count": 17,
   "metadata": {},
   "outputs": [
    {
     "name": "stdout",
     "output_type": "stream",
     "text": [
      "                fare  survived\n",
      "embarked                      \n",
      "C         16830.7922     150.0\n",
      "Q          1526.3085      44.0\n",
      "S         25033.3862     304.0\n"
     ]
    }
   ],
   "source": [
    "port_stats = titanic_survival.pivot_table(\n",
    "    index=\"embarked\", values=[\"fare\", \"survived\"], \n",
    "    aggfunc=np.sum)\n",
    "print(port_stats)"
   ]
  },
  {
   "cell_type": "markdown",
   "metadata": {},
   "source": [
    "### Remove the missing values in a vector of data, and in a matrix"
   ]
  },
  {
   "cell_type": "markdown",
   "metadata": {},
   "source": [
    " #### <p style=\"color:Tomato\"> What is matrix?<p/>\n",
    " #### <p style=\"color:Tomato\"> What is vector?<p/>"
   ]
  },
  {
   "cell_type": "markdown",
   "metadata": {},
   "source": [
    "#### <p style=\"color:Gray\">DataFrame.dropna()<p/>\n",
    "This method will drop any rows that contain missing values.\n",
    "\n",
    "참고사이트: [결측값 있는 행 제거](http://rfriend.tistory.com/263)"
   ]
  },
  {
   "cell_type": "markdown",
   "metadata": {},
   "source": [
    "```python\n",
    "df.dropna(axis=0)\n",
    "```\n",
    "* Delete row with NaN <br>\n",
    "* 결측값이 들어있는 행 전체를 삭제한다. <br>\n",
    "* 모든 column은 유지되고, nan값이 들어있는 행만 삭제된다. \n",
    "\n",
    "```python\n",
    "df.dropna(axis=1)\n",
    "```\n",
    "* Delete column with NaN <br>\n",
    "* 결측값이 들어있는 열 전체를 삭제한다. <br>\n",
    "* NaN값을 포함하고 있는 칼럼이 지워진다. "
   ]
  },
  {
   "cell_type": "code",
   "execution_count": 18,
   "metadata": {
    "scrolled": true
   },
   "outputs": [
    {
     "name": "stdout",
     "output_type": "stream",
     "text": [
      "Empty DataFrame\n",
      "Columns: [pclass, survived, name, sex, age, sibsp, parch, ticket, fare, cabin, embarked, boat, body, home.dest]\n",
      "Index: []\n",
      "Empty DataFrame\n",
      "Columns: []\n",
      "Index: [0, 1, 2, 3, 4, 5, 6, 7, 8, 9, 10, 11, 12, 13, 14, 15, 16, 17, 18, 19, 20, 21, 22, 23, 24, 25, 26, 27, 28, 29, 30, 31, 32, 33, 34, 35, 36, 37, 38, 39, 40, 41, 42, 43, 44, 45, 46, 47, 48, 49, 50, 51, 52, 53, 54, 55, 56, 57, 58, 59, 60, 61, 62, 63, 64, 65, 66, 67, 68, 69, 70, 71, 72, 73, 74, 75, 76, 77, 78, 79, 80, 81, 82, 83, 84, 85, 86, 87, 88, 89, 90, 91, 92, 93, 94, 95, 96, 97, 98, 99, ...]\n",
      "\n",
      "[1310 rows x 0 columns]\n"
     ]
    }
   ],
   "source": [
    "drop_na_rows = titanic_survival.dropna(axis=0)\n",
    "drop_na_col = titanic_survival.dropna(axis=1)\n",
    "print(drop_na_rows)\n",
    "print(drop_na_col)"
   ]
  },
  {
   "cell_type": "markdown",
   "metadata": {},
   "source": [
    "```python\n",
    "dat.dropna(how='any') #to drop if any value in the row has a nan\n",
    "dat.dropna(how='all') #to drop if all values in the row are nan\n",
    "```"
   ]
  },
  {
   "cell_type": "code",
   "execution_count": 19,
   "metadata": {
    "scrolled": false
   },
   "outputs": [
    {
     "data": {
      "text/plain": [
       "1310"
      ]
     },
     "execution_count": 19,
     "metadata": {},
     "output_type": "execute_result"
    }
   ],
   "source": [
    "len(titanic_survival.index)"
   ]
  },
  {
   "cell_type": "code",
   "execution_count": 20,
   "metadata": {
    "scrolled": true
   },
   "outputs": [
    {
     "name": "stdout",
     "output_type": "stream",
     "text": [
      "Empty DataFrame\n",
      "Columns: []\n",
      "Index: [0, 1, 2, 3, 4, 5, 6, 7, 8, 9, 10, 11, 12, 13, 14, 15, 16, 17, 18, 19, 20, 21, 22, 23, 24, 25, 26, 27, 28, 29, 30, 31, 32, 33, 34, 35, 36, 37, 38, 39, 40, 41, 42, 43, 44, 45, 46, 47, 48, 49, 50, 51, 52, 53, 54, 55, 56, 57, 58, 59, 60, 61, 62, 63, 64, 65, 66, 67, 68, 69, 70, 71, 72, 73, 74, 75, 76, 77, 78, 79, 80, 81, 82, 83, 84, 85, 86, 87, 88, 89, 90, 91, 92, 93, 94, 95, 96, 97, 98, 99, ...]\n",
      "\n",
      "[1310 rows x 0 columns]\n"
     ]
    }
   ],
   "source": [
    "drop_na_columns = titanic_survival.dropna(\n",
    "    axis=1)\n",
    "print(drop_na_columns)"
   ]
  },
  {
   "cell_type": "markdown",
   "metadata": {},
   "source": [
    "where the columns \"age\", \"sex\" have missing values and assign he result t new_titanic_survival."
   ]
  },
  {
   "cell_type": "code",
   "execution_count": 21,
   "metadata": {},
   "outputs": [
    {
     "name": "stdout",
     "output_type": "stream",
     "text": [
      "      pclass  survived                                               name  \\\n",
      "0        1.0       1.0                      Allen, Miss. Elisabeth Walton   \n",
      "1        1.0       1.0                     Allison, Master. Hudson Trevor   \n",
      "2        1.0       0.0                       Allison, Miss. Helen Loraine   \n",
      "3        1.0       0.0               Allison, Mr. Hudson Joshua Creighton   \n",
      "4        1.0       0.0    Allison, Mrs. Hudson J C (Bessie Waldo Daniels)   \n",
      "5        1.0       1.0                                Anderson, Mr. Harry   \n",
      "6        1.0       1.0                  Andrews, Miss. Kornelia Theodosia   \n",
      "7        1.0       0.0                             Andrews, Mr. Thomas Jr   \n",
      "8        1.0       1.0      Appleton, Mrs. Edward Dale (Charlotte Lamson)   \n",
      "9        1.0       0.0                            Artagaveytia, Mr. Ramon   \n",
      "10       1.0       0.0                             Astor, Col. John Jacob   \n",
      "11       1.0       1.0  Astor, Mrs. John Jacob (Madeleine Talmadge Force)   \n",
      "12       1.0       1.0                      Aubart, Mme. Leontine Pauline   \n",
      "13       1.0       1.0                       Barber, Miss. Ellen \"Nellie\"   \n",
      "14       1.0       1.0               Barkworth, Mr. Algernon Henry Wilson   \n",
      "16       1.0       0.0                           Baxter, Mr. Quigg Edmond   \n",
      "17       1.0       1.0    Baxter, Mrs. James (Helene DeLaudeniere Chaput)   \n",
      "18       1.0       1.0                              Bazzani, Miss. Albina   \n",
      "19       1.0       0.0                               Beattie, Mr. Thomson   \n",
      "20       1.0       1.0                      Beckwith, Mr. Richard Leonard   \n",
      "21       1.0       1.0   Beckwith, Mrs. Richard Leonard (Sallie Monypeny)   \n",
      "22       1.0       1.0                              Behr, Mr. Karl Howell   \n",
      "23       1.0       1.0                              Bidois, Miss. Rosalie   \n",
      "24       1.0       1.0                                  Bird, Miss. Ellen   \n",
      "25       1.0       0.0                                Birnbaum, Mr. Jakob   \n",
      "26       1.0       1.0                            Bishop, Mr. Dickinson H   \n",
      "27       1.0       1.0            Bishop, Mrs. Dickinson H (Helen Walton)   \n",
      "28       1.0       1.0                             Bissette, Miss. Amelia   \n",
      "29       1.0       1.0          Bjornstrom-Steffansson, Mr. Mauritz Hakan   \n",
      "30       1.0       0.0                       Blackwell, Mr. Stephen Weart   \n",
      "...      ...       ...                                                ...   \n",
      "1269     3.0       0.0                   Vande Velde, Mr. Johannes Joseph   \n",
      "1270     3.0       0.0                     Vande Walle, Mr. Nestor Cyriel   \n",
      "1271     3.0       0.0                        Vanden Steen, Mr. Leo Peter   \n",
      "1272     3.0       0.0                        Vander Cruyssen, Mr. Victor   \n",
      "1273     3.0       0.0                 Vander Planke, Miss. Augusta Maria   \n",
      "1274     3.0       0.0                          Vander Planke, Mr. Julius   \n",
      "1275     3.0       0.0                    Vander Planke, Mr. Leo Edmondus   \n",
      "1276     3.0       0.0  Vander Planke, Mrs. Julius (Emelia Maria Vande...   \n",
      "1277     3.0       1.0                               Vartanian, Mr. David   \n",
      "1278     3.0       0.0                             Vendel, Mr. Olof Edvin   \n",
      "1279     3.0       0.0               Vestrom, Miss. Hulda Amanda Adolfina   \n",
      "1280     3.0       0.0                                    Vovk, Mr. Janko   \n",
      "1281     3.0       0.0                               Waelens, Mr. Achille   \n",
      "1285     3.0       0.0                                Wenzel, Mr. Linhart   \n",
      "1286     3.0       1.0    Whabee, Mrs. George Joseph (Shawneene Abi-Saab)   \n",
      "1287     3.0       0.0                   Widegren, Mr. Carl/Charles Peter   \n",
      "1288     3.0       0.0                          Wiklund, Mr. Jakob Alfred   \n",
      "1289     3.0       0.0                            Wiklund, Mr. Karl Johan   \n",
      "1290     3.0       1.0                   Wilkes, Mrs. James (Ellen Needs)   \n",
      "1294     3.0       0.0                               Williams, Mr. Leslie   \n",
      "1295     3.0       0.0                                Windelov, Mr. Einar   \n",
      "1296     3.0       0.0                                   Wirz, Mr. Albert   \n",
      "1298     3.0       0.0                          Wittevrongel, Mr. Camille   \n",
      "1299     3.0       0.0                                Yasbeck, Mr. Antoni   \n",
      "1300     3.0       1.0            Yasbeck, Mrs. Antoni (Selini Alexander)   \n",
      "1301     3.0       0.0                               Youseff, Mr. Gerious   \n",
      "1304     3.0       0.0                               Zabour, Miss. Hileni   \n",
      "1306     3.0       0.0                          Zakarian, Mr. Mapriededer   \n",
      "1307     3.0       0.0                                Zakarian, Mr. Ortin   \n",
      "1308     3.0       0.0                                 Zimmerman, Mr. Leo   \n",
      "\n",
      "         sex      age  sibsp  parch            ticket      fare    cabin  \\\n",
      "0     female  29.0000    0.0    0.0             24160  211.3375       B5   \n",
      "1       male   0.9167    1.0    2.0            113781  151.5500  C22 C26   \n",
      "2     female   2.0000    1.0    2.0            113781  151.5500  C22 C26   \n",
      "3       male  30.0000    1.0    2.0            113781  151.5500  C22 C26   \n",
      "4     female  25.0000    1.0    2.0            113781  151.5500  C22 C26   \n",
      "5       male  48.0000    0.0    0.0             19952   26.5500      E12   \n",
      "6     female  63.0000    1.0    0.0             13502   77.9583       D7   \n",
      "7       male  39.0000    0.0    0.0            112050    0.0000      A36   \n",
      "8     female  53.0000    2.0    0.0             11769   51.4792     C101   \n",
      "9       male  71.0000    0.0    0.0          PC 17609   49.5042      NaN   \n",
      "10      male  47.0000    1.0    0.0          PC 17757  227.5250  C62 C64   \n",
      "11    female  18.0000    1.0    0.0          PC 17757  227.5250  C62 C64   \n",
      "12    female  24.0000    0.0    0.0          PC 17477   69.3000      B35   \n",
      "13    female  26.0000    0.0    0.0             19877   78.8500      NaN   \n",
      "14      male  80.0000    0.0    0.0             27042   30.0000      A23   \n",
      "16      male  24.0000    0.0    1.0          PC 17558  247.5208  B58 B60   \n",
      "17    female  50.0000    0.0    1.0          PC 17558  247.5208  B58 B60   \n",
      "18    female  32.0000    0.0    0.0             11813   76.2917      D15   \n",
      "19      male  36.0000    0.0    0.0             13050   75.2417       C6   \n",
      "20      male  37.0000    1.0    1.0             11751   52.5542      D35   \n",
      "21    female  47.0000    1.0    1.0             11751   52.5542      D35   \n",
      "22      male  26.0000    0.0    0.0            111369   30.0000     C148   \n",
      "23    female  42.0000    0.0    0.0          PC 17757  227.5250      NaN   \n",
      "24    female  29.0000    0.0    0.0          PC 17483  221.7792      C97   \n",
      "25      male  25.0000    0.0    0.0             13905   26.0000      NaN   \n",
      "26      male  25.0000    1.0    0.0             11967   91.0792      B49   \n",
      "27    female  19.0000    1.0    0.0             11967   91.0792      B49   \n",
      "28    female  35.0000    0.0    0.0          PC 17760  135.6333      C99   \n",
      "29      male  28.0000    0.0    0.0            110564   26.5500      C52   \n",
      "30      male  45.0000    0.0    0.0            113784   35.5000        T   \n",
      "...      ...      ...    ...    ...               ...       ...      ...   \n",
      "1269    male  33.0000    0.0    0.0            345780    9.5000      NaN   \n",
      "1270    male  28.0000    0.0    0.0            345770    9.5000      NaN   \n",
      "1271    male  28.0000    0.0    0.0            345783    9.5000      NaN   \n",
      "1272    male  47.0000    0.0    0.0            345765    9.0000      NaN   \n",
      "1273  female  18.0000    2.0    0.0            345764   18.0000      NaN   \n",
      "1274    male  31.0000    3.0    0.0            345763   18.0000      NaN   \n",
      "1275    male  16.0000    2.0    0.0            345764   18.0000      NaN   \n",
      "1276  female  31.0000    1.0    0.0            345763   18.0000      NaN   \n",
      "1277    male  22.0000    0.0    0.0              2658    7.2250      NaN   \n",
      "1278    male  20.0000    0.0    0.0            350416    7.8542      NaN   \n",
      "1279  female  14.0000    0.0    0.0            350406    7.8542      NaN   \n",
      "1280    male  22.0000    0.0    0.0            349252    7.8958      NaN   \n",
      "1281    male  22.0000    0.0    0.0            345767    9.0000      NaN   \n",
      "1285    male  32.5000    0.0    0.0            345775    9.5000      NaN   \n",
      "1286  female  38.0000    0.0    0.0              2688    7.2292      NaN   \n",
      "1287    male  51.0000    0.0    0.0            347064    7.7500      NaN   \n",
      "1288    male  18.0000    1.0    0.0           3101267    6.4958      NaN   \n",
      "1289    male  21.0000    1.0    0.0           3101266    6.4958      NaN   \n",
      "1290  female  47.0000    1.0    0.0            363272    7.0000      NaN   \n",
      "1294    male  28.5000    0.0    0.0             54636   16.1000      NaN   \n",
      "1295    male  21.0000    0.0    0.0  SOTON/OQ 3101317    7.2500      NaN   \n",
      "1296    male  27.0000    0.0    0.0            315154    8.6625      NaN   \n",
      "1298    male  36.0000    0.0    0.0            345771    9.5000      NaN   \n",
      "1299    male  27.0000    1.0    0.0              2659   14.4542      NaN   \n",
      "1300  female  15.0000    1.0    0.0              2659   14.4542      NaN   \n",
      "1301    male  45.5000    0.0    0.0              2628    7.2250      NaN   \n",
      "1304  female  14.5000    1.0    0.0              2665   14.4542      NaN   \n",
      "1306    male  26.5000    0.0    0.0              2656    7.2250      NaN   \n",
      "1307    male  27.0000    0.0    0.0              2670    7.2250      NaN   \n",
      "1308    male  29.0000    0.0    0.0            315082    7.8750      NaN   \n",
      "\n",
      "     embarked   boat   body                           home.dest  \n",
      "0           S      2    NaN                        St Louis, MO  \n",
      "1           S     11    NaN     Montreal, PQ / Chesterville, ON  \n",
      "2           S    NaN    NaN     Montreal, PQ / Chesterville, ON  \n",
      "3           S    NaN  135.0     Montreal, PQ / Chesterville, ON  \n",
      "4           S    NaN    NaN     Montreal, PQ / Chesterville, ON  \n",
      "5           S      3    NaN                        New York, NY  \n",
      "6           S     10    NaN                          Hudson, NY  \n",
      "7           S    NaN    NaN                         Belfast, NI  \n",
      "8           S      D    NaN                 Bayside, Queens, NY  \n",
      "9           C    NaN   22.0                 Montevideo, Uruguay  \n",
      "10          C    NaN  124.0                        New York, NY  \n",
      "11          C      4    NaN                        New York, NY  \n",
      "12          C      9    NaN                       Paris, France  \n",
      "13          S      6    NaN                                 NaN  \n",
      "14          S      B    NaN                       Hessle, Yorks  \n",
      "16          C    NaN    NaN                        Montreal, PQ  \n",
      "17          C      6    NaN                        Montreal, PQ  \n",
      "18          C      8    NaN                                 NaN  \n",
      "19          C      A    NaN                        Winnipeg, MN  \n",
      "20          S      5    NaN                        New York, NY  \n",
      "21          S      5    NaN                        New York, NY  \n",
      "22          C      5    NaN                        New York, NY  \n",
      "23          C      4    NaN                                 NaN  \n",
      "24          S      8    NaN                                 NaN  \n",
      "25          C    NaN  148.0                   San Francisco, CA  \n",
      "26          C      7    NaN                        Dowagiac, MI  \n",
      "27          C      7    NaN                        Dowagiac, MI  \n",
      "28          S      8    NaN                                 NaN  \n",
      "29          S      D    NaN  Stockholm, Sweden / Washington, DC  \n",
      "30          S    NaN    NaN                         Trenton, NJ  \n",
      "...       ...    ...    ...                                 ...  \n",
      "1269        S    NaN    NaN                                 NaN  \n",
      "1270        S    NaN    NaN                                 NaN  \n",
      "1271        S    NaN    NaN                                 NaN  \n",
      "1272        S    NaN    NaN                                 NaN  \n",
      "1273        S    NaN    NaN                                 NaN  \n",
      "1274        S    NaN    NaN                                 NaN  \n",
      "1275        S    NaN    NaN                                 NaN  \n",
      "1276        S    NaN    NaN                                 NaN  \n",
      "1277        C  13 15    NaN                                 NaN  \n",
      "1278        S    NaN    NaN                                 NaN  \n",
      "1279        S    NaN    NaN                                 NaN  \n",
      "1280        S    NaN    NaN                                 NaN  \n",
      "1281        S    NaN    NaN      Antwerp, Belgium / Stanton, OH  \n",
      "1285        S    NaN  298.0                                 NaN  \n",
      "1286        C      C    NaN                                 NaN  \n",
      "1287        S    NaN    NaN                                 NaN  \n",
      "1288        S    NaN  314.0                                 NaN  \n",
      "1289        S    NaN    NaN                                 NaN  \n",
      "1290        S    NaN    NaN                                 NaN  \n",
      "1294        S    NaN   14.0                                 NaN  \n",
      "1295        S    NaN    NaN                                 NaN  \n",
      "1296        S    NaN  131.0                                 NaN  \n",
      "1298        S    NaN    NaN                                 NaN  \n",
      "1299        C      C    NaN                                 NaN  \n",
      "1300        C    NaN    NaN                                 NaN  \n",
      "1301        C    NaN  312.0                                 NaN  \n",
      "1304        C    NaN  328.0                                 NaN  \n",
      "1306        C    NaN  304.0                                 NaN  \n",
      "1307        C    NaN    NaN                                 NaN  \n",
      "1308        S    NaN    NaN                                 NaN  \n",
      "\n",
      "[1046 rows x 14 columns]\n"
     ]
    }
   ],
   "source": [
    "new_titanic_survival = titanic_survival.dropna(axis=0, subset=[\"age\", \"sex\"])\n",
    "print(new_titanic_survival)"
   ]
  },
  {
   "cell_type": "markdown",
   "metadata": {},
   "source": [
    "#### <p style=\"color:Gray\">Dataframe.loc()<p/>\n",
    "These work just like column labels, and can be values like numbers, characters, and strings.\n",
    "\n"
   ]
  },
  {
   "cell_type": "code",
   "execution_count": 22,
   "metadata": {},
   "outputs": [
    {
     "name": "stdout",
     "output_type": "stream",
     "text": [
      "   pclass  survived                                             name     sex  \\\n",
      "0     1.0       1.0                    Allen, Miss. Elisabeth Walton  female   \n",
      "1     1.0       1.0                   Allison, Master. Hudson Trevor    male   \n",
      "2     1.0       0.0                     Allison, Miss. Helen Loraine  female   \n",
      "3     1.0       0.0             Allison, Mr. Hudson Joshua Creighton    male   \n",
      "4     1.0       0.0  Allison, Mrs. Hudson J C (Bessie Waldo Daniels)  female   \n",
      "\n",
      "       age  sibsp  parch  ticket      fare    cabin embarked boat   body  \\\n",
      "0  29.0000    0.0    0.0   24160  211.3375       B5        S    2    NaN   \n",
      "1   0.9167    1.0    2.0  113781  151.5500  C22 C26        S   11    NaN   \n",
      "2   2.0000    1.0    2.0  113781  151.5500  C22 C26        S  NaN    NaN   \n",
      "3  30.0000    1.0    2.0  113781  151.5500  C22 C26        S  NaN  135.0   \n",
      "4  25.0000    1.0    2.0  113781  151.5500  C22 C26        S  NaN    NaN   \n",
      "\n",
      "                         home.dest  \n",
      "0                     St Louis, MO  \n",
      "1  Montreal, PQ / Chesterville, ON  \n",
      "2  Montreal, PQ / Chesterville, ON  \n",
      "3  Montreal, PQ / Chesterville, ON  \n",
      "4  Montreal, PQ / Chesterville, ON  \n"
     ]
    }
   ],
   "source": [
    "first_five_rows = new_titanic_survival.iloc[0:5]\n",
    "print(first_five_rows)"
   ]
  },
  {
   "cell_type": "code",
   "execution_count": 23,
   "metadata": {},
   "outputs": [
    {
     "name": "stdout",
     "output_type": "stream",
     "text": [
      "   pclass  survived                                             name     sex  \\\n",
      "0     1.0       1.0                    Allen, Miss. Elisabeth Walton  female   \n",
      "1     1.0       1.0                   Allison, Master. Hudson Trevor    male   \n",
      "2     1.0       0.0                     Allison, Miss. Helen Loraine  female   \n",
      "3     1.0       0.0             Allison, Mr. Hudson Joshua Creighton    male   \n",
      "4     1.0       0.0  Allison, Mrs. Hudson J C (Bessie Waldo Daniels)  female   \n",
      "5     1.0       1.0                              Anderson, Mr. Harry    male   \n",
      "6     1.0       1.0                Andrews, Miss. Kornelia Theodosia  female   \n",
      "7     1.0       0.0                           Andrews, Mr. Thomas Jr    male   \n",
      "8     1.0       1.0    Appleton, Mrs. Edward Dale (Charlotte Lamson)  female   \n",
      "9     1.0       0.0                          Artagaveytia, Mr. Ramon    male   \n",
      "\n",
      "       age  sibsp  parch    ticket      fare    cabin embarked boat   body  \\\n",
      "0  29.0000    0.0    0.0     24160  211.3375       B5        S    2    NaN   \n",
      "1   0.9167    1.0    2.0    113781  151.5500  C22 C26        S   11    NaN   \n",
      "2   2.0000    1.0    2.0    113781  151.5500  C22 C26        S  NaN    NaN   \n",
      "3  30.0000    1.0    2.0    113781  151.5500  C22 C26        S  NaN  135.0   \n",
      "4  25.0000    1.0    2.0    113781  151.5500  C22 C26        S  NaN    NaN   \n",
      "5  48.0000    0.0    0.0     19952   26.5500      E12        S    3    NaN   \n",
      "6  63.0000    1.0    0.0     13502   77.9583       D7        S   10    NaN   \n",
      "7  39.0000    0.0    0.0    112050    0.0000      A36        S  NaN    NaN   \n",
      "8  53.0000    2.0    0.0     11769   51.4792     C101        S    D    NaN   \n",
      "9  71.0000    0.0    0.0  PC 17609   49.5042      NaN        C  NaN   22.0   \n",
      "\n",
      "                         home.dest  \n",
      "0                     St Louis, MO  \n",
      "1  Montreal, PQ / Chesterville, ON  \n",
      "2  Montreal, PQ / Chesterville, ON  \n",
      "3  Montreal, PQ / Chesterville, ON  \n",
      "4  Montreal, PQ / Chesterville, ON  \n",
      "5                     New York, NY  \n",
      "6                       Hudson, NY  \n",
      "7                      Belfast, NI  \n",
      "8              Bayside, Queens, NY  \n",
      "9              Montevideo, Uruguay  \n"
     ]
    }
   ],
   "source": [
    "first_ten_rows = new_titanic_survival.iloc[0:10]\n",
    "print(first_ten_rows)"
   ]
  },
  {
   "cell_type": "code",
   "execution_count": 24,
   "metadata": {},
   "outputs": [
    {
     "name": "stdout",
     "output_type": "stream",
     "text": [
      "pclass                                                     1\n",
      "survived                                                   0\n",
      "name         Allison, Mrs. Hudson J C (Bessie Waldo Daniels)\n",
      "sex                                                   female\n",
      "age                                                       25\n",
      "sibsp                                                      1\n",
      "parch                                                      2\n",
      "ticket                                                113781\n",
      "fare                                                  151.55\n",
      "cabin                                                C22 C26\n",
      "embarked                                                   S\n",
      "boat                                                     NaN\n",
      "body                                                     NaN\n",
      "home.dest                    Montreal, PQ / Chesterville, ON\n",
      "Name: 4, dtype: object\n"
     ]
    }
   ],
   "source": [
    "row_position_fifth = new_titanic_survival.iloc[4]\n",
    "print(row_position_fifth)"
   ]
  },
  {
   "cell_type": "markdown",
   "metadata": {},
   "source": [
    "Assign the row with index label 25 from new_titanic_survival"
   ]
  },
  {
   "cell_type": "code",
   "execution_count": 25,
   "metadata": {
    "collapsed": true
   },
   "outputs": [],
   "source": [
    "row_index_25 = new_titanic_survival.loc[25]"
   ]
  },
  {
   "cell_type": "code",
   "execution_count": 26,
   "metadata": {},
   "outputs": [
    {
     "name": "stdout",
     "output_type": "stream",
     "text": [
      "1.0\n"
     ]
    }
   ],
   "source": [
    "first_row_first_column = new_titanic_survival.iloc[0,0]\n",
    "print(first_row_first_column)"
   ]
  },
  {
   "cell_type": "code",
   "execution_count": 27,
   "metadata": {},
   "outputs": [
    {
     "name": "stdout",
     "output_type": "stream",
     "text": [
      "      pclass  survived                                               name\n",
      "0        1.0       1.0                      Allen, Miss. Elisabeth Walton\n",
      "1        1.0       1.0                     Allison, Master. Hudson Trevor\n",
      "2        1.0       0.0                       Allison, Miss. Helen Loraine\n",
      "3        1.0       0.0               Allison, Mr. Hudson Joshua Creighton\n",
      "4        1.0       0.0    Allison, Mrs. Hudson J C (Bessie Waldo Daniels)\n",
      "5        1.0       1.0                                Anderson, Mr. Harry\n",
      "6        1.0       1.0                  Andrews, Miss. Kornelia Theodosia\n",
      "7        1.0       0.0                             Andrews, Mr. Thomas Jr\n",
      "8        1.0       1.0      Appleton, Mrs. Edward Dale (Charlotte Lamson)\n",
      "9        1.0       0.0                            Artagaveytia, Mr. Ramon\n",
      "10       1.0       0.0                             Astor, Col. John Jacob\n",
      "11       1.0       1.0  Astor, Mrs. John Jacob (Madeleine Talmadge Force)\n",
      "12       1.0       1.0                      Aubart, Mme. Leontine Pauline\n",
      "13       1.0       1.0                       Barber, Miss. Ellen \"Nellie\"\n",
      "14       1.0       1.0               Barkworth, Mr. Algernon Henry Wilson\n",
      "16       1.0       0.0                           Baxter, Mr. Quigg Edmond\n",
      "17       1.0       1.0    Baxter, Mrs. James (Helene DeLaudeniere Chaput)\n",
      "18       1.0       1.0                              Bazzani, Miss. Albina\n",
      "19       1.0       0.0                               Beattie, Mr. Thomson\n",
      "20       1.0       1.0                      Beckwith, Mr. Richard Leonard\n",
      "21       1.0       1.0   Beckwith, Mrs. Richard Leonard (Sallie Monypeny)\n",
      "22       1.0       1.0                              Behr, Mr. Karl Howell\n",
      "23       1.0       1.0                              Bidois, Miss. Rosalie\n",
      "24       1.0       1.0                                  Bird, Miss. Ellen\n",
      "25       1.0       0.0                                Birnbaum, Mr. Jakob\n",
      "26       1.0       1.0                            Bishop, Mr. Dickinson H\n",
      "27       1.0       1.0            Bishop, Mrs. Dickinson H (Helen Walton)\n",
      "28       1.0       1.0                             Bissette, Miss. Amelia\n",
      "29       1.0       1.0          Bjornstrom-Steffansson, Mr. Mauritz Hakan\n",
      "30       1.0       0.0                       Blackwell, Mr. Stephen Weart\n",
      "...      ...       ...                                                ...\n",
      "1269     3.0       0.0                   Vande Velde, Mr. Johannes Joseph\n",
      "1270     3.0       0.0                     Vande Walle, Mr. Nestor Cyriel\n",
      "1271     3.0       0.0                        Vanden Steen, Mr. Leo Peter\n",
      "1272     3.0       0.0                        Vander Cruyssen, Mr. Victor\n",
      "1273     3.0       0.0                 Vander Planke, Miss. Augusta Maria\n",
      "1274     3.0       0.0                          Vander Planke, Mr. Julius\n",
      "1275     3.0       0.0                    Vander Planke, Mr. Leo Edmondus\n",
      "1276     3.0       0.0  Vander Planke, Mrs. Julius (Emelia Maria Vande...\n",
      "1277     3.0       1.0                               Vartanian, Mr. David\n",
      "1278     3.0       0.0                             Vendel, Mr. Olof Edvin\n",
      "1279     3.0       0.0               Vestrom, Miss. Hulda Amanda Adolfina\n",
      "1280     3.0       0.0                                    Vovk, Mr. Janko\n",
      "1281     3.0       0.0                               Waelens, Mr. Achille\n",
      "1285     3.0       0.0                                Wenzel, Mr. Linhart\n",
      "1286     3.0       1.0    Whabee, Mrs. George Joseph (Shawneene Abi-Saab)\n",
      "1287     3.0       0.0                   Widegren, Mr. Carl/Charles Peter\n",
      "1288     3.0       0.0                          Wiklund, Mr. Jakob Alfred\n",
      "1289     3.0       0.0                            Wiklund, Mr. Karl Johan\n",
      "1290     3.0       1.0                   Wilkes, Mrs. James (Ellen Needs)\n",
      "1294     3.0       0.0                               Williams, Mr. Leslie\n",
      "1295     3.0       0.0                                Windelov, Mr. Einar\n",
      "1296     3.0       0.0                                   Wirz, Mr. Albert\n",
      "1298     3.0       0.0                          Wittevrongel, Mr. Camille\n",
      "1299     3.0       0.0                                Yasbeck, Mr. Antoni\n",
      "1300     3.0       1.0            Yasbeck, Mrs. Antoni (Selini Alexander)\n",
      "1301     3.0       0.0                               Youseff, Mr. Gerious\n",
      "1304     3.0       0.0                               Zabour, Miss. Hileni\n",
      "1306     3.0       0.0                          Zakarian, Mr. Mapriededer\n",
      "1307     3.0       0.0                                Zakarian, Mr. Ortin\n",
      "1308     3.0       0.0                                 Zimmerman, Mr. Leo\n",
      "\n",
      "[1046 rows x 3 columns]\n"
     ]
    }
   ],
   "source": [
    "all_rows_first_three_columns = new_titanic_survival.iloc[:, 0:3]\n",
    "print(all_rows_first_three_columns)"
   ]
  },
  {
   "cell_type": "code",
   "execution_count": 28,
   "metadata": {},
   "outputs": [
    {
     "name": "stdout",
     "output_type": "stream",
     "text": [
      "64.0\n"
     ]
    }
   ],
   "source": [
    "row_index_83_age = new_titanic_survival.loc[83, \"age\"]\n",
    "print(row_index_83_age)"
   ]
  },
  {
   "cell_type": "code",
   "execution_count": 29,
   "metadata": {},
   "outputs": [
    {
     "name": "stdout",
     "output_type": "stream",
     "text": [
      "pclass                               1\n",
      "survived                             1\n",
      "name         Dodge, Master. Washington\n",
      "sex                               male\n",
      "age                                  4\n",
      "sibsp                                0\n",
      "parch                                2\n",
      "ticket                           33638\n",
      "fare                           81.8583\n",
      "cabin                              A34\n",
      "embarked                             S\n",
      "boat                                 5\n",
      "body                               NaN\n",
      "home.dest            San Francisco, CA\n",
      "Name: 94, dtype: object\n"
     ]
    }
   ],
   "source": [
    "row_83_colums_all = new_titanic_survival.iloc[85, :] #82 , #83, #84\n",
    "print(row_83_colums_all)"
   ]
  },
  {
   "cell_type": "code",
   "execution_count": 30,
   "metadata": {},
   "outputs": [
    {
     "name": "stdout",
     "output_type": "stream",
     "text": [
      "3.0\n"
     ]
    }
   ],
   "source": [
    "row_index_766_pclass = new_titanic_survival.loc[766, \"pclass\"]\n",
    "print(row_index_766_pclass)"
   ]
  },
  {
   "cell_type": "code",
   "execution_count": 31,
   "metadata": {},
   "outputs": [
    {
     "name": "stdout",
     "output_type": "stream",
     "text": [
      "29.0\n"
     ]
    }
   ],
   "source": [
    "row_index_1100_age = new_titanic_survival.loc[1100, \"age\"]\n",
    "print(row_index_1100_age)"
   ]
  },
  {
   "cell_type": "code",
   "execution_count": 32,
   "metadata": {},
   "outputs": [
    {
     "name": "stdout",
     "output_type": "stream",
     "text": [
      "0.0\n"
     ]
    }
   ],
   "source": [
    "row_index_25_survived = new_titanic_survival.loc[25, \"survived\"]\n",
    "print(row_index_25_survived)"
   ]
  },
  {
   "cell_type": "code",
   "execution_count": 33,
   "metadata": {},
   "outputs": [
    {
     "name": "stdout",
     "output_type": "stream",
     "text": [
      "   pclass  survived                                             name\n",
      "0     1.0       1.0                    Allen, Miss. Elisabeth Walton\n",
      "1     1.0       1.0                   Allison, Master. Hudson Trevor\n",
      "2     1.0       0.0                     Allison, Miss. Helen Loraine\n",
      "3     1.0       0.0             Allison, Mr. Hudson Joshua Creighton\n",
      "4     1.0       0.0  Allison, Mrs. Hudson J C (Bessie Waldo Daniels)\n"
     ]
    }
   ],
   "source": [
    "five_rows_three_cols = new_titanic_survival.iloc[0:5, 0:3]\n",
    "print(five_rows_three_cols)"
   ]
  },
  {
   "cell_type": "markdown",
   "metadata": {},
   "source": [
    "#### <p style=\"color:Gray\">Dataframe.reset_index()<p/>\n",
    "나이별로 정렬한 것은 인덱스가 더 이상 순차적이지 않다. \n",
    "각 행들은 titanic_survival에서 존재한 원래 색인을 유지했기 때문. \n",
    "따라서 0부터 시작하여 다시 인덱싱할 필요가 있다. <br>\n",
    "<br>\n",
    "기본적으로 메서드는 이전 인덱스 값을 사용하여 데이터 프레임에 추가 열을 추가하여 이전 인덱스를 유지합니다. "
   ]
  },
  {
   "cell_type": "code",
   "execution_count": 34,
   "metadata": {},
   "outputs": [],
   "source": [
    "titanic_reindexed = new_titanic_survival.reset_index(drop=True)"
   ]
  },
  {
   "cell_type": "code",
   "execution_count": 35,
   "metadata": {},
   "outputs": [
    {
     "name": "stdout",
     "output_type": "stream",
     "text": [
      "   pclass  survived                                             name\n",
      "0     1.0       1.0                    Allen, Miss. Elisabeth Walton\n",
      "1     1.0       1.0                   Allison, Master. Hudson Trevor\n",
      "2     1.0       0.0                     Allison, Miss. Helen Loraine\n",
      "3     1.0       0.0             Allison, Mr. Hudson Joshua Creighton\n",
      "4     1.0       0.0  Allison, Mrs. Hudson J C (Bessie Waldo Daniels)\n"
     ]
    }
   ],
   "source": [
    "print(titanic_reindexed.iloc[0:5, 0:3])"
   ]
  },
  {
   "cell_type": "markdown",
   "metadata": {},
   "source": [
    "뻘짓!\n",
    "How can I write a function that counts the number of null elements in a Series."
   ]
  },
  {
   "cell_type": "code",
   "execution_count": 36,
   "metadata": {
    "collapsed": true
   },
   "outputs": [],
   "source": [
    "def hundredth_row(column):\n",
    "    hundredth_item = column.iloc[99]\n",
    "    return hundredth_item"
   ]
  },
  {
   "cell_type": "code",
   "execution_count": 37,
   "metadata": {},
   "outputs": [
    {
     "name": "stdout",
     "output_type": "stream",
     "text": [
      "pclass                                                       1\n",
      "survived                                                     1\n",
      "name         Duff Gordon, Lady. (Lucille Christiana Sutherl...\n",
      "sex                                                     female\n",
      "age                                                         48\n",
      "sibsp                                                        1\n",
      "parch                                                        0\n",
      "ticket                                                   11755\n",
      "fare                                                      39.6\n",
      "cabin                                                      A16\n",
      "embarked                                                     C\n",
      "boat                                                         1\n",
      "body                                                       NaN\n",
      "home.dest                                       London / Paris\n",
      "dtype: object\n"
     ]
    }
   ],
   "source": [
    "hundredth_row_var = titanic_survival.apply(hundredth_row)\n",
    "print(hundredth_row_var)"
   ]
  },
  {
   "cell_type": "code",
   "execution_count": 38,
   "metadata": {
    "collapsed": true
   },
   "outputs": [],
   "source": [
    "def find_null(value):\n",
    "    if value is None:\n",
    "        return \"null values\"\n",
    "    elif value is not None:\n",
    "        return \"no nulls here\""
   ]
  },
  {
   "cell_type": "code",
   "execution_count": 39,
   "metadata": {},
   "outputs": [
    {
     "name": "stdout",
     "output_type": "stream",
     "text": [
      "no nulls here\n"
     ]
    }
   ],
   "source": [
    "print(find_null(titanic_reindexed))"
   ]
  },
  {
   "cell_type": "code",
   "execution_count": 40,
   "metadata": {},
   "outputs": [],
   "source": [
    "null_count = 0\n",
    "value_count = 0\n",
    "for value in titanic_reindexed:\n",
    "    if value is None:\n",
    "        null_count += 1\n",
    "    elif value is not None:\n",
    "        value_count += 1\n",
    "        "
   ]
  },
  {
   "cell_type": "code",
   "execution_count": 41,
   "metadata": {},
   "outputs": [
    {
     "name": "stdout",
     "output_type": "stream",
     "text": [
      "0\n",
      "14\n"
     ]
    }
   ],
   "source": [
    "print(null_count)\n",
    "print(value_count)"
   ]
  },
  {
   "cell_type": "code",
   "execution_count": 42,
   "metadata": {},
   "outputs": [
    {
     "name": "stdout",
     "output_type": "stream",
     "text": [
      "      pclass  survived                                               name  \\\n",
      "0        1.0       1.0                      Allen, Miss. Elisabeth Walton   \n",
      "1        1.0       1.0                     Allison, Master. Hudson Trevor   \n",
      "2        1.0       0.0                       Allison, Miss. Helen Loraine   \n",
      "3        1.0       0.0               Allison, Mr. Hudson Joshua Creighton   \n",
      "4        1.0       0.0    Allison, Mrs. Hudson J C (Bessie Waldo Daniels)   \n",
      "5        1.0       1.0                                Anderson, Mr. Harry   \n",
      "6        1.0       1.0                  Andrews, Miss. Kornelia Theodosia   \n",
      "7        1.0       0.0                             Andrews, Mr. Thomas Jr   \n",
      "8        1.0       1.0      Appleton, Mrs. Edward Dale (Charlotte Lamson)   \n",
      "9        1.0       0.0                            Artagaveytia, Mr. Ramon   \n",
      "10       1.0       0.0                             Astor, Col. John Jacob   \n",
      "11       1.0       1.0  Astor, Mrs. John Jacob (Madeleine Talmadge Force)   \n",
      "12       1.0       1.0                      Aubart, Mme. Leontine Pauline   \n",
      "13       1.0       1.0                       Barber, Miss. Ellen \"Nellie\"   \n",
      "14       1.0       1.0               Barkworth, Mr. Algernon Henry Wilson   \n",
      "15       1.0       0.0                           Baxter, Mr. Quigg Edmond   \n",
      "16       1.0       1.0    Baxter, Mrs. James (Helene DeLaudeniere Chaput)   \n",
      "17       1.0       1.0                              Bazzani, Miss. Albina   \n",
      "18       1.0       0.0                               Beattie, Mr. Thomson   \n",
      "19       1.0       1.0                      Beckwith, Mr. Richard Leonard   \n",
      "20       1.0       1.0   Beckwith, Mrs. Richard Leonard (Sallie Monypeny)   \n",
      "21       1.0       1.0                              Behr, Mr. Karl Howell   \n",
      "22       1.0       1.0                              Bidois, Miss. Rosalie   \n",
      "23       1.0       1.0                                  Bird, Miss. Ellen   \n",
      "24       1.0       0.0                                Birnbaum, Mr. Jakob   \n",
      "25       1.0       1.0                            Bishop, Mr. Dickinson H   \n",
      "26       1.0       1.0            Bishop, Mrs. Dickinson H (Helen Walton)   \n",
      "27       1.0       1.0                             Bissette, Miss. Amelia   \n",
      "28       1.0       1.0          Bjornstrom-Steffansson, Mr. Mauritz Hakan   \n",
      "29       1.0       0.0                       Blackwell, Mr. Stephen Weart   \n",
      "...      ...       ...                                                ...   \n",
      "1016     3.0       0.0                   Vande Velde, Mr. Johannes Joseph   \n",
      "1017     3.0       0.0                     Vande Walle, Mr. Nestor Cyriel   \n",
      "1018     3.0       0.0                        Vanden Steen, Mr. Leo Peter   \n",
      "1019     3.0       0.0                        Vander Cruyssen, Mr. Victor   \n",
      "1020     3.0       0.0                 Vander Planke, Miss. Augusta Maria   \n",
      "1021     3.0       0.0                          Vander Planke, Mr. Julius   \n",
      "1022     3.0       0.0                    Vander Planke, Mr. Leo Edmondus   \n",
      "1023     3.0       0.0  Vander Planke, Mrs. Julius (Emelia Maria Vande...   \n",
      "1024     3.0       1.0                               Vartanian, Mr. David   \n",
      "1025     3.0       0.0                             Vendel, Mr. Olof Edvin   \n",
      "1026     3.0       0.0               Vestrom, Miss. Hulda Amanda Adolfina   \n",
      "1027     3.0       0.0                                    Vovk, Mr. Janko   \n",
      "1028     3.0       0.0                               Waelens, Mr. Achille   \n",
      "1029     3.0       0.0                                Wenzel, Mr. Linhart   \n",
      "1030     3.0       1.0    Whabee, Mrs. George Joseph (Shawneene Abi-Saab)   \n",
      "1031     3.0       0.0                   Widegren, Mr. Carl/Charles Peter   \n",
      "1032     3.0       0.0                          Wiklund, Mr. Jakob Alfred   \n",
      "1033     3.0       0.0                            Wiklund, Mr. Karl Johan   \n",
      "1034     3.0       1.0                   Wilkes, Mrs. James (Ellen Needs)   \n",
      "1035     3.0       0.0                               Williams, Mr. Leslie   \n",
      "1036     3.0       0.0                                Windelov, Mr. Einar   \n",
      "1037     3.0       0.0                                   Wirz, Mr. Albert   \n",
      "1038     3.0       0.0                          Wittevrongel, Mr. Camille   \n",
      "1039     3.0       0.0                                Yasbeck, Mr. Antoni   \n",
      "1040     3.0       1.0            Yasbeck, Mrs. Antoni (Selini Alexander)   \n",
      "1041     3.0       0.0                               Youseff, Mr. Gerious   \n",
      "1042     3.0       0.0                               Zabour, Miss. Hileni   \n",
      "1043     3.0       0.0                          Zakarian, Mr. Mapriededer   \n",
      "1044     3.0       0.0                                Zakarian, Mr. Ortin   \n",
      "1045     3.0       0.0                                 Zimmerman, Mr. Leo   \n",
      "\n",
      "         sex      age  sibsp  parch            ticket      fare    cabin  \\\n",
      "0     female  29.0000    0.0    0.0             24160  211.3375       B5   \n",
      "1       male   0.9167    1.0    2.0            113781  151.5500  C22 C26   \n",
      "2     female   2.0000    1.0    2.0            113781  151.5500  C22 C26   \n",
      "3       male  30.0000    1.0    2.0            113781  151.5500  C22 C26   \n",
      "4     female  25.0000    1.0    2.0            113781  151.5500  C22 C26   \n",
      "5       male  48.0000    0.0    0.0             19952   26.5500      E12   \n",
      "6     female  63.0000    1.0    0.0             13502   77.9583       D7   \n",
      "7       male  39.0000    0.0    0.0            112050    0.0000      A36   \n",
      "8     female  53.0000    2.0    0.0             11769   51.4792     C101   \n",
      "9       male  71.0000    0.0    0.0          PC 17609   49.5042      NaN   \n",
      "10      male  47.0000    1.0    0.0          PC 17757  227.5250  C62 C64   \n",
      "11    female  18.0000    1.0    0.0          PC 17757  227.5250  C62 C64   \n",
      "12    female  24.0000    0.0    0.0          PC 17477   69.3000      B35   \n",
      "13    female  26.0000    0.0    0.0             19877   78.8500      NaN   \n",
      "14      male  80.0000    0.0    0.0             27042   30.0000      A23   \n",
      "15      male  24.0000    0.0    1.0          PC 17558  247.5208  B58 B60   \n",
      "16    female  50.0000    0.0    1.0          PC 17558  247.5208  B58 B60   \n",
      "17    female  32.0000    0.0    0.0             11813   76.2917      D15   \n",
      "18      male  36.0000    0.0    0.0             13050   75.2417       C6   \n",
      "19      male  37.0000    1.0    1.0             11751   52.5542      D35   \n",
      "20    female  47.0000    1.0    1.0             11751   52.5542      D35   \n",
      "21      male  26.0000    0.0    0.0            111369   30.0000     C148   \n",
      "22    female  42.0000    0.0    0.0          PC 17757  227.5250      NaN   \n",
      "23    female  29.0000    0.0    0.0          PC 17483  221.7792      C97   \n",
      "24      male  25.0000    0.0    0.0             13905   26.0000      NaN   \n",
      "25      male  25.0000    1.0    0.0             11967   91.0792      B49   \n",
      "26    female  19.0000    1.0    0.0             11967   91.0792      B49   \n",
      "27    female  35.0000    0.0    0.0          PC 17760  135.6333      C99   \n",
      "28      male  28.0000    0.0    0.0            110564   26.5500      C52   \n",
      "29      male  45.0000    0.0    0.0            113784   35.5000        T   \n",
      "...      ...      ...    ...    ...               ...       ...      ...   \n",
      "1016    male  33.0000    0.0    0.0            345780    9.5000      NaN   \n",
      "1017    male  28.0000    0.0    0.0            345770    9.5000      NaN   \n",
      "1018    male  28.0000    0.0    0.0            345783    9.5000      NaN   \n",
      "1019    male  47.0000    0.0    0.0            345765    9.0000      NaN   \n",
      "1020  female  18.0000    2.0    0.0            345764   18.0000      NaN   \n",
      "1021    male  31.0000    3.0    0.0            345763   18.0000      NaN   \n",
      "1022    male  16.0000    2.0    0.0            345764   18.0000      NaN   \n",
      "1023  female  31.0000    1.0    0.0            345763   18.0000      NaN   \n",
      "1024    male  22.0000    0.0    0.0              2658    7.2250      NaN   \n",
      "1025    male  20.0000    0.0    0.0            350416    7.8542      NaN   \n",
      "1026  female  14.0000    0.0    0.0            350406    7.8542      NaN   \n",
      "1027    male  22.0000    0.0    0.0            349252    7.8958      NaN   \n",
      "1028    male  22.0000    0.0    0.0            345767    9.0000      NaN   \n",
      "1029    male  32.5000    0.0    0.0            345775    9.5000      NaN   \n",
      "1030  female  38.0000    0.0    0.0              2688    7.2292      NaN   \n",
      "1031    male  51.0000    0.0    0.0            347064    7.7500      NaN   \n",
      "1032    male  18.0000    1.0    0.0           3101267    6.4958      NaN   \n",
      "1033    male  21.0000    1.0    0.0           3101266    6.4958      NaN   \n",
      "1034  female  47.0000    1.0    0.0            363272    7.0000      NaN   \n",
      "1035    male  28.5000    0.0    0.0             54636   16.1000      NaN   \n",
      "1036    male  21.0000    0.0    0.0  SOTON/OQ 3101317    7.2500      NaN   \n",
      "1037    male  27.0000    0.0    0.0            315154    8.6625      NaN   \n",
      "1038    male  36.0000    0.0    0.0            345771    9.5000      NaN   \n",
      "1039    male  27.0000    1.0    0.0              2659   14.4542      NaN   \n",
      "1040  female  15.0000    1.0    0.0              2659   14.4542      NaN   \n",
      "1041    male  45.5000    0.0    0.0              2628    7.2250      NaN   \n",
      "1042  female  14.5000    1.0    0.0              2665   14.4542      NaN   \n",
      "1043    male  26.5000    0.0    0.0              2656    7.2250      NaN   \n",
      "1044    male  27.0000    0.0    0.0              2670    7.2250      NaN   \n",
      "1045    male  29.0000    0.0    0.0            315082    7.8750      NaN   \n",
      "\n",
      "     embarked   boat   body                           home.dest  \n",
      "0           S      2    NaN                        St Louis, MO  \n",
      "1           S     11    NaN     Montreal, PQ / Chesterville, ON  \n",
      "2           S    NaN    NaN     Montreal, PQ / Chesterville, ON  \n",
      "3           S    NaN  135.0     Montreal, PQ / Chesterville, ON  \n",
      "4           S    NaN    NaN     Montreal, PQ / Chesterville, ON  \n",
      "5           S      3    NaN                        New York, NY  \n",
      "6           S     10    NaN                          Hudson, NY  \n",
      "7           S    NaN    NaN                         Belfast, NI  \n",
      "8           S      D    NaN                 Bayside, Queens, NY  \n",
      "9           C    NaN   22.0                 Montevideo, Uruguay  \n",
      "10          C    NaN  124.0                        New York, NY  \n",
      "11          C      4    NaN                        New York, NY  \n",
      "12          C      9    NaN                       Paris, France  \n",
      "13          S      6    NaN                                 NaN  \n",
      "14          S      B    NaN                       Hessle, Yorks  \n",
      "15          C    NaN    NaN                        Montreal, PQ  \n",
      "16          C      6    NaN                        Montreal, PQ  \n",
      "17          C      8    NaN                                 NaN  \n",
      "18          C      A    NaN                        Winnipeg, MN  \n",
      "19          S      5    NaN                        New York, NY  \n",
      "20          S      5    NaN                        New York, NY  \n",
      "21          C      5    NaN                        New York, NY  \n",
      "22          C      4    NaN                                 NaN  \n",
      "23          S      8    NaN                                 NaN  \n",
      "24          C    NaN  148.0                   San Francisco, CA  \n",
      "25          C      7    NaN                        Dowagiac, MI  \n",
      "26          C      7    NaN                        Dowagiac, MI  \n",
      "27          S      8    NaN                                 NaN  \n",
      "28          S      D    NaN  Stockholm, Sweden / Washington, DC  \n",
      "29          S    NaN    NaN                         Trenton, NJ  \n",
      "...       ...    ...    ...                                 ...  \n",
      "1016        S    NaN    NaN                                 NaN  \n",
      "1017        S    NaN    NaN                                 NaN  \n",
      "1018        S    NaN    NaN                                 NaN  \n",
      "1019        S    NaN    NaN                                 NaN  \n",
      "1020        S    NaN    NaN                                 NaN  \n",
      "1021        S    NaN    NaN                                 NaN  \n",
      "1022        S    NaN    NaN                                 NaN  \n",
      "1023        S    NaN    NaN                                 NaN  \n",
      "1024        C  13 15    NaN                                 NaN  \n",
      "1025        S    NaN    NaN                                 NaN  \n",
      "1026        S    NaN    NaN                                 NaN  \n",
      "1027        S    NaN    NaN                                 NaN  \n",
      "1028        S    NaN    NaN      Antwerp, Belgium / Stanton, OH  \n",
      "1029        S    NaN  298.0                                 NaN  \n",
      "1030        C      C    NaN                                 NaN  \n",
      "1031        S    NaN    NaN                                 NaN  \n",
      "1032        S    NaN  314.0                                 NaN  \n",
      "1033        S    NaN    NaN                                 NaN  \n",
      "1034        S    NaN    NaN                                 NaN  \n",
      "1035        S    NaN   14.0                                 NaN  \n",
      "1036        S    NaN    NaN                                 NaN  \n",
      "1037        S    NaN  131.0                                 NaN  \n",
      "1038        S    NaN    NaN                                 NaN  \n",
      "1039        C      C    NaN                                 NaN  \n",
      "1040        C    NaN    NaN                                 NaN  \n",
      "1041        C    NaN  312.0                                 NaN  \n",
      "1042        C    NaN  328.0                                 NaN  \n",
      "1043        C    NaN  304.0                                 NaN  \n",
      "1044        C    NaN    NaN                                 NaN  \n",
      "1045        S    NaN    NaN                                 NaN  \n",
      "\n"
     ]
    },
    {
     "name": "stdout",
     "output_type": "stream",
     "text": [
      "[1046 rows x 14 columns]\n"
     ]
    }
   ],
   "source": [
    "print(titanic_reindexed)"
   ]
  },
  {
   "cell_type": "markdown",
   "metadata": {},
   "source": [
    "### <p style=\"color:orange\">cheating</p>"
   ]
  },
  {
   "cell_type": "code",
   "execution_count": 43,
   "metadata": {
    "collapsed": true
   },
   "outputs": [],
   "source": [
    "def null_count(column):\n",
    "    column_null = pd.isnull(column)\n",
    "    null = column[column_null]\n",
    "    return len(null)"
   ]
  },
  {
   "cell_type": "code",
   "execution_count": 44,
   "metadata": {},
   "outputs": [
    {
     "name": "stdout",
     "output_type": "stream",
     "text": [
      "pclass          1\n",
      "survived        1\n",
      "name            1\n",
      "sex             1\n",
      "age           264\n",
      "sibsp           1\n",
      "parch           1\n",
      "ticket          1\n",
      "fare            2\n",
      "cabin        1015\n",
      "embarked        3\n",
      "boat          824\n",
      "body         1189\n",
      "home.dest     565\n",
      "dtype: int64\n"
     ]
    }
   ],
   "source": [
    "column_null_count = titanic_survival.apply(null_count)\n",
    "print(column_null_count)"
   ]
  },
  {
   "cell_type": "markdown",
   "metadata": {},
   "source": [
    "### <p style=\"color:green\">study self</p>\n",
    "### <p style=\"color:green\">try1</p>"
   ]
  },
  {
   "cell_type": "code",
   "execution_count": 45,
   "metadata": {},
   "outputs": [
    {
     "name": "stdout",
     "output_type": "stream",
     "text": [
      "0       29.0000\n",
      "1        0.9167\n",
      "2        2.0000\n",
      "3       30.0000\n",
      "4       25.0000\n",
      "5       48.0000\n",
      "6       63.0000\n",
      "7       39.0000\n",
      "8       53.0000\n",
      "9       71.0000\n",
      "10      47.0000\n",
      "11      18.0000\n",
      "12      24.0000\n",
      "13      26.0000\n",
      "14      80.0000\n",
      "15          NaN\n",
      "16      24.0000\n",
      "17      50.0000\n",
      "18      32.0000\n",
      "19      36.0000\n",
      "20      37.0000\n",
      "21      47.0000\n",
      "22      26.0000\n",
      "23      42.0000\n",
      "24      29.0000\n",
      "25      25.0000\n",
      "26      25.0000\n",
      "27      19.0000\n",
      "28      35.0000\n",
      "29      28.0000\n",
      "         ...   \n",
      "1280    22.0000\n",
      "1281    22.0000\n",
      "1282        NaN\n",
      "1283        NaN\n",
      "1284        NaN\n",
      "1285    32.5000\n",
      "1286    38.0000\n",
      "1287    51.0000\n",
      "1288    18.0000\n",
      "1289    21.0000\n",
      "1290    47.0000\n",
      "1291        NaN\n",
      "1292        NaN\n",
      "1293        NaN\n",
      "1294    28.5000\n",
      "1295    21.0000\n",
      "1296    27.0000\n",
      "1297        NaN\n",
      "1298    36.0000\n",
      "1299    27.0000\n",
      "1300    15.0000\n",
      "1301    45.5000\n",
      "1302        NaN\n",
      "1303        NaN\n",
      "1304    14.5000\n",
      "1305        NaN\n",
      "1306    26.5000\n",
      "1307    27.0000\n",
      "1308    29.0000\n",
      "1309        NaN\n",
      "Name: age, Length: 1310, dtype: float64\n"
     ]
    }
   ],
   "source": [
    "print(titanic_survival.loc[:, \"age\"])"
   ]
  },
  {
   "cell_type": "code",
   "execution_count": 46,
   "metadata": {
    "scrolled": false
   },
   "outputs": [
    {
     "name": "stdout",
     "output_type": "stream",
     "text": [
      "264\n"
     ]
    }
   ],
   "source": [
    "null_count = 0\n",
    "for value in titanic_survival.loc[:, \"age\"]:\n",
    "    value_null = pd.isnull(value)\n",
    "#     print(value_null)\n",
    "#     print(value[value_null])\n",
    "#     print(len(value[value_null]))\n",
    "    null_count += len(value[value_null])\n",
    "print(null_count)"
   ]
  },
  {
   "cell_type": "markdown",
   "metadata": {},
   "source": [
    "pd.isnull에 true, false를 반환한다.<br>\n",
    "is.null이 null값에 활용되는 것은 알겠는데 아직 잘 모르겠다. \n",
    "1. null값 찾기\n",
    "2. null값이 포함된 row가 몇 개인지 찾기\n",
    "3. null값이 포함된 column 그리고 column별로 null값이 몇 개인지 알아내기"
   ]
  },
  {
   "cell_type": "markdown",
   "metadata": {},
   "source": [
    "def 그대로 따라해보면\n",
    "1. column별로 null값 확인 (true/false)\n",
    "2. null값인 것들만 저장\n",
    "3. 그리고 길이 확인"
   ]
  },
  {
   "cell_type": "markdown",
   "metadata": {},
   "source": [
    "### <p style=\"color:green\">try2</p>"
   ]
  },
  {
   "cell_type": "code",
   "execution_count": 47,
   "metadata": {
    "scrolled": true
   },
   "outputs": [
    {
     "data": {
      "text/plain": [
       "1310"
      ]
     },
     "execution_count": 47,
     "metadata": {},
     "output_type": "execute_result"
    }
   ],
   "source": [
    "null = []\n",
    "for value in titanic_survival.loc[:, \"age\"]:\n",
    "    value_null = pd.isnull(value)\n",
    "    null.append(value[value_null])\n",
    "#     print(null)\n",
    "len(null)"
   ]
  },
  {
   "cell_type": "markdown",
   "metadata": {},
   "source": [
    "### <p style = \"color:green\">try3</p>"
   ]
  },
  {
   "cell_type": "code",
   "execution_count": 48,
   "metadata": {
    "collapsed": true
   },
   "outputs": [],
   "source": [
    "age_titanic_survival = titanic_survival.loc[:, \"age\"]"
   ]
  },
  {
   "cell_type": "code",
   "execution_count": 49,
   "metadata": {},
   "outputs": [],
   "source": [
    "# print(pd.isnull(age_titanic_survival))\n",
    "age_null = pd.isnull(age_titanic_survival)"
   ]
  },
  {
   "cell_type": "code",
   "execution_count": 50,
   "metadata": {},
   "outputs": [
    {
     "name": "stdout",
     "output_type": "stream",
     "text": [
      "      pclass  survived                                               name  \\\n",
      "15       1.0       0.0                                Baumann, Mr. John D   \n",
      "37       1.0       1.0      Bradley, Mr. George (\"George Arthur Brayton\")   \n",
      "40       1.0       0.0                          Brewe, Dr. Arthur Jackson   \n",
      "46       1.0       0.0                              Cairns, Mr. Alexander   \n",
      "59       1.0       1.0  Cassebeer, Mrs. Henry Arthur Jr (Eleanor Genev...   \n",
      "69       1.0       1.0             Chibnall, Mrs. (Edith Martha Bowerman)   \n",
      "70       1.0       0.0              Chisholm, Mr. Roderick Robert Crispin   \n",
      "74       1.0       0.0                        Clifford, Mr. George Quincy   \n",
      "80       1.0       0.0                          Crafton, Mr. John Bertram   \n",
      "106      1.0       0.0                                 Farthing, Mr. John   \n",
      "107      1.0       1.0               Flegenheim, Mrs. Alfred (Antoinette)   \n",
      "108      1.0       1.0                            Fleming, Miss. Margaret   \n",
      "118      1.0       0.0                        Franklin, Mr. Thomas Parham   \n",
      "121      1.0       1.0  Frauenthal, Mrs. Henry William (Clara Heinshei...   \n",
      "125      1.0       0.0                                   Fry, Mr. Richard   \n",
      "134      1.0       1.0       Goldenberg, Mrs. Samuel L (Edwiga Grabowska)   \n",
      "147      1.0       0.0                          Harrington, Mr. Charles H   \n",
      "152      1.0       1.0                        Hawksford, Mr. Walter James   \n",
      "157      1.0       0.0                        Hilliard, Mr. Herbert Henry   \n",
      "166      1.0       0.0                           Hoyt, Mr. William Fisher   \n",
      "176      1.0       1.0                  Kenyon, Mrs. Frederick R (Marion)   \n",
      "179      1.0       0.0                                 Klaber, Mr. Herman   \n",
      "184      1.0       0.0                                  Lewy, Mr. Ervin G   \n",
      "196      1.0       1.0                               Marechal, Mr. Pierre   \n",
      "204      1.0       1.0              Meyer, Mrs. Edgar Joseph (Leila Saks)   \n",
      "219      1.0       1.0                          Omont, Mr. Alfred Fernand   \n",
      "223      1.0       0.0                      Parr, Mr. William Henry Marsh   \n",
      "235      1.0       1.0                Rheims, Mr. George Alexander Lucien   \n",
      "237      1.0       0.0                                Robbins, Mr. Victor   \n",
      "241      1.0       0.0                              Rood, Mr. Hugh Roscoe   \n",
      "...      ...       ...                                                ...   \n",
      "1212     3.0       0.0                               Slabenoff, Mr. Petco   \n",
      "1213     3.0       0.0                      Slocovski, Mr. Selman Francis   \n",
      "1214     3.0       0.0                                Smiljanic, Mr. Mile   \n",
      "1215     3.0       0.0                                  Smith, Mr. Thomas   \n",
      "1216     3.0       1.0                                 Smyth, Miss. Julia   \n",
      "1219     3.0       0.0                                 Spector, Mr. Woolf   \n",
      "1221     3.0       0.0                                  Staneff, Mr. Ivan   \n",
      "1241     3.0       0.0                              Thomas, Mr. Charles P   \n",
      "1242     3.0       0.0                                   Thomas, Mr. John   \n",
      "1243     3.0       0.0                                Thomas, Mr. Tannous   \n",
      "1245     3.0       0.0                    Thomson, Mr. Alexander Morrison   \n",
      "1246     3.0       0.0                         Thorneycroft, Mr. Percival   \n",
      "1247     3.0       1.0  Thorneycroft, Mrs. Percival (Florence Kate White)   \n",
      "1249     3.0       0.0                                   Tobin, Mr. Roger   \n",
      "1250     3.0       0.0                                Todoroff, Mr. Lalio   \n",
      "1253     3.0       0.0                                   Torfa, Mr. Assad   \n",
      "1255     3.0       0.0                                  Toufik, Mr. Nakli   \n",
      "1262     3.0       0.0                van Billiard, Master. James William   \n",
      "1268     3.0       0.0                        van Melkebeke, Mr. Philemon   \n",
      "1282     3.0       0.0                                Ware, Mr. Frederick   \n",
      "1283     3.0       0.0                        Warren, Mr. Charles William   \n",
      "1284     3.0       0.0                                  Webber, Mr. James   \n",
      "1291     3.0       0.0                   Willer, Mr. Aaron (\"Abi Weller\")   \n",
      "1292     3.0       0.0                                 Willey, Mr. Edward   \n",
      "1293     3.0       0.0                  Williams, Mr. Howard Hugh \"Harry\"   \n",
      "1297     3.0       0.0                             Wiseman, Mr. Phillippe   \n",
      "1302     3.0       0.0                                  Yousif, Mr. Wazli   \n",
      "1303     3.0       0.0                              Yousseff, Mr. Gerious   \n",
      "1305     3.0       0.0                              Zabour, Miss. Thamine   \n",
      "1309     NaN       NaN                                                NaN   \n",
      "\n",
      "         sex  age  sibsp  parch            ticket      fare cabin embarked  \\\n",
      "15      male  NaN    0.0    0.0          PC 17318   25.9250   NaN        S   \n",
      "37      male  NaN    0.0    0.0            111427   26.5500   NaN        S   \n",
      "40      male  NaN    0.0    0.0            112379   39.6000   NaN        C   \n",
      "46      male  NaN    0.0    0.0            113798   31.0000   NaN        S   \n",
      "59    female  NaN    0.0    0.0             17770   27.7208   NaN        C   \n",
      "69    female  NaN    0.0    1.0            113505   55.0000   E33        S   \n",
      "70      male  NaN    0.0    0.0            112051    0.0000   NaN        S   \n",
      "74      male  NaN    0.0    0.0            110465   52.0000   A14        S   \n",
      "80      male  NaN    0.0    0.0            113791   26.5500   NaN        S   \n",
      "106     male  NaN    0.0    0.0          PC 17483  221.7792   C95        S   \n",
      "107   female  NaN    0.0    0.0          PC 17598   31.6833   NaN        S   \n",
      "108   female  NaN    0.0    0.0             17421  110.8833   NaN        C   \n",
      "118     male  NaN    0.0    0.0            113778   26.5500   D34        S   \n",
      "121   female  NaN    1.0    0.0          PC 17611  133.6500   NaN        S   \n",
      "125     male  NaN    0.0    0.0            112058    0.0000  B102        S   \n",
      "134   female  NaN    1.0    0.0             17453   89.1042   C92        C   \n",
      "147     male  NaN    0.0    0.0            113796   42.4000   NaN        S   \n",
      "152     male  NaN    0.0    0.0             16988   30.0000   D45        S   \n",
      "157     male  NaN    0.0    0.0             17463   51.8625   E46        S   \n",
      "166     male  NaN    0.0    0.0          PC 17600   30.6958   NaN        C   \n",
      "176   female  NaN    1.0    0.0             17464   51.8625   D21        S   \n",
      "179     male  NaN    0.0    0.0            113028   26.5500  C124        S   \n",
      "184     male  NaN    0.0    0.0          PC 17612   27.7208   NaN        C   \n",
      "196     male  NaN    0.0    0.0             11774   29.7000   C47        C   \n",
      "204   female  NaN    1.0    0.0          PC 17604   82.1708   NaN        C   \n",
      "219     male  NaN    0.0    0.0        F.C. 12998   25.7417   NaN        C   \n",
      "223     male  NaN    0.0    0.0            112052    0.0000   NaN        S   \n",
      "235     male  NaN    0.0    0.0          PC 17607   39.6000   NaN        S   \n",
      "237     male  NaN    0.0    0.0          PC 17757  227.5250   NaN        C   \n",
      "241     male  NaN    0.0    0.0            113767   50.0000   A32        S   \n",
      "...      ...  ...    ...    ...               ...       ...   ...      ...   \n",
      "1212    male  NaN    0.0    0.0            349214    7.8958   NaN        S   \n",
      "1213    male  NaN    0.0    0.0   SOTON/OQ 392086    8.0500   NaN        S   \n",
      "1214    male  NaN    0.0    0.0            315037    8.6625   NaN        S   \n",
      "1215    male  NaN    0.0    0.0            384461    7.7500   NaN        Q   \n",
      "1216  female  NaN    0.0    0.0            335432    7.7333   NaN        Q   \n",
      "1219    male  NaN    0.0    0.0         A.5. 3236    8.0500   NaN        S   \n",
      "1221    male  NaN    0.0    0.0            349208    7.8958   NaN        S   \n",
      "1241    male  NaN    1.0    0.0              2621    6.4375   NaN        C   \n",
      "1242    male  NaN    0.0    0.0              2681    6.4375   NaN        C   \n",
      "1243    male  NaN    0.0    0.0              2684    7.2250   NaN        C   \n",
      "1245    male  NaN    0.0    0.0             32302    8.0500   NaN        S   \n",
      "1246    male  NaN    1.0    0.0            376564   16.1000   NaN        S   \n",
      "1247  female  NaN    1.0    0.0            376564   16.1000   NaN        S   \n",
      "1249    male  NaN    0.0    0.0            383121    7.7500   F38        Q   \n",
      "1250    male  NaN    0.0    0.0            349216    7.8958   NaN        S   \n",
      "1253    male  NaN    0.0    0.0              2673    7.2292   NaN        C   \n",
      "1255    male  NaN    0.0    0.0              2641    7.2292   NaN        C   \n",
      "1262    male  NaN    1.0    1.0          A/5. 851   14.5000   NaN        S   \n",
      "1268    male  NaN    0.0    0.0            345777    9.5000   NaN        S   \n",
      "1282    male  NaN    0.0    0.0            359309    8.0500   NaN        S   \n",
      "1283    male  NaN    0.0    0.0        C.A. 49867    7.5500   NaN        S   \n",
      "1284    male  NaN    0.0    0.0  SOTON/OQ 3101316    8.0500   NaN        S   \n",
      "1291    male  NaN    0.0    0.0              3410    8.7125   NaN        S   \n",
      "1292    male  NaN    0.0    0.0     S.O./P.P. 751    7.5500   NaN        S   \n",
      "1293    male  NaN    0.0    0.0          A/5 2466    8.0500   NaN        S   \n",
      "1297    male  NaN    0.0    0.0        A/4. 34244    7.2500   NaN        S   \n",
      "1302    male  NaN    0.0    0.0              2647    7.2250   NaN        C   \n",
      "1303    male  NaN    0.0    0.0              2627   14.4583   NaN        C   \n",
      "1305  female  NaN    1.0    0.0              2665   14.4542   NaN        C   \n",
      "1309     NaN  NaN    NaN    NaN               NaN       NaN   NaN      NaN   \n",
      "\n",
      "     boat  body                         home.dest  \n",
      "15    NaN   NaN                      New York, NY  \n",
      "37      9   NaN                   Los Angeles, CA  \n",
      "40    NaN   NaN                  Philadelphia, PA  \n",
      "46    NaN   NaN                               NaN  \n",
      "59      5   NaN                      New York, NY  \n",
      "69      6   NaN  St Leonards-on-Sea, England Ohio  \n",
      "70    NaN   NaN      Liverpool, England / Belfast  \n",
      "74    NaN   NaN                     Stoughton, MA  \n",
      "80    NaN   NaN                     Roachdale, IN  \n",
      "106   NaN   NaN                               NaN  \n",
      "107     7   NaN                      New York, NY  \n",
      "108     4   NaN                               NaN  \n",
      "118   NaN   NaN           Westcliff-on-Sea, Essex  \n",
      "121     5   NaN                      New York, NY  \n",
      "125   NaN   NaN                               NaN  \n",
      "134     5   NaN      Paris, France / New York, NY  \n",
      "147   NaN   NaN                               NaN  \n",
      "152     3   NaN                  Kingston, Surrey  \n",
      "157   NaN   NaN                      Brighton, MA  \n",
      "166    14   NaN                      New York, NY  \n",
      "176     8   NaN           Southington / Noank, CT  \n",
      "179   NaN   NaN                      Portland, OR  \n",
      "184   NaN   NaN                       Chicago, IL  \n",
      "196     7   NaN                     Paris, France  \n",
      "204     6   NaN                      New York, NY  \n",
      "219     7   NaN                     Paris, France  \n",
      "223   NaN   NaN                           Belfast  \n",
      "235     A   NaN             Paris /  New York, NY  \n",
      "237   NaN   NaN                               NaN  \n",
      "241   NaN   NaN                       Seattle, WA  \n",
      "...   ...   ...                               ...  \n",
      "1212  NaN   NaN                               NaN  \n",
      "1213  NaN   NaN                               NaN  \n",
      "1214  NaN   NaN                               NaN  \n",
      "1215  NaN   NaN                               NaN  \n",
      "1216   13   NaN                               NaN  \n",
      "1219  NaN   NaN                               NaN  \n",
      "1221  NaN   NaN                               NaN  \n",
      "1241  NaN   NaN                               NaN  \n",
      "1242  NaN   NaN                               NaN  \n",
      "1243  NaN   NaN                               NaN  \n",
      "1245  NaN   NaN                               NaN  \n",
      "1246  NaN   NaN                               NaN  \n",
      "1247   10   NaN                               NaN  \n",
      "1249  NaN   NaN                               NaN  \n",
      "1250  NaN   NaN                               NaN  \n",
      "1253  NaN   NaN                               NaN  \n",
      "1255  NaN   NaN                               NaN  \n",
      "1262  NaN   NaN                               NaN  \n",
      "1268  NaN   NaN                               NaN  \n",
      "1282  NaN   NaN                               NaN  \n",
      "1283  NaN   NaN                               NaN  \n",
      "1284  NaN   NaN                               NaN  \n",
      "1291  NaN   NaN                               NaN  \n",
      "1292  NaN   NaN                               NaN  \n",
      "1293  NaN   NaN                               NaN  \n",
      "1297  NaN   NaN                               NaN  \n",
      "1302  NaN   NaN                               NaN  \n",
      "1303  NaN   NaN                               NaN  \n",
      "1305  NaN   NaN                               NaN  \n",
      "1309  NaN   NaN                               NaN  \n",
      "\n",
      "[264 rows x 14 columns]\n"
     ]
    }
   ],
   "source": [
    "# print(age_null)\n",
    "print(titanic_survival[age_null])"
   ]
  },
  {
   "cell_type": "code",
   "execution_count": 51,
   "metadata": {},
   "outputs": [
    {
     "name": "stdout",
     "output_type": "stream",
     "text": [
      "264\n"
     ]
    }
   ],
   "source": [
    "print(len(titanic_survival[age_null]))"
   ]
  },
  {
   "cell_type": "code",
   "execution_count": 52,
   "metadata": {
    "collapsed": true
   },
   "outputs": [],
   "source": [
    "fare_titanic_survival = titanic_survival.loc[:, 'fare']"
   ]
  },
  {
   "cell_type": "code",
   "execution_count": 53,
   "metadata": {
    "collapsed": true
   },
   "outputs": [
    {
     "name": "stdout",
     "output_type": "stream",
     "text": [
      "0       False\n",
      "1       False\n",
      "2       False\n",
      "3       False\n",
      "4       False\n",
      "5       False\n",
      "6       False\n",
      "7       False\n",
      "8       False\n",
      "9       False\n",
      "10      False\n",
      "11      False\n",
      "12      False\n",
      "13      False\n",
      "14      False\n",
      "15      False\n",
      "16      False\n",
      "17      False\n",
      "18      False\n",
      "19      False\n",
      "20      False\n",
      "21      False\n",
      "22      False\n",
      "23      False\n",
      "24      False\n",
      "25      False\n",
      "26      False\n",
      "27      False\n",
      "28      False\n",
      "29      False\n",
      "        ...  \n",
      "1280    False\n",
      "1281    False\n",
      "1282    False\n",
      "1283    False\n",
      "1284    False\n",
      "1285    False\n",
      "1286    False\n",
      "1287    False\n",
      "1288    False\n",
      "1289    False\n",
      "1290    False\n",
      "1291    False\n",
      "1292    False\n",
      "1293    False\n",
      "1294    False\n",
      "1295    False\n",
      "1296    False\n",
      "1297    False\n",
      "1298    False\n",
      "1299    False\n",
      "1300    False\n",
      "1301    False\n",
      "1302    False\n",
      "1303    False\n",
      "1304    False\n",
      "1305    False\n",
      "1306    False\n",
      "1307    False\n",
      "1308    False\n",
      "1309     True\n",
      "Name: fare, Length: 1310, dtype: bool\n"
     ]
    }
   ],
   "source": [
    "fare_null = pd.isnull(fare_titanic_survival)\n",
    "# print(fare_null) # true, false만을 반환"
   ]
  },
  {
   "cell_type": "code",
   "execution_count": 55,
   "metadata": {},
   "outputs": [
    {
     "name": "stdout",
     "output_type": "stream",
     "text": [
      "      pclass  survived                name   sex   age  sibsp  parch ticket  \\\n",
      "1225     3.0       0.0  Storey, Mr. Thomas  male  60.5    0.0    0.0   3701   \n",
      "1309     NaN       NaN                 NaN   NaN   NaN    NaN    NaN    NaN   \n",
      "\n",
      "      fare cabin embarked boat   body home.dest  \n",
      "1225   NaN   NaN        S  NaN  261.0       NaN  \n",
      "1309   NaN   NaN      NaN  NaN    NaN       NaN  \n",
      "2\n"
     ]
    }
   ],
   "source": [
    "print(titanic_survival[fare_null]) #1225와 1309에 fare null값이 있다. 따라서, \n",
    "print(len(titanic_survival[fare_null]))"
   ]
  },
  {
   "cell_type": "markdown",
   "metadata": {},
   "source": [
    "### 100번째에 있는 값을 확인하려면"
   ]
  },
  {
   "cell_type": "code",
   "execution_count": 56,
   "metadata": {
    "collapsed": true
   },
   "outputs": [],
   "source": [
    "def hundredth_row(column):\n",
    "    hundredth_item = column.iloc[99]\n",
    "    return hundredth_item"
   ]
  },
  {
   "cell_type": "code",
   "execution_count": 57,
   "metadata": {},
   "outputs": [
    {
     "name": "stdout",
     "output_type": "stream",
     "text": [
      "pclass                                                       1\n",
      "survived                                                     1\n",
      "name         Duff Gordon, Lady. (Lucille Christiana Sutherl...\n",
      "sex                                                     female\n",
      "age                                                         48\n",
      "sibsp                                                        1\n",
      "parch                                                        0\n",
      "ticket                                                   11755\n",
      "fare                                                      39.6\n",
      "cabin                                                      A16\n",
      "embarked                                                     C\n",
      "boat                                                         1\n",
      "body                                                       NaN\n",
      "home.dest                                       London / Paris\n",
      "dtype: object\n"
     ]
    }
   ],
   "source": [
    "hundredth_row_var = titanic_survival.apply(hundredth_row)\n",
    "print(hundredth_row_var)"
   ]
  },
  {
   "cell_type": "markdown",
   "metadata": {},
   "source": [
    "<p>By passing in the axis=1 arhument, we can use the DataFrame.apply() method to iterate over rows instead of columns</p>\n",
    "<p>We can user this to calculate some summary information about the ages of the passengers on the Titanic.</p>\n",
    "\n",
    "### <p style=\"color:red\">if/elif/else</p>"
   ]
  },
  {
   "cell_type": "code",
   "execution_count": 61,
   "metadata": {},
   "outputs": [
    {
     "name": "stdout",
     "output_type": "stream",
     "text": [
      "0         First\n",
      "1         First\n",
      "2         First\n",
      "3         First\n",
      "4         First\n",
      "5         First\n",
      "6         First\n",
      "7         First\n",
      "8         First\n",
      "9         First\n",
      "10        First\n",
      "11        First\n",
      "12        First\n",
      "13        First\n",
      "14        First\n",
      "15        First\n",
      "16        First\n",
      "17        First\n",
      "18        First\n",
      "19        First\n",
      "20        First\n",
      "21        First\n",
      "22        First\n",
      "23        First\n",
      "24        First\n",
      "25        First\n",
      "26        First\n",
      "27        First\n",
      "28        First\n",
      "29        First\n",
      "         ...   \n",
      "1280      Third\n",
      "1281      Third\n",
      "1282      Third\n",
      "1283      Third\n",
      "1284      Third\n",
      "1285      Third\n",
      "1286      Third\n",
      "1287      Third\n",
      "1288      Third\n",
      "1289      Third\n",
      "1290      Third\n",
      "1291      Third\n",
      "1292      Third\n",
      "1293      Third\n",
      "1294      Third\n",
      "1295      Third\n",
      "1296      Third\n",
      "1297      Third\n",
      "1298      Third\n",
      "1299      Third\n",
      "1300      Third\n",
      "1301      Third\n",
      "1302      Third\n",
      "1303      Third\n",
      "1304      Third\n",
      "1305      Third\n",
      "1306      Third\n",
      "1307      Third\n",
      "1308      Third\n",
      "1309    Unknown\n",
      "Length: 1310, dtype: object\n"
     ]
    }
   ],
   "source": [
    "def which_class(row):\n",
    "    pclass = row['pclass']\n",
    "    if pd.isnull(pclass):\n",
    "        return \"Unknown\"\n",
    "    elif pclass == 1:\n",
    "        return \"First\"\n",
    "    elif pclass == 2:\n",
    "        return \"Second\"\n",
    "    else:\n",
    "        return \"Third\"\n",
    "classes = titanic_survival.apply(which_class, axis=1)\n",
    "print(classes)"
   ]
  },
  {
   "cell_type": "markdown",
   "metadata": {},
   "source": [
    "<p style=\"color:green\"> Create a function that returns the string \"minor\" if someone is under 18, \"adult\" if they are equal to or over 18, and \"unknown\" if their age is null </p>"
   ]
  },
  {
   "cell_type": "code",
   "execution_count": 64,
   "metadata": {},
   "outputs": [
    {
     "name": "stdout",
     "output_type": "stream",
     "text": [
      "0       adult\n",
      "1       minor\n",
      "2       minor\n",
      "3       adult\n",
      "4       adult\n",
      "5       adult\n",
      "6       adult\n",
      "7       adult\n",
      "8       adult\n",
      "9       adult\n",
      "10      adult\n",
      "11      adult\n",
      "12      adult\n",
      "13      adult\n",
      "14      adult\n",
      "15      adult\n",
      "16      adult\n",
      "17      adult\n",
      "18      adult\n",
      "19      adult\n",
      "20      adult\n",
      "21      adult\n",
      "22      adult\n",
      "23      adult\n",
      "24      adult\n",
      "25      adult\n",
      "26      adult\n",
      "27      adult\n",
      "28      adult\n",
      "29      adult\n",
      "        ...  \n",
      "1280    adult\n",
      "1281    adult\n",
      "1282    adult\n",
      "1283    adult\n",
      "1284    adult\n",
      "1285    adult\n",
      "1286    adult\n",
      "1287    adult\n",
      "1288    adult\n",
      "1289    adult\n",
      "1290    adult\n",
      "1291    adult\n",
      "1292    adult\n",
      "1293    adult\n",
      "1294    adult\n",
      "1295    adult\n",
      "1296    adult\n",
      "1297    adult\n",
      "1298    adult\n",
      "1299    adult\n",
      "1300    minor\n",
      "1301    adult\n",
      "1302    adult\n",
      "1303    adult\n",
      "1304    minor\n",
      "1305    adult\n",
      "1306    adult\n",
      "1307    adult\n",
      "1308    adult\n",
      "1309    adult\n",
      "Length: 1310, dtype: object\n"
     ]
    }
   ],
   "source": [
    "def is_minor(row):\n",
    "    if row[\"age\"] < 18:\n",
    "        return \"minor\"\n",
    "    else:\n",
    "        return \"adult\"\n",
    "    \n",
    "minors = titanic_survival.apply(is_minor, axis=1)\n",
    "print(minors)"
   ]
  },
  {
   "cell_type": "code",
   "execution_count": 77,
   "metadata": {},
   "outputs": [
    {
     "name": "stdout",
     "output_type": "stream",
     "text": [
      "0         adult\n",
      "1         minor\n",
      "2         minor\n",
      "3         adult\n",
      "4         adult\n",
      "5         adult\n",
      "6         adult\n",
      "7         adult\n",
      "8         adult\n",
      "9         adult\n",
      "10        adult\n",
      "11        adult\n",
      "12        adult\n",
      "13        adult\n",
      "14        adult\n",
      "15      nuknown\n",
      "16        adult\n",
      "17        adult\n",
      "18        adult\n",
      "19        adult\n",
      "20        adult\n",
      "21        adult\n",
      "22        adult\n",
      "23        adult\n",
      "24        adult\n",
      "25        adult\n",
      "26        adult\n",
      "27        adult\n",
      "28        adult\n",
      "29        adult\n",
      "         ...   \n",
      "1280      adult\n",
      "1281      adult\n",
      "1282    nuknown\n",
      "1283    nuknown\n",
      "1284    nuknown\n",
      "1285      adult\n",
      "1286      adult\n",
      "1287      adult\n",
      "1288      adult\n",
      "1289      adult\n",
      "1290      adult\n",
      "1291    nuknown\n",
      "1292    nuknown\n",
      "1293    nuknown\n",
      "1294      adult\n",
      "1295      adult\n",
      "1296      adult\n",
      "1297    nuknown\n",
      "1298      adult\n",
      "1299      adult\n",
      "1300      minor\n",
      "1301      adult\n",
      "1302    nuknown\n",
      "1303    nuknown\n",
      "1304      minor\n",
      "1305    nuknown\n",
      "1306      adult\n",
      "1307      adult\n",
      "1308      adult\n",
      "1309    nuknown\n",
      "Length: 1310, dtype: object\n"
     ]
    }
   ],
   "source": [
    "def classify_age(row):\n",
    "    age = row[\"age\"]\n",
    "    if pd.isnull(age):\n",
    "        return \"nuknown\"\n",
    "    elif age < 18:\n",
    "        return \"minor\"\n",
    "    else:\n",
    "        return \"adult\"\n",
    "# print(titanic_survival.apply(classify_age, axis=1))\n",
    "age_labels = titanic_survival.apply(classify_age, axis=1)\n",
    "print(age_labels)\n",
    "# print(age_labels[adult]) no excute"
   ]
  },
  {
   "cell_type": "markdown",
   "metadata": {},
   "source": [
    "<p style=\"color:green\">Let's make a pivot table to find the probability of survival for each age group.</p>"
   ]
  },
  {
   "cell_type": "markdown",
   "metadata": {},
   "source": [
    "<p style=\"color:red\">I don't know why I can't do this</p>"
   ]
  },
  {
   "cell_type": "code",
   "execution_count": 79,
   "metadata": {},
   "outputs": [
    {
     "ename": "KeyError",
     "evalue": "'age_labels'",
     "output_type": "error",
     "traceback": [
      "\u001b[1;31m---------------------------------------------------------------------------\u001b[0m",
      "\u001b[1;31mKeyError\u001b[0m                                  Traceback (most recent call last)",
      "\u001b[1;32m<ipython-input-79-2eff17b80b79>\u001b[0m in \u001b[0;36m<module>\u001b[1;34m()\u001b[0m\n\u001b[1;32m----> 1\u001b[1;33m \u001b[0mage_group_survival\u001b[0m \u001b[1;33m=\u001b[0m \u001b[0mtitanic_survival\u001b[0m\u001b[1;33m.\u001b[0m\u001b[0mpivot_table\u001b[0m\u001b[1;33m(\u001b[0m\u001b[0mindex\u001b[0m\u001b[1;33m=\u001b[0m\u001b[1;34m\"age_labels\"\u001b[0m\u001b[1;33m,\u001b[0m \u001b[0mvalues\u001b[0m\u001b[1;33m=\u001b[0m\u001b[1;34m\"survived\"\u001b[0m\u001b[1;33m)\u001b[0m\u001b[1;33m\u001b[0m\u001b[0m\n\u001b[0m\u001b[0;32m      2\u001b[0m \u001b[0mprint\u001b[0m\u001b[1;33m(\u001b[0m\u001b[0mage_group_survival\u001b[0m\u001b[1;33m)\u001b[0m\u001b[1;33m\u001b[0m\u001b[0m\n",
      "\u001b[1;32mC:\\Anaconda3\\lib\\site-packages\\pandas\\core\\reshape\\pivot.py\u001b[0m in \u001b[0;36mpivot_table\u001b[1;34m(data, values, index, columns, aggfunc, fill_value, margins, dropna, margins_name)\u001b[0m\n\u001b[0;32m    133\u001b[0m         \u001b[0mvalues\u001b[0m \u001b[1;33m=\u001b[0m \u001b[0mlist\u001b[0m\u001b[1;33m(\u001b[0m\u001b[0mvalues\u001b[0m\u001b[1;33m)\u001b[0m\u001b[1;33m\u001b[0m\u001b[0m\n\u001b[0;32m    134\u001b[0m \u001b[1;33m\u001b[0m\u001b[0m\n\u001b[1;32m--> 135\u001b[1;33m     \u001b[0mgrouped\u001b[0m \u001b[1;33m=\u001b[0m \u001b[0mdata\u001b[0m\u001b[1;33m.\u001b[0m\u001b[0mgroupby\u001b[0m\u001b[1;33m(\u001b[0m\u001b[0mkeys\u001b[0m\u001b[1;33m)\u001b[0m\u001b[1;33m\u001b[0m\u001b[0m\n\u001b[0m\u001b[0;32m    136\u001b[0m     \u001b[0magged\u001b[0m \u001b[1;33m=\u001b[0m \u001b[0mgrouped\u001b[0m\u001b[1;33m.\u001b[0m\u001b[0magg\u001b[0m\u001b[1;33m(\u001b[0m\u001b[0maggfunc\u001b[0m\u001b[1;33m)\u001b[0m\u001b[1;33m\u001b[0m\u001b[0m\n\u001b[0;32m    137\u001b[0m \u001b[1;33m\u001b[0m\u001b[0m\n",
      "\u001b[1;32mC:\\Anaconda3\\lib\\site-packages\\pandas\\core\\generic.py\u001b[0m in \u001b[0;36mgroupby\u001b[1;34m(self, by, axis, level, as_index, sort, group_keys, squeeze, **kwargs)\u001b[0m\n\u001b[0;32m   4269\u001b[0m         return groupby(self, by=by, axis=axis, level=level, as_index=as_index,\n\u001b[0;32m   4270\u001b[0m                        \u001b[0msort\u001b[0m\u001b[1;33m=\u001b[0m\u001b[0msort\u001b[0m\u001b[1;33m,\u001b[0m \u001b[0mgroup_keys\u001b[0m\u001b[1;33m=\u001b[0m\u001b[0mgroup_keys\u001b[0m\u001b[1;33m,\u001b[0m \u001b[0msqueeze\u001b[0m\u001b[1;33m=\u001b[0m\u001b[0msqueeze\u001b[0m\u001b[1;33m,\u001b[0m\u001b[1;33m\u001b[0m\u001b[0m\n\u001b[1;32m-> 4271\u001b[1;33m                        **kwargs)\n\u001b[0m\u001b[0;32m   4272\u001b[0m \u001b[1;33m\u001b[0m\u001b[0m\n\u001b[0;32m   4273\u001b[0m     def asfreq(self, freq, method=None, how=None, normalize=False,\n",
      "\u001b[1;32mC:\\Anaconda3\\lib\\site-packages\\pandas\\core\\groupby.py\u001b[0m in \u001b[0;36mgroupby\u001b[1;34m(obj, by, **kwds)\u001b[0m\n\u001b[0;32m   1624\u001b[0m         \u001b[1;32mraise\u001b[0m \u001b[0mTypeError\u001b[0m\u001b[1;33m(\u001b[0m\u001b[1;34m'invalid type: %s'\u001b[0m \u001b[1;33m%\u001b[0m \u001b[0mtype\u001b[0m\u001b[1;33m(\u001b[0m\u001b[0mobj\u001b[0m\u001b[1;33m)\u001b[0m\u001b[1;33m)\u001b[0m\u001b[1;33m\u001b[0m\u001b[0m\n\u001b[0;32m   1625\u001b[0m \u001b[1;33m\u001b[0m\u001b[0m\n\u001b[1;32m-> 1626\u001b[1;33m     \u001b[1;32mreturn\u001b[0m \u001b[0mklass\u001b[0m\u001b[1;33m(\u001b[0m\u001b[0mobj\u001b[0m\u001b[1;33m,\u001b[0m \u001b[0mby\u001b[0m\u001b[1;33m,\u001b[0m \u001b[1;33m**\u001b[0m\u001b[0mkwds\u001b[0m\u001b[1;33m)\u001b[0m\u001b[1;33m\u001b[0m\u001b[0m\n\u001b[0m\u001b[0;32m   1627\u001b[0m \u001b[1;33m\u001b[0m\u001b[0m\n\u001b[0;32m   1628\u001b[0m \u001b[1;33m\u001b[0m\u001b[0m\n",
      "\u001b[1;32mC:\\Anaconda3\\lib\\site-packages\\pandas\\core\\groupby.py\u001b[0m in \u001b[0;36m__init__\u001b[1;34m(self, obj, keys, axis, level, grouper, exclusions, selection, as_index, sort, group_keys, squeeze, **kwargs)\u001b[0m\n\u001b[0;32m    390\u001b[0m                                                     \u001b[0mlevel\u001b[0m\u001b[1;33m=\u001b[0m\u001b[0mlevel\u001b[0m\u001b[1;33m,\u001b[0m\u001b[1;33m\u001b[0m\u001b[0m\n\u001b[0;32m    391\u001b[0m                                                     \u001b[0msort\u001b[0m\u001b[1;33m=\u001b[0m\u001b[0msort\u001b[0m\u001b[1;33m,\u001b[0m\u001b[1;33m\u001b[0m\u001b[0m\n\u001b[1;32m--> 392\u001b[1;33m                                                     mutated=self.mutated)\n\u001b[0m\u001b[0;32m    393\u001b[0m \u001b[1;33m\u001b[0m\u001b[0m\n\u001b[0;32m    394\u001b[0m         \u001b[0mself\u001b[0m\u001b[1;33m.\u001b[0m\u001b[0mobj\u001b[0m \u001b[1;33m=\u001b[0m \u001b[0mobj\u001b[0m\u001b[1;33m\u001b[0m\u001b[0m\n",
      "\u001b[1;32mC:\\Anaconda3\\lib\\site-packages\\pandas\\core\\groupby.py\u001b[0m in \u001b[0;36m_get_grouper\u001b[1;34m(obj, key, axis, level, sort, mutated)\u001b[0m\n\u001b[0;32m   2615\u001b[0m                 \u001b[0min_axis\u001b[0m\u001b[1;33m,\u001b[0m \u001b[0mname\u001b[0m\u001b[1;33m,\u001b[0m \u001b[0mlevel\u001b[0m\u001b[1;33m,\u001b[0m \u001b[0mgpr\u001b[0m \u001b[1;33m=\u001b[0m \u001b[1;32mFalse\u001b[0m\u001b[1;33m,\u001b[0m \u001b[1;32mNone\u001b[0m\u001b[1;33m,\u001b[0m \u001b[0mgpr\u001b[0m\u001b[1;33m,\u001b[0m \u001b[1;32mNone\u001b[0m\u001b[1;33m\u001b[0m\u001b[0m\n\u001b[0;32m   2616\u001b[0m             \u001b[1;32melse\u001b[0m\u001b[1;33m:\u001b[0m\u001b[1;33m\u001b[0m\u001b[0m\n\u001b[1;32m-> 2617\u001b[1;33m                 \u001b[1;32mraise\u001b[0m \u001b[0mKeyError\u001b[0m\u001b[1;33m(\u001b[0m\u001b[0mgpr\u001b[0m\u001b[1;33m)\u001b[0m\u001b[1;33m\u001b[0m\u001b[0m\n\u001b[0m\u001b[0;32m   2618\u001b[0m         \u001b[1;32melif\u001b[0m \u001b[0misinstance\u001b[0m\u001b[1;33m(\u001b[0m\u001b[0mgpr\u001b[0m\u001b[1;33m,\u001b[0m \u001b[0mGrouper\u001b[0m\u001b[1;33m)\u001b[0m \u001b[1;32mand\u001b[0m \u001b[0mgpr\u001b[0m\u001b[1;33m.\u001b[0m\u001b[0mkey\u001b[0m \u001b[1;32mis\u001b[0m \u001b[1;32mnot\u001b[0m \u001b[1;32mNone\u001b[0m\u001b[1;33m:\u001b[0m\u001b[1;33m\u001b[0m\u001b[0m\n\u001b[0;32m   2619\u001b[0m             \u001b[1;31m# Add key to exclusions\u001b[0m\u001b[1;33m\u001b[0m\u001b[1;33m\u001b[0m\u001b[0m\n",
      "\u001b[1;31mKeyError\u001b[0m: 'age_labels'"
     ]
    }
   ],
   "source": [
    "# age_group_survival = titanic_survival.pivot_table(index=\"age_labels\", values=\"survived\")\n",
    "# print(age_group_survival)"
   ]
  },
  {
   "cell_type": "code",
   "execution_count": null,
   "metadata": {
    "collapsed": true
   },
   "outputs": [],
   "source": []
  }
 ],
 "metadata": {
  "kernelspec": {
   "display_name": "Python 3",
   "language": "python",
   "name": "python3"
  },
  "language_info": {
   "codemirror_mode": {
    "name": "ipython",
    "version": 3
   },
   "file_extension": ".py",
   "mimetype": "text/x-python",
   "name": "python",
   "nbconvert_exporter": "python",
   "pygments_lexer": "ipython3",
   "version": "3.6.1"
  }
 },
 "nbformat": 4,
 "nbformat_minor": 2
}
