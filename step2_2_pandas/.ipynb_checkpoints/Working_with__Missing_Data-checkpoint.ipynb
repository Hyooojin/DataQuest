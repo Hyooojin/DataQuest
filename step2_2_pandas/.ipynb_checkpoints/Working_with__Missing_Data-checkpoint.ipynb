{
 "cells": [
  {
   "cell_type": "markdown",
   "metadata": {},
   "source": [
    "# # Working With Missing Data\n",
    "[From the dataquest.io site](https://www.dataquest.io/m/83/data-manipulation-with-pandas/5/normalizing-columns-in-a-data-set)\n",
    "### <p style=\"color:Tomato\">Learn to handle missing data using pandas, and a data set on Titanic survival.\n",
    "<p/>\n",
    "#### <p style=\"color:Gray\">Clean and analyze data on passenger survival from the Titanic. Many of the columns, such as age and sex, have missing data.<p/>\n",
    "* cause errors\n",
    "* finding the mean of a column with a missing value is not successful.\n",
    "because it's impossible to average  missing value.\n",
    "\n",
    "\n",
    "<p style=\"color:Blue\">**1. titanic_survival.csv**<p/>"
   ]
  },
  {
   "cell_type": "code",
   "execution_count": 1,
   "metadata": {
    "collapsed": true
   },
   "outputs": [],
   "source": [
    "import pandas as pd"
   ]
  },
  {
   "cell_type": "code",
   "execution_count": 2,
   "metadata": {
    "collapsed": true
   },
   "outputs": [],
   "source": [
    "from IPython.core.interactiveshell import InteractiveShell\n",
    "InteractiveShell.ast_node_interactivity = \"all\""
   ]
  },
  {
   "cell_type": "code",
   "execution_count": 3,
   "metadata": {
    "collapsed": true
   },
   "outputs": [],
   "source": [
    "titanic_survival = pd.read_csv(\"titanic_survival.csv\")"
   ]
  },
  {
   "cell_type": "code",
   "execution_count": 4,
   "metadata": {
    "scrolled": true
   },
   "outputs": [
    {
     "name": "stdout",
     "output_type": "stream",
     "text": [
      "10    47.0\n",
      "11    18.0\n",
      "12    24.0\n",
      "13    26.0\n",
      "14    80.0\n",
      "15     NaN\n",
      "16    24.0\n",
      "17    50.0\n",
      "18    32.0\n",
      "19    36.0\n",
      "20    37.0\n",
      "Name: age, dtype: float64\n"
     ]
    }
   ],
   "source": [
    "age = titanic_survival[\"age\"]\n",
    "print(age.loc[10:20])"
   ]
  },
  {
   "cell_type": "code",
   "execution_count": 5,
   "metadata": {},
   "outputs": [
    {
     "name": "stdout",
     "output_type": "stream",
     "text": [
      "264\n"
     ]
    }
   ],
   "source": [
    "age_is_null = pd.isnull(age)\n",
    "age_null_true = age[age_is_null]\n",
    "age_null_count = len(age_null_true)\n",
    "print(age_null_count)"
   ]
  },
  {
   "cell_type": "markdown",
   "metadata": {},
   "source": [
    "#### <p style=\"color:Gray\">NaN<p/>\n",
    "not a number, to indicate a missing value\n",
    "#### <p style=\"color:Gray\">pandas.isnull()<p/>\n",
    "returns a series of True and False values."
   ]
  },
  {
   "cell_type": "code",
   "execution_count": 6,
   "metadata": {},
   "outputs": [
    {
     "name": "stdout",
     "output_type": "stream",
     "text": [
      "0       False\n",
      "1       False\n",
      "2       False\n",
      "3       False\n",
      "4       False\n",
      "5       False\n",
      "6       False\n",
      "7       False\n",
      "8       False\n",
      "9       False\n",
      "10      False\n",
      "11      False\n",
      "12      False\n",
      "13      False\n",
      "14      False\n",
      "15      False\n",
      "16      False\n",
      "17      False\n",
      "18      False\n",
      "19      False\n",
      "20      False\n",
      "21      False\n",
      "22      False\n",
      "23      False\n",
      "24      False\n",
      "25      False\n",
      "26      False\n",
      "27      False\n",
      "28      False\n",
      "29      False\n",
      "        ...  \n",
      "1280    False\n",
      "1281    False\n",
      "1282    False\n",
      "1283    False\n",
      "1284    False\n",
      "1285    False\n",
      "1286    False\n",
      "1287    False\n",
      "1288    False\n",
      "1289    False\n",
      "1290    False\n",
      "1291    False\n",
      "1292    False\n",
      "1293    False\n",
      "1294    False\n",
      "1295    False\n",
      "1296    False\n",
      "1297    False\n",
      "1298    False\n",
      "1299    False\n",
      "1300    False\n",
      "1301    False\n",
      "1302    False\n",
      "1303    False\n",
      "1304    False\n",
      "1305    False\n",
      "1306    False\n",
      "1307    False\n",
      "1308    False\n",
      "1309     True\n",
      "Name: sex, Length: 1310, dtype: bool\n"
     ]
    }
   ],
   "source": [
    "sex = titanic_survival[\"sex\"]\n",
    "sex_is_null = pd.isnull(sex)\n",
    "print(sex_is_null)"
   ]
  },
  {
   "cell_type": "code",
   "execution_count": 7,
   "metadata": {},
   "outputs": [
    {
     "name": "stdout",
     "output_type": "stream",
     "text": [
      "1309    NaN\n",
      "Name: sex, dtype: object\n"
     ]
    }
   ],
   "source": [
    "sex_null_true = sex[sex_is_null]\n",
    "print(sex_null_true)"
   ]
  },
  {
   "cell_type": "code",
   "execution_count": 8,
   "metadata": {},
   "outputs": [
    {
     "name": "stdout",
     "output_type": "stream",
     "text": [
      "nan\n"
     ]
    }
   ],
   "source": [
    "mean_age = sum(titanic_survival[\"age\"])/len(titanic_survival[\"age\"])\n",
    "print(mean_age)"
   ]
  },
  {
   "cell_type": "markdown",
   "metadata": {},
   "source": [
    "This is because any calculations we do with a null value also result in a null value. "
   ]
  },
  {
   "cell_type": "code",
   "execution_count": 9,
   "metadata": {},
   "outputs": [
    {
     "name": "stdout",
     "output_type": "stream",
     "text": [
      "29.8811345124\n"
     ]
    }
   ],
   "source": [
    "age_is_null = pd.isnull(titanic_survival[\"age\"])\n",
    "good_ages = titanic_survival[\"age\"][age_is_null == False]\n",
    "correct_mean_age = sum(good_ages) / len(good_ages)\n",
    "print(correct_mean_age)"
   ]
  },
  {
   "cell_type": "markdown",
   "metadata": {},
   "source": [
    "#### <p style=\"color:Gray\">Series.mean()<p/>\n",
    "To calculate the mean of a column,<br/>\n",
    "missing values will not be includd in the calculation."
   ]
  },
  {
   "cell_type": "code",
   "execution_count": 10,
   "metadata": {},
   "outputs": [
    {
     "name": "stdout",
     "output_type": "stream",
     "text": [
      "29.8811345124283\n"
     ]
    }
   ],
   "source": [
    "correct_mean_age = titanic_survival[\"age\"].mean()\n",
    "print(correct_mean_age)"
   ]
  },
  {
   "cell_type": "markdown",
   "metadata": {},
   "source": [
    "Assign the mean of the \"fare\" column to correct_mean_fare."
   ]
  },
  {
   "cell_type": "code",
   "execution_count": 15,
   "metadata": {},
   "outputs": [
    {
     "name": "stdout",
     "output_type": "stream",
     "text": [
      "33.29547928134572\n"
     ]
    }
   ],
   "source": [
    "correct_mean_fare = titanic_survival[\"fare\"].mean()\n",
    "print(correct_mean_fare)"
   ]
  },
  {
   "cell_type": "code",
   "execution_count": null,
   "metadata": {
    "collapsed": true
   },
   "outputs": [],
   "source": []
  }
 ],
 "metadata": {
  "kernelspec": {
   "display_name": "Python 3",
   "language": "python",
   "name": "python3"
  },
  "language_info": {
   "codemirror_mode": {
    "name": "ipython",
    "version": 3
   },
   "file_extension": ".py",
   "mimetype": "text/x-python",
   "name": "python",
   "nbconvert_exporter": "python",
   "pygments_lexer": "ipython3",
   "version": "3.6.1"
  }
 },
 "nbformat": 4,
 "nbformat_minor": 2
}
