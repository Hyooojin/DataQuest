{
 "cells": [
  {
   "cell_type": "markdown",
   "metadata": {},
   "source": [
    "* Series objects (collections of values)\n",
    "* DataFrames (collections of Series objects)\n",
    "* Panels (collections of DataFrame objects)"
   ]
  },
  {
   "cell_type": "markdown",
   "metadata": {},
   "source": [
    "## Series objects\n",
    "* Use Numpy arrays, but add valuable features to them for analyzing data.\n",
    "* Allow for mixed data types, and use the NaN Python value for handling missing values.\n",
    "#### Seires object data types\n",
    "* float\n",
    "* int\n",
    "* bool\n",
    "* datetime64[ns]: For date&time, without timezone\n",
    "* timedelta[ns]: For representing differences in dates & times(seconds, minutes, etc.)\n",
    "* category : For categorical values\n",
    "* object : For string values"
   ]
  },
  {
   "cell_type": "markdown",
   "metadata": {},
   "source": [
    "### Dataset\n",
    "A data set containing scores for all movies that have substantive user and critic reviews on IMDB, Rotten Tomatoes, Metacritic, and Fandango.<br>\n",
    "you can download from [their Github repository.](https://github.com/fivethirtyeight/data/tree/master/fandango)"
   ]
  },
  {
   "cell_type": "code",
   "execution_count": null,
   "metadata": {
    "collapsed": true
   },
   "outputs": [],
   "source": []
  }
 ],
 "metadata": {
  "kernelspec": {
   "display_name": "Python 3",
   "language": "python",
   "name": "python3"
  },
  "language_info": {
   "codemirror_mode": {
    "name": "ipython",
    "version": 3
   },
   "file_extension": ".py",
   "mimetype": "text/x-python",
   "name": "python",
   "nbconvert_exporter": "python",
   "pygments_lexer": "ipython3",
   "version": "3.6.1"
  }
 },
 "nbformat": 4,
 "nbformat_minor": 2
}
